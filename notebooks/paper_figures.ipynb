{
 "cells": [
  {
   "cell_type": "code",
   "execution_count": 2,
   "metadata": {},
   "outputs": [],
   "source": [
    "import torch\n",
    "import numpy as np\n",
    "from matplotlib import pyplot as plt\n",
    "import cv2"
   ]
  },
  {
   "cell_type": "code",
   "execution_count": 18,
   "metadata": {},
   "outputs": [
    {
     "data": {
      "image/png": "[encoded data removed]",
      "text/plain": [
       "<Figure size 432x288 with 1 Axes>"
      ]
     },
     "metadata": {
      "needs_background": "light"
     },
     "output_type": "display_data"
    },
    {
     "data": {
      "image/png": "[encoded data removed]",
      "text/plain": [
       "<Figure size 432x288 with 1 Axes>"
      ]
     },
     "metadata": {
      "needs_background": "light"
     },
     "output_type": "display_data"
    },
    {
     "data": {
      "image/png": "[encoded data removed]",
      "text/plain": [
       "<Figure size 432x288 with 1 Axes>"
      ]
     },
     "metadata": {
      "needs_background": "light"
     },
     "output_type": "display_data"
    }
   ],
   "source": [
    "# for dummy attention\n",
    "def imshow_attention(mat):\n",
    "    if isinstance(mat, torch.Tensor):\n",
    "        mat = mat.detach().cpu().numpy()\n",
    "    mat = cv2.resize(mat, None, fx=32, fy=32, interpolation=cv2.INTER_NEAREST)\n",
    "    H, W = mat.shape\n",
    "    mat = mat.reshape(H, W, 1)\n",
    "    high_color = np.array([10, 143, 45]).reshape(1,1,3)\n",
    "    low_color = np.array([199, 252, 213]).reshape(1,1,3)\n",
    "    mat = mat*high_color + (1-mat)*low_color\n",
    "    mat = mat.astype(np.uint8)\n",
    "    plt.imshow(mat)\n",
    "    # plt.yticks([])\n",
    "    # plt.xticks([])\n",
    "    plt.axis('off')\n",
    "    plt.show()\n",
    "\n",
    "score = torch.tensor([\n",
    "    [5, 1, 2, 1],\n",
    "    [3, 2, 1, 2],\n",
    "    [1, 2, 1, 5],\n",
    "    [1, 2, 1, 3],\n",
    "], dtype=torch.float32)\n",
    "prob = torch.softmax(score, dim=-1)\n",
    "reduced_prob = torch.mean(prob, dim=0, keepdim=True)\n",
    "\n",
    "imshow_attention(prob)\n",
    "imshow_attention(reduced_prob)\n",
    "imshow_attention(torch.mean(prob[[0,2],:], dim=0, keepdim=True))"
   ]
  },
  {
   "cell_type": "code",
   "execution_count": null,
   "metadata": {},
   "outputs": [],
   "source": []
  }
 ],
 "metadata": {
  "kernelspec": {
   "display_name": "Python 3.8.12 ('torch')",
   "language": "python",
   "name": "python3"
  },
  "language_info": {
   "codemirror_mode": {
    "name": "ipython",
    "version": 3
   },
   "file_extension": ".py",
   "mimetype": "text/x-python",
   "name": "python",
   "nbconvert_exporter": "python",
   "pygments_lexer": "ipython3",
   "version": "3.8.12"
  },
  "orig_nbformat": 4,
  "vscode": {
   "interpreter": {
    "hash": "58c896f8fe28377dc6f47dbc9814b9367447c8ff4b1090ace6962dd6db7d2533"
   }
  }
 },
 "nbformat": 4,
 "nbformat_minor": 2
}
