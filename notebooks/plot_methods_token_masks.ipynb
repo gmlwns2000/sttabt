{
 "cells": [
  {
   "cell_type": "code",
   "execution_count": 1,
   "metadata": {},
   "outputs": [],
   "source": [
    "from matplotlib import pyplot as plt\n",
    "\n",
    "def imshow(img):\n",
    "    import torch\n",
    "    if isinstance(img, torch.Tensor):\n",
    "        img = img.detach().cpu().numpy()\n",
    "    plt.imshow(img)\n",
    "    plt.show()"
   ]
  },
  {
   "cell_type": "code",
   "execution_count": 2,
   "metadata": {},
   "outputs": [
    {
     "name": "stderr",
     "output_type": "stream",
     "text": [
      "/home/ainl/anaconda3/envs/torch/lib/python3.8/site-packages/tqdm/auto.py:22: TqdmWarning: IProgress not found. Please update jupyter and ipywidgets. See https://ipywidgets.readthedocs.io/en/stable/user_install.html\n",
      "  from .autonotebook import tqdm as notebook_tqdm\n"
     ]
    }
   ],
   "source": [
    "import torch\n",
    "import transformers"
   ]
  },
  {
   "cell_type": "code",
   "execution_count": 3,
   "metadata": {},
   "outputs": [
    {
     "data": {
      "text/plain": [
       "(tensor([[ 101, 7592, 1010, 2088,  999,  102, 1045, 2293, 8870, 1012,  102,    0,\n",
       "             0,    0,    0,    0,    0,    0,    0,    0,    0],\n",
       "         [ 101, 2023, 2003, 1996, 2742,  102, 1045, 2215, 2000, 2022, 3407,  102,\n",
       "             0,    0,    0,    0,    0,    0,    0,    0,    0],\n",
       "         [ 101, 3198, 2025, 2054, 2115, 2406, 2064, 2079, 2005, 2017,  102, 3198,\n",
       "          2054, 2017, 2064, 2079, 2005, 2115, 2406, 1012,  102]]),\n",
       " '[CLS] hello, world! [SEP] i love cats. [SEP] [PAD] [PAD] [PAD] [PAD] [PAD] [PAD] [PAD] [PAD] [PAD] [PAD]')"
      ]
     },
     "execution_count": 3,
     "metadata": {},
     "output_type": "execute_result"
    }
   ],
   "source": [
    "TEXTS = [\n",
    "    \"Hello, World! [SEP] I love cats.\",\n",
    "    \"This is the example [SEP] I want to be happy\",\n",
    "    \"Ask not what your country can do for you [SEP] Ask what you can do for your country.\",\n",
    "]\n",
    "\n",
    "model_id_hf = 'bert-base-uncased'\n",
    "tokenizer = transformers.BertTokenizerFast.from_pretrained(model_id_hf)\n",
    "tokenized_result = tokenizer(TEXTS, padding=True, max_length=512, truncation=True, return_tensors=\"pt\")\n",
    "tokenized_result['input_ids'], tokenizer.decode(tokenized_result['input_ids'][0])"
   ]
  },
  {
   "cell_type": "code",
   "execution_count": 4,
   "metadata": {},
   "outputs": [
    {
     "name": "stdout",
     "output_type": "stream",
     "text": [
      "Trainer: mrpc\n",
      "Trainer: Checkpoint path saves/glue-mrpc-4.pth\n"
     ]
    }
   ],
   "source": [
    "# Manual top-k\n",
    "from models import sparse_token as sparse\n",
    "from trainer import glue_base\n",
    "\n",
    "topk_trainer = glue_base.GlueAttentionApproxTrainer('mrpc', factor=4, batch_size=1, wiki_train=False, device='cpu')\n",
    "target_ks = 0.5\n",
    "if target_ks <= 0.666:\n",
    "    ksx = [target_ks*0.5+((1-x/10.0)**1.0) * target_ks for x in range(12)]\n",
    "else:\n",
    "    ksx = [(1-x/10.0)*(2-2*target_ks)+(2*target_ks-1) for x in range(12)]\n"
   ]
  },
  {
   "cell_type": "code",
   "execution_count": 7,
   "metadata": {},
   "outputs": [
    {
     "data": {
      "image/png": "[encoded data removed]",
      "text/plain": [
       "<Figure size 432x288 with 1 Axes>"
      ]
     },
     "metadata": {
      "needs_background": "light"
     },
     "output_type": "display_data"
    },
    {
     "data": {
      "image/png": "[encoded data removed]",
      "text/plain": [
       "<Figure size 432x288 with 1 Axes>"
      ]
     },
     "metadata": {
      "needs_background": "light"
     },
     "output_type": "display_data"
    }
   ],
   "source": [
    "BATCH_IDX = 2\n",
    "wrapped_bert = sparse.ApproxSparseBertModel(topk_trainer.model_bert, approx_bert=topk_trainer.approx_bert.module, ks=ksx)\n",
    "wrapped_bert.use_forward_sparse = True\n",
    "wrapped_bert.run_original_attention = False\n",
    "wrapped_bert.sparse_bert.load_state_dict(topk_trainer.model.bert.state_dict(), strict=False)\n",
    "wrapped_bert.to('cpu')\n",
    "\n",
    "output = wrapped_bert(\n",
    "    input_ids=tokenized_result['input_ids'], \n",
    "    attention_mask=tokenized_result['attention_mask'],\n",
    "    output_attentions=True\n",
    ")\n",
    "imshow(torch.mean(output['attentions'][0][BATCH_IDX], dim=0))\n",
    "\n",
    "masks = []\n",
    "for layer in wrapped_bert.sparse_bert.encoder.layer:\n",
    "    indices = layer.output.dense.channel_indices\n",
    "    mask = torch.zeros(tokenized_result['input_ids'].shape[0], tokenized_result['input_ids'].shape[1], device='cpu', dtype=torch.float32)\\\n",
    "        .scatter_(1, indices.squeeze(-1), 1.0)\n",
    "    masks.append(mask[BATCH_IDX])\n",
    "imshow(torch.stack(masks, dim=0))"
   ]
  },
  {
   "cell_type": "code",
   "execution_count": 2,
   "metadata": {},
   "outputs": [],
   "source": [
    "# Attention back-tracking"
   ]
  },
  {
   "cell_type": "code",
   "execution_count": null,
   "metadata": {},
   "outputs": [],
   "source": [
    "# Concrete masking"
   ]
  }
 ],
 "metadata": {
  "kernelspec": {
   "display_name": "Python 3.8.12 ('torch')",
   "language": "python",
   "name": "python3"
  },
  "language_info": {
   "codemirror_mode": {
    "name": "ipython",
    "version": 3
   },
   "file_extension": ".py",
   "mimetype": "text/x-python",
   "name": "python",
   "nbconvert_exporter": "python",
   "pygments_lexer": "ipython3",
   "version": "3.8.12"
  },
  "orig_nbformat": 4,
  "vscode": {
   "interpreter": {
    "hash": "58c896f8fe28377dc6f47dbc9814b9367447c8ff4b1090ace6962dd6db7d2533"
   }
  }
 },
 "nbformat": 4,
 "nbformat_minor": 2
}
