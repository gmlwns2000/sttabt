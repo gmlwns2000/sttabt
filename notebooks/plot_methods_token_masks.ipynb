{
 "cells": [
  {
   "cell_type": "code",
   "execution_count": 12,
   "metadata": {},
   "outputs": [],
   "source": [
    "import transformers\n",
    "\n",
    "TEXTS = [\n",
    "    \"[CLS] Hello, World! [SEP] I love cats. [SEP]\",\n",
    "    \"[CLS] This is the example [SEP] I want to be happy [SEP]\",\n",
    "    \"[CLS] Ask not what your country can do for you [SEP] Ask what you can do for your country. [SEP]\",\n",
    "]\n",
    "\n",
    "model_id_hf = 'bert-base-uncased'\n",
    "tokenizer = transformers.BertTokenizerFast.from_pretrained(model_id_hf)\n",
    "tokenized_result = tokenizer(TEXTS, padding=True, max_length=512, truncation=True, return_tensors=\"pt\")\n",
    "tokenized_result['input_ids'], tokenizer.decode(tokenized_result['input_ids'])"
   ]
  },
  {
   "cell_type": "code",
   "execution_count": 1,
   "metadata": {},
   "outputs": [],
   "source": [
    "# Manual top-k"
   ]
  },
  {
   "cell_type": "code",
   "execution_count": 2,
   "metadata": {},
   "outputs": [],
   "source": [
    "# Attention back-tracking"
   ]
  },
  {
   "cell_type": "code",
   "execution_count": null,
   "metadata": {},
   "outputs": [],
   "source": [
    "# Concrete masking"
   ]
  }
 ],
 "metadata": {
  "kernelspec": {
   "display_name": "Python 3.9.5 ('torch')",
   "language": "python",
   "name": "python3"
  },
  "language_info": {
   "codemirror_mode": {
    "name": "ipython",
    "version": 3
   },
   "file_extension": ".py",
   "mimetype": "text/x-python",
   "name": "python",
   "nbconvert_exporter": "python",
   "pygments_lexer": "ipython3",
   "version": "3.9.5"
  },
  "orig_nbformat": 4,
  "vscode": {
   "interpreter": {
    "hash": "b60c80f82950b752af00aa00b10c7536815afcc403735623c9df587c041a5446"
   }
  }
 },
 "nbformat": 4,
 "nbformat_minor": 2
}
