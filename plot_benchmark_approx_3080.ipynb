{
 "cells": [
  {
   "cell_type": "code",
   "execution_count": 9,
   "metadata": {},
   "outputs": [],
   "source": [
    "from utils.plot_benchmark import *\n",
    "exp_batch_size = {'bert-mini':512, 'bert-base':128}"
   ]
  },
  {
   "cell_type": "code",
   "execution_count": null,
   "metadata": {},
   "outputs": [],
   "source": [
    "exp_device = 'cuda'\n",
    "exp_amp = False\n",
    "exp_skip_accuracy = False\n",
    "exp_batch_size = {'bert-mini':512, 'bert-base':128}\n",
    "\n",
    "result_mini = plot_exp('bert-mini')"
   ]
  },
  {
   "cell_type": "code",
   "execution_count": null,
   "metadata": {},
   "outputs": [],
   "source": [
    "exp_device = 'cuda'\n",
    "exp_amp = False\n",
    "exp_skip_accuracy = False\n",
    "exp_batch_size = {'bert-mini':512, 'bert-base':128}\n",
    "\n",
    "result_base = plot_exp('bert-base')"
   ]
  },
  {
   "cell_type": "code",
   "execution_count": null,
   "metadata": {},
   "outputs": [],
   "source": [
    "exp_device = 'cpu'\n",
    "exp_amp = False\n",
    "exp_skip_accuracy = True\n",
    "exp_batch_size = {'bert-mini':16, 'bert-base':4}\n",
    "\n",
    "result_mini = plot_exp('bert-mini')"
   ]
  },
  {
   "cell_type": "code",
   "execution_count": null,
   "metadata": {},
   "outputs": [],
   "source": [
    "exp_device = 'cpu'\n",
    "exp_amp = False\n",
    "exp_skip_accuracy = True\n",
    "exp_batch_size = {'bert-mini':16, 'bert-base':4}\n",
    "\n",
    "result_mini = plot_exp('bert-base')"
   ]
  },
  {
   "cell_type": "code",
   "execution_count": null,
   "metadata": {},
   "outputs": [],
   "source": [
    "exp_device = 'cuda'\n",
    "exp_amp = True\n",
    "exp_skip_accuracy = True\n",
    "exp_batch_size = {'bert-mini':512, 'bert-base':128}\n",
    "\n",
    "result_mini = plot_exp('bert-base')"
   ]
  },
  {
   "cell_type": "code",
   "execution_count": null,
   "metadata": {},
   "outputs": [],
   "source": []
  }
 ],
 "metadata": {
  "interpreter": {
   "hash": "f7b3ac0126d0d6fea024471ce24e510948bf6332f7ae1a66cdcb4ee9887514e9"
  },
  "kernelspec": {
   "display_name": "Python 3.8.3 64-bit ('tensorflow': conda)",
   "name": "python3"
  },
  "language_info": {
   "codemirror_mode": {
    "name": "ipython",
    "version": 3
   },
   "file_extension": ".py",
   "mimetype": "text/x-python",
   "name": "python",
   "nbconvert_exporter": "python",
   "pygments_lexer": "ipython3",
   "version": "3.8.12"
  },
  "orig_nbformat": 4
 },
 "nbformat": 4,
 "nbformat_minor": 2
}
