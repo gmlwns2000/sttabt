{
 "cells": [
  {
   "cell_type": "code",
   "execution_count": 1,
   "metadata": {},
   "outputs": [
    {
     "name": "stderr",
     "output_type": "stream",
     "text": [
      "/home/ainl/anaconda3/envs/torch/lib/python3.8/site-packages/tqdm/auto.py:22: TqdmWarning: IProgress not found. Please update jupyter and ipywidgets. See https://ipywidgets.readthedocs.io/en/stable/user_install.html\n",
      "  from .autonotebook import tqdm as notebook_tqdm\n"
     ]
    }
   ],
   "source": [
    "import trainer.glue_base as glue_base\n",
    "import models.sparse_token as sparse\n",
    "import pickle, importlib\n",
    "importlib.reload(glue_base)\n",
    "importlib.reload(sparse)\n",
    "Glue = glue_base.GlueAttentionApproxTrainer"
   ]
  },
  {
   "cell_type": "code",
   "execution_count": 2,
   "metadata": {},
   "outputs": [
    {
     "name": "stdout",
     "output_type": "stream",
     "text": [
      "Trainer: cola\n"
     ]
    },
    {
     "name": "stderr",
     "output_type": "stream",
     "text": [
      "Reusing dataset glue (/home/ainl/.cache/huggingface/datasets/glue/cola/1.0.0/dacbe3125aa31d7f70367a07a8a9e72a5a0bfeb5fc42e75c9db75b96da6053ad)\n",
      "Loading cached processed dataset at /home/ainl/.cache/huggingface/datasets/glue/cola/1.0.0/dacbe3125aa31d7f70367a07a8a9e72a5a0bfeb5fc42e75c9db75b96da6053ad/cache-f0e04bff3297c11c.arrow\n",
      "Loading cached processed dataset at /home/ainl/.cache/huggingface/datasets/glue/cola/1.0.0/dacbe3125aa31d7f70367a07a8a9e72a5a0bfeb5fc42e75c9db75b96da6053ad/cache-b9e7d91153cc59cf.arrow\n",
      "Reusing dataset glue (/home/ainl/.cache/huggingface/datasets/glue/cola/1.0.0/dacbe3125aa31d7f70367a07a8a9e72a5a0bfeb5fc42e75c9db75b96da6053ad)\n",
      "Loading cached processed dataset at /home/ainl/.cache/huggingface/datasets/glue/cola/1.0.0/dacbe3125aa31d7f70367a07a8a9e72a5a0bfeb5fc42e75c9db75b96da6053ad/cache-7e570c95fb4f22e4.arrow\n",
      "Loading cached processed dataset at /home/ainl/.cache/huggingface/datasets/glue/cola/1.0.0/dacbe3125aa31d7f70367a07a8a9e72a5a0bfeb5fc42e75c9db75b96da6053ad/cache-ea01f5acc0495bfd.arrow\n"
     ]
    },
    {
     "name": "stdout",
     "output_type": "stream",
     "text": [
      "Trainer: Save checkpoint path saves/glue-cola-16.pth\n"
     ]
    },
    {
     "name": "stderr",
     "output_type": "stream",
     "text": [
      "eval: 100%|██████████| 131/131 [00:01<00:00, 80.93it/s] \n"
     ]
    },
    {
     "name": "stdout",
     "output_type": "stream",
     "text": [
      "metric score {'matthews_correlation': 0.5338774230813111}\n",
      "avg occupy 0.34522852946633237\n"
     ]
    },
    {
     "name": "stderr",
     "output_type": "stream",
     "text": [
      "eval: 100%|██████████| 131/131 [00:17<00:00,  7.38it/s]\n"
     ]
    },
    {
     "name": "stdout",
     "output_type": "stream",
     "text": [
      "metric score {'matthews_correlation': 0.07074768586262509}\n",
      "avg occupy 0.34522852946633237\n",
      "1/72 | cola 0.1 = 0.07075\n"
     ]
    },
    {
     "name": "stderr",
     "output_type": "stream",
     "text": [
      "eval: 100%|██████████| 131/131 [00:17<00:00,  7.30it/s]\n"
     ]
    },
    {
     "name": "stdout",
     "output_type": "stream",
     "text": [
      "metric score {'matthews_correlation': 0.25567324640786576}\n",
      "avg occupy 0.34522852946633237\n",
      "2/72 | cola 0.25 = 0.25567\n"
     ]
    },
    {
     "name": "stderr",
     "output_type": "stream",
     "text": [
      "eval: 100%|██████████| 131/131 [00:17<00:00,  7.30it/s]\n"
     ]
    },
    {
     "name": "stdout",
     "output_type": "stream",
     "text": [
      "metric score {'matthews_correlation': 0.4463005725994233}\n",
      "avg occupy 0.34522852946633237\n",
      "3/72 | cola 0.375 = 0.44630\n"
     ]
    },
    {
     "name": "stderr",
     "output_type": "stream",
     "text": [
      "eval: 100%|██████████| 131/131 [00:18<00:00,  7.27it/s]\n"
     ]
    },
    {
     "name": "stdout",
     "output_type": "stream",
     "text": [
      "metric score {'matthews_correlation': 0.46607835414142795}\n",
      "avg occupy 0.34522852946633237\n",
      "4/72 | cola 0.5 = 0.46608\n"
     ]
    },
    {
     "name": "stderr",
     "output_type": "stream",
     "text": [
      "eval: 100%|██████████| 131/131 [00:18<00:00,  7.26it/s]\n"
     ]
    },
    {
     "name": "stdout",
     "output_type": "stream",
     "text": [
      "metric score {'matthews_correlation': 0.5046053779136671}\n",
      "avg occupy 0.34522852946633237\n",
      "5/72 | cola 0.625 = 0.50461\n"
     ]
    },
    {
     "name": "stderr",
     "output_type": "stream",
     "text": [
      "eval: 100%|██████████| 131/131 [00:18<00:00,  7.27it/s]\n"
     ]
    },
    {
     "name": "stdout",
     "output_type": "stream",
     "text": [
      "metric score {'matthews_correlation': 0.5259287977773666}\n",
      "avg occupy 0.34522852946633237\n",
      "6/72 | cola 0.75 = 0.52593\n"
     ]
    },
    {
     "name": "stderr",
     "output_type": "stream",
     "text": [
      "eval: 100%|██████████| 131/131 [00:17<00:00,  7.36it/s]\n"
     ]
    },
    {
     "name": "stdout",
     "output_type": "stream",
     "text": [
      "metric score {'matthews_correlation': 0.5311686988596115}\n",
      "avg occupy 0.34522852946633237\n",
      "7/72 | cola 0.875 = 0.53117\n"
     ]
    },
    {
     "name": "stderr",
     "output_type": "stream",
     "text": [
      "eval: 100%|██████████| 131/131 [00:17<00:00,  7.33it/s]\n"
     ]
    },
    {
     "name": "stdout",
     "output_type": "stream",
     "text": [
      "metric score {'matthews_correlation': 0.5311983410233877}\n",
      "avg occupy 0.34522852946633237\n",
      "8/72 | cola 0.999 = 0.53120\n",
      "Trainer: mnli\n"
     ]
    },
    {
     "name": "stderr",
     "output_type": "stream",
     "text": [
      "Reusing dataset glue (/home/ainl/.cache/huggingface/datasets/glue/mnli/1.0.0/dacbe3125aa31d7f70367a07a8a9e72a5a0bfeb5fc42e75c9db75b96da6053ad)\n",
      "Loading cached processed dataset at /home/ainl/.cache/huggingface/datasets/glue/mnli/1.0.0/dacbe3125aa31d7f70367a07a8a9e72a5a0bfeb5fc42e75c9db75b96da6053ad/cache-50a4e6dd970a585c.arrow\n",
      "Loading cached processed dataset at /home/ainl/.cache/huggingface/datasets/glue/mnli/1.0.0/dacbe3125aa31d7f70367a07a8a9e72a5a0bfeb5fc42e75c9db75b96da6053ad/cache-583e5dc11ca81ae7.arrow\n",
      "Reusing dataset glue (/home/ainl/.cache/huggingface/datasets/glue/mnli/1.0.0/dacbe3125aa31d7f70367a07a8a9e72a5a0bfeb5fc42e75c9db75b96da6053ad)\n",
      "Loading cached processed dataset at /home/ainl/.cache/huggingface/datasets/glue/mnli/1.0.0/dacbe3125aa31d7f70367a07a8a9e72a5a0bfeb5fc42e75c9db75b96da6053ad/cache-1d54c3b4b02aa479.arrow\n",
      "Loading cached processed dataset at /home/ainl/.cache/huggingface/datasets/glue/mnli/1.0.0/dacbe3125aa31d7f70367a07a8a9e72a5a0bfeb5fc42e75c9db75b96da6053ad/cache-ea9dcd50ea1167f5.arrow\n"
     ]
    },
    {
     "name": "stdout",
     "output_type": "stream",
     "text": [
      "Trainer: Save checkpoint path saves/glue-mnli-16.pth\n"
     ]
    },
    {
     "name": "stderr",
     "output_type": "stream",
     "text": [
      "eval: 100%|██████████| 1227/1227 [00:26<00:00, 45.63it/s]\n"
     ]
    },
    {
     "name": "stdout",
     "output_type": "stream",
     "text": [
      "metric score {'accuracy': 0.8419765664798777}\n",
      "avg occupy 0.2057366697815377\n"
     ]
    },
    {
     "name": "stderr",
     "output_type": "stream",
     "text": [
      "eval:  89%|████████▉ | 1097/1227 [12:58<01:32,  1.41it/s]\n"
     ]
    },
    {
     "ename": "KeyboardInterrupt",
     "evalue": "",
     "output_type": "error",
     "traceback": [
      "\u001b[0;31m---------------------------------------------------------------------------\u001b[0m",
      "\u001b[0;31mKeyboardInterrupt\u001b[0m                         Traceback (most recent call last)",
      "\u001b[1;32m/home/ainl/library/discrete_edge_learning/plot_benchmark_glue_forward.ipynb Cell 2'\u001b[0m in \u001b[0;36m<module>\u001b[0;34m\u001b[0m\n\u001b[1;32m     <a href='vscode-notebook-cell://ssh-remote%2Bmlai-lab-desk/home/ainl/library/discrete_edge_learning/plot_benchmark_glue_forward.ipynb#ch0000001vscode-remote?line=23'>24</a>\u001b[0m \u001b[39mfor\u001b[39;00m ks \u001b[39min\u001b[39;00m kss:\n\u001b[1;32m     <a href='vscode-notebook-cell://ssh-remote%2Bmlai-lab-desk/home/ainl/library/discrete_edge_learning/plot_benchmark_glue_forward.ipynb#ch0000001vscode-remote?line=24'>25</a>\u001b[0m     sparse\u001b[39m.\u001b[39mbenchmark_reset()\n\u001b[0;32m---> <a href='vscode-notebook-cell://ssh-remote%2Bmlai-lab-desk/home/ainl/library/discrete_edge_learning/plot_benchmark_glue_forward.ipynb#ch0000001vscode-remote?line=25'>26</a>\u001b[0m     sparse_score, _ \u001b[39m=\u001b[39m get_score(trainer\u001b[39m.\u001b[39;49meval_sparse_model(ks\u001b[39m=\u001b[39;49mks, use_forward\u001b[39m=\u001b[39;49m\u001b[39mTrue\u001b[39;49;00m))\n\u001b[1;32m     <a href='vscode-notebook-cell://ssh-remote%2Bmlai-lab-desk/home/ainl/library/discrete_edge_learning/plot_benchmark_glue_forward.ipynb#ch0000001vscode-remote?line=26'>27</a>\u001b[0m     \u001b[39mif\u001b[39;00m \u001b[39misinstance\u001b[39m(ks, \u001b[39mstr\u001b[39m) \u001b[39mand\u001b[39;00m ks\u001b[39m.\u001b[39mstartswith(\u001b[39m'\u001b[39m\u001b[39mdynamic\u001b[39m\u001b[39m'\u001b[39m):\n\u001b[1;32m     <a href='vscode-notebook-cell://ssh-remote%2Bmlai-lab-desk/home/ainl/library/discrete_edge_learning/plot_benchmark_glue_forward.ipynb#ch0000001vscode-remote?line=27'>28</a>\u001b[0m         est_k \u001b[39m=\u001b[39m sparse\u001b[39m.\u001b[39mbenchmark_get_average(\u001b[39m'\u001b[39m\u001b[39mest_k\u001b[39m\u001b[39m'\u001b[39m)\n",
      "File \u001b[0;32m~/library/discrete_edge_learning/trainer/glue_base.py:231\u001b[0m, in \u001b[0;36mGlueAttentionApproxTrainer.eval_sparse_model\u001b[0;34m(self, ks, use_forward)\u001b[0m\n\u001b[1;32m    <a href='file:///home/ainl/library/discrete_edge_learning/trainer/glue_base.py?line=227'>228</a>\u001b[0m sparse_cls_bert\u001b[39m.\u001b[39mbert \u001b[39m=\u001b[39m wrapped_bert\n\u001b[1;32m    <a href='file:///home/ainl/library/discrete_edge_learning/trainer/glue_base.py?line=228'>229</a>\u001b[0m sparse_cls_bert\u001b[39m.\u001b[39mto(\u001b[39mself\u001b[39m\u001b[39m.\u001b[39mdevice)\u001b[39m.\u001b[39meval()\n\u001b[0;32m--> <a href='file:///home/ainl/library/discrete_edge_learning/trainer/glue_base.py?line=230'>231</a>\u001b[0m sparse_result \u001b[39m=\u001b[39m \u001b[39mself\u001b[39;49m\u001b[39m.\u001b[39;49meval_base_model(model \u001b[39m=\u001b[39;49m sparse_cls_bert)\n\u001b[1;32m    <a href='file:///home/ainl/library/discrete_edge_learning/trainer/glue_base.py?line=231'>232</a>\u001b[0m \u001b[39mreturn\u001b[39;00m sparse_result\n",
      "File \u001b[0;32m~/library/discrete_edge_learning/trainer/glue_base.py:187\u001b[0m, in \u001b[0;36mGlueAttentionApproxTrainer.eval_base_model\u001b[0;34m(self, model, amp)\u001b[0m\n\u001b[1;32m    <a href='file:///home/ainl/library/discrete_edge_learning/trainer/glue_base.py?line=184'>185</a>\u001b[0m     \u001b[39mif\u001b[39;00m \u001b[39mself\u001b[39m\u001b[39m.\u001b[39mdataset \u001b[39m!=\u001b[39m \u001b[39m'\u001b[39m\u001b[39mstsb\u001b[39m\u001b[39m'\u001b[39m: \n\u001b[1;32m    <a href='file:///home/ainl/library/discrete_edge_learning/trainer/glue_base.py?line=185'>186</a>\u001b[0m         predictions \u001b[39m=\u001b[39m torch\u001b[39m.\u001b[39margmax(predictions, dim\u001b[39m=\u001b[39m\u001b[39m-\u001b[39m\u001b[39m1\u001b[39m)\n\u001b[0;32m--> <a href='file:///home/ainl/library/discrete_edge_learning/trainer/glue_base.py?line=186'>187</a>\u001b[0m     metric\u001b[39m.\u001b[39;49madd_batch(predictions\u001b[39m=\u001b[39;49mpredictions, references\u001b[39m=\u001b[39;49mlabels)\n\u001b[1;32m    <a href='file:///home/ainl/library/discrete_edge_learning/trainer/glue_base.py?line=187'>188</a>\u001b[0m     \u001b[39m#if i > 100: break\u001b[39;00m\n\u001b[1;32m    <a href='file:///home/ainl/library/discrete_edge_learning/trainer/glue_base.py?line=189'>190</a>\u001b[0m score \u001b[39m=\u001b[39m metric\u001b[39m.\u001b[39mcompute()\n",
      "File \u001b[0;32m~/anaconda3/envs/torch/lib/python3.8/site-packages/datasets/metric.py:437\u001b[0m, in \u001b[0;36mMetric.add_batch\u001b[0;34m(self, predictions, references)\u001b[0m\n\u001b[1;32m    <a href='file:///home/ainl/anaconda3/envs/torch/lib/python3.8/site-packages/datasets/metric.py?line=429'>430</a>\u001b[0m \u001b[39m\"\"\"Add a batch of predictions and references for the metric's stack.\u001b[39;00m\n\u001b[1;32m    <a href='file:///home/ainl/anaconda3/envs/torch/lib/python3.8/site-packages/datasets/metric.py?line=430'>431</a>\u001b[0m \n\u001b[1;32m    <a href='file:///home/ainl/anaconda3/envs/torch/lib/python3.8/site-packages/datasets/metric.py?line=431'>432</a>\u001b[0m \u001b[39mArgs:\u001b[39;00m\n\u001b[1;32m    <a href='file:///home/ainl/anaconda3/envs/torch/lib/python3.8/site-packages/datasets/metric.py?line=432'>433</a>\u001b[0m \u001b[39m    predictions (list/array/tensor, optional): Predictions.\u001b[39;00m\n\u001b[1;32m    <a href='file:///home/ainl/anaconda3/envs/torch/lib/python3.8/site-packages/datasets/metric.py?line=433'>434</a>\u001b[0m \u001b[39m    references (list/array/tensor, optional): References.\u001b[39;00m\n\u001b[1;32m    <a href='file:///home/ainl/anaconda3/envs/torch/lib/python3.8/site-packages/datasets/metric.py?line=434'>435</a>\u001b[0m \u001b[39m\"\"\"\u001b[39;00m\n\u001b[1;32m    <a href='file:///home/ainl/anaconda3/envs/torch/lib/python3.8/site-packages/datasets/metric.py?line=435'>436</a>\u001b[0m batch \u001b[39m=\u001b[39m {\u001b[39m\"\u001b[39m\u001b[39mpredictions\u001b[39m\u001b[39m\"\u001b[39m: predictions, \u001b[39m\"\u001b[39m\u001b[39mreferences\u001b[39m\u001b[39m\"\u001b[39m: references}\n\u001b[0;32m--> <a href='file:///home/ainl/anaconda3/envs/torch/lib/python3.8/site-packages/datasets/metric.py?line=436'>437</a>\u001b[0m batch \u001b[39m=\u001b[39m \u001b[39mself\u001b[39;49m\u001b[39m.\u001b[39;49minfo\u001b[39m.\u001b[39;49mfeatures\u001b[39m.\u001b[39;49mencode_batch(batch)\n\u001b[1;32m    <a href='file:///home/ainl/anaconda3/envs/torch/lib/python3.8/site-packages/datasets/metric.py?line=437'>438</a>\u001b[0m \u001b[39mif\u001b[39;00m \u001b[39mself\u001b[39m\u001b[39m.\u001b[39mwriter \u001b[39mis\u001b[39;00m \u001b[39mNone\u001b[39;00m:\n\u001b[1;32m    <a href='file:///home/ainl/anaconda3/envs/torch/lib/python3.8/site-packages/datasets/metric.py?line=438'>439</a>\u001b[0m     \u001b[39mself\u001b[39m\u001b[39m.\u001b[39m_init_writer()\n",
      "File \u001b[0;32m~/anaconda3/envs/torch/lib/python3.8/site-packages/datasets/features/features.py:1304\u001b[0m, in \u001b[0;36mFeatures.encode_batch\u001b[0;34m(self, batch)\u001b[0m\n\u001b[1;32m   <a href='file:///home/ainl/anaconda3/envs/torch/lib/python3.8/site-packages/datasets/features/features.py?line=1301'>1302</a>\u001b[0m     \u001b[39mraise\u001b[39;00m \u001b[39mValueError\u001b[39;00m(\u001b[39mf\u001b[39m\u001b[39m\"\u001b[39m\u001b[39mColumn mismatch between batch \u001b[39m\u001b[39m{\u001b[39;00m\u001b[39mset\u001b[39m(batch)\u001b[39m}\u001b[39;00m\u001b[39m and features \u001b[39m\u001b[39m{\u001b[39;00m\u001b[39mset\u001b[39m(\u001b[39mself\u001b[39m)\u001b[39m}\u001b[39;00m\u001b[39m\"\u001b[39m)\n\u001b[1;32m   <a href='file:///home/ainl/anaconda3/envs/torch/lib/python3.8/site-packages/datasets/features/features.py?line=1302'>1303</a>\u001b[0m \u001b[39mfor\u001b[39;00m key, column \u001b[39min\u001b[39;00m batch\u001b[39m.\u001b[39mitems():\n\u001b[0;32m-> <a href='file:///home/ainl/anaconda3/envs/torch/lib/python3.8/site-packages/datasets/features/features.py?line=1303'>1304</a>\u001b[0m     column \u001b[39m=\u001b[39m cast_to_python_objects(column)\n\u001b[1;32m   <a href='file:///home/ainl/anaconda3/envs/torch/lib/python3.8/site-packages/datasets/features/features.py?line=1304'>1305</a>\u001b[0m     encoded_batch[key] \u001b[39m=\u001b[39m [encode_nested_example(\u001b[39mself\u001b[39m[key], obj) \u001b[39mfor\u001b[39;00m obj \u001b[39min\u001b[39;00m column]\n\u001b[1;32m   <a href='file:///home/ainl/anaconda3/envs/torch/lib/python3.8/site-packages/datasets/features/features.py?line=1305'>1306</a>\u001b[0m \u001b[39mreturn\u001b[39;00m encoded_batch\n",
      "File \u001b[0;32m~/anaconda3/envs/torch/lib/python3.8/site-packages/datasets/features/features.py:363\u001b[0m, in \u001b[0;36mcast_to_python_objects\u001b[0;34m(obj, only_1d_for_numpy)\u001b[0m\n\u001b[1;32m    <a href='file:///home/ainl/anaconda3/envs/torch/lib/python3.8/site-packages/datasets/features/features.py?line=347'>348</a>\u001b[0m \u001b[39mdef\u001b[39;00m \u001b[39mcast_to_python_objects\u001b[39m(obj: Any, only_1d_for_numpy\u001b[39m=\u001b[39m\u001b[39mFalse\u001b[39;00m) \u001b[39m-\u001b[39m\u001b[39m>\u001b[39m Any:\n\u001b[1;32m    <a href='file:///home/ainl/anaconda3/envs/torch/lib/python3.8/site-packages/datasets/features/features.py?line=348'>349</a>\u001b[0m     \u001b[39m\"\"\"\u001b[39;00m\n\u001b[1;32m    <a href='file:///home/ainl/anaconda3/envs/torch/lib/python3.8/site-packages/datasets/features/features.py?line=349'>350</a>\u001b[0m \u001b[39m    Cast numpy/pytorch/tensorflow/pandas objects to python lists.\u001b[39;00m\n\u001b[1;32m    <a href='file:///home/ainl/anaconda3/envs/torch/lib/python3.8/site-packages/datasets/features/features.py?line=350'>351</a>\u001b[0m \u001b[39m    It works recursively.\u001b[39;00m\n\u001b[0;32m   (...)\u001b[0m\n\u001b[1;32m    <a href='file:///home/ainl/anaconda3/envs/torch/lib/python3.8/site-packages/datasets/features/features.py?line=360'>361</a>\u001b[0m \u001b[39m        casted_obj: the casted object\u001b[39;00m\n\u001b[1;32m    <a href='file:///home/ainl/anaconda3/envs/torch/lib/python3.8/site-packages/datasets/features/features.py?line=361'>362</a>\u001b[0m \u001b[39m    \"\"\"\u001b[39;00m\n\u001b[0;32m--> <a href='file:///home/ainl/anaconda3/envs/torch/lib/python3.8/site-packages/datasets/features/features.py?line=362'>363</a>\u001b[0m     \u001b[39mreturn\u001b[39;00m _cast_to_python_objects(obj, only_1d_for_numpy\u001b[39m=\u001b[39;49monly_1d_for_numpy)[\u001b[39m0\u001b[39m]\n",
      "File \u001b[0;32m~/anaconda3/envs/torch/lib/python3.8/site-packages/datasets/features/features.py:298\u001b[0m, in \u001b[0;36m_cast_to_python_objects\u001b[0;34m(obj, only_1d_for_numpy)\u001b[0m\n\u001b[1;32m    <a href='file:///home/ainl/anaconda3/envs/torch/lib/python3.8/site-packages/datasets/features/features.py?line=295'>296</a>\u001b[0m \u001b[39melif\u001b[39;00m config\u001b[39m.\u001b[39mTORCH_AVAILABLE \u001b[39mand\u001b[39;00m \u001b[39m\"\u001b[39m\u001b[39mtorch\u001b[39m\u001b[39m\"\u001b[39m \u001b[39min\u001b[39;00m sys\u001b[39m.\u001b[39mmodules \u001b[39mand\u001b[39;00m \u001b[39misinstance\u001b[39m(obj, torch\u001b[39m.\u001b[39mTensor):\n\u001b[1;32m    <a href='file:///home/ainl/anaconda3/envs/torch/lib/python3.8/site-packages/datasets/features/features.py?line=296'>297</a>\u001b[0m     \u001b[39mif\u001b[39;00m \u001b[39mnot\u001b[39;00m only_1d_for_numpy \u001b[39mor\u001b[39;00m obj\u001b[39m.\u001b[39mndim \u001b[39m==\u001b[39m \u001b[39m1\u001b[39m:\n\u001b[0;32m--> <a href='file:///home/ainl/anaconda3/envs/torch/lib/python3.8/site-packages/datasets/features/features.py?line=297'>298</a>\u001b[0m         \u001b[39mreturn\u001b[39;00m obj\u001b[39m.\u001b[39;49mdetach()\u001b[39m.\u001b[39;49mcpu()\u001b[39m.\u001b[39mnumpy(), \u001b[39mTrue\u001b[39;00m\n\u001b[1;32m    <a href='file:///home/ainl/anaconda3/envs/torch/lib/python3.8/site-packages/datasets/features/features.py?line=298'>299</a>\u001b[0m     \u001b[39melse\u001b[39;00m:\n\u001b[1;32m    <a href='file:///home/ainl/anaconda3/envs/torch/lib/python3.8/site-packages/datasets/features/features.py?line=299'>300</a>\u001b[0m         \u001b[39mreturn\u001b[39;00m [\n\u001b[1;32m    <a href='file:///home/ainl/anaconda3/envs/torch/lib/python3.8/site-packages/datasets/features/features.py?line=300'>301</a>\u001b[0m             _cast_to_python_objects(x, only_1d_for_numpy\u001b[39m=\u001b[39monly_1d_for_numpy)[\u001b[39m0\u001b[39m] \u001b[39mfor\u001b[39;00m x \u001b[39min\u001b[39;00m obj\u001b[39m.\u001b[39mdetach()\u001b[39m.\u001b[39mcpu()\u001b[39m.\u001b[39mnumpy()\n\u001b[1;32m    <a href='file:///home/ainl/anaconda3/envs/torch/lib/python3.8/site-packages/datasets/features/features.py?line=301'>302</a>\u001b[0m         ], \u001b[39mTrue\u001b[39;00m\n",
      "\u001b[0;31mKeyboardInterrupt\u001b[0m: "
     ]
    }
   ],
   "source": [
    "subsets = [\"cola\",\"mnli\",\"mrpc\",\"qnli\",\"qqp\",\"rte\",\"sst2\",\"stsb\",\"wnli\",]\n",
    "kss = [\n",
    "    0.1, 0.25, 0.375, 0.5, 0.625, 0.75, 0.875, 0.999,\n",
    "]\n",
    "sparse.benchmark_reset()\n",
    "# subsets = [\"mrpc\"]\n",
    "# kss = ['dynamic:avg:avg:f',0.1]\n",
    "\n",
    "def get_score(score):\n",
    "    if 'accuracy' in score:\n",
    "        return score['accuracy'], \"acc\"\n",
    "    first_metric = list(score.keys())[0]\n",
    "    return score[first_metric], first_metric\n",
    "\n",
    "results = {}\n",
    "i = 0\n",
    "for subset in subsets:\n",
    "    trainer = Glue(dataset=subset, factor=16, batch_size=-1, device=0)\n",
    "    trainer.load()\n",
    "    scores = {}\n",
    "    metric_name = \"\"\n",
    "    bert_score, metric_name = get_score(trainer.eval_base_model())\n",
    "    scores['bert'] = f'{bert_score:.5f}'\n",
    "    for ks in kss:\n",
    "        sparse.benchmark_reset()\n",
    "        sparse_score, _ = get_score(trainer.eval_sparse_model(ks=ks, use_forward=True))\n",
    "        if isinstance(ks, str) and ks.startswith('dynamic'):\n",
    "            est_k = sparse.benchmark_get_average('est_k')\n",
    "            scores[str(ks)] = f'{sparse_score:.5f} (k:{est_k:.2f})'\n",
    "        else:\n",
    "            scores[str(ks)] = f'{sparse_score:.5f}'\n",
    "        i += 1\n",
    "        count = len(subsets) * len(kss)\n",
    "        print(f'{i}/{count} | {subset} {ks} = {sparse_score:.5f}')\n",
    "    results[f\"{subset} ({metric_name})\"] = scores\n",
    "\n",
    "with open('glue_benchmark_forward.pkl', 'wb') as f:\n",
    "    pickle.dump(results, f)\n",
    "\n",
    "sparse.benchmark_report()"
   ]
  },
  {
   "cell_type": "code",
   "execution_count": 1,
   "metadata": {},
   "outputs": [
    {
     "name": "stderr",
     "output_type": "stream",
     "text": [
      "/tmp/ipykernel_191557/2727151469.py:35: FutureWarning: In future versions `DataFrame.to_latex` is expected to utilise the base implementation of `Styler.to_latex` for formatting and rendering. The arguments signature may therefore change. It is recommended instead to use `DataFrame.style.to_latex` which also contains additional functionality.\n",
      "  tex = df.to_latex()\n"
     ]
    },
    {
     "data": {
      "text/html": [
       "<div>\n",
       "<style scoped>\n",
       "    .dataframe tbody tr th:only-of-type {\n",
       "        vertical-align: middle;\n",
       "    }\n",
       "\n",
       "    .dataframe tbody tr th {\n",
       "        vertical-align: top;\n",
       "    }\n",
       "\n",
       "    .dataframe thead th {\n",
       "        text-align: right;\n",
       "    }\n",
       "</style>\n",
       "<table border=\"1\" class=\"dataframe\">\n",
       "  <thead>\n",
       "    <tr style=\"text-align: right;\">\n",
       "      <th></th>\n",
       "      <th>cola (matthews_correlation)</th>\n",
       "      <th>mnli (acc)</th>\n",
       "      <th>mrpc (acc)</th>\n",
       "      <th>qnli (acc)</th>\n",
       "      <th>qqp (acc)</th>\n",
       "      <th>rte (acc)</th>\n",
       "      <th>sst2 (acc)</th>\n",
       "      <th>stsb (pearson)</th>\n",
       "      <th>wnli (acc)</th>\n",
       "      <th>reproduce</th>\n",
       "    </tr>\n",
       "  </thead>\n",
       "  <tbody>\n",
       "    <tr>\n",
       "      <th>bert</th>\n",
       "      <td>0.53388</td>\n",
       "      <td>0.84208</td>\n",
       "      <td>0.84406</td>\n",
       "      <td>0.91543</td>\n",
       "      <td>0.90908</td>\n",
       "      <td>0.72563</td>\n",
       "      <td>0.92431</td>\n",
       "      <td>0.88047</td>\n",
       "      <td>0.56338</td>\n",
       "      <td>100.00</td>\n",
       "    </tr>\n",
       "    <tr>\n",
       "      <th>0.1</th>\n",
       "      <td>0.07075</td>\n",
       "      <td>0.49638</td>\n",
       "      <td>0.33681</td>\n",
       "      <td>0.62328</td>\n",
       "      <td>0.66876</td>\n",
       "      <td>0.54874</td>\n",
       "      <td>0.66284</td>\n",
       "      <td>0.20566</td>\n",
       "      <td>0.46479</td>\n",
       "      <td>56.33</td>\n",
       "    </tr>\n",
       "    <tr>\n",
       "      <th>0.25</th>\n",
       "      <td>0.25567</td>\n",
       "      <td>0.78686</td>\n",
       "      <td>0.41797</td>\n",
       "      <td>0.85210</td>\n",
       "      <td>0.88078</td>\n",
       "      <td>0.66426</td>\n",
       "      <td>0.83142</td>\n",
       "      <td>0.79653</td>\n",
       "      <td>0.52113</td>\n",
       "      <td>82.81</td>\n",
       "    </tr>\n",
       "    <tr>\n",
       "      <th>0.375</th>\n",
       "      <td>0.44630</td>\n",
       "      <td>0.83209</td>\n",
       "      <td>0.58841</td>\n",
       "      <td>0.90445</td>\n",
       "      <td>0.90566</td>\n",
       "      <td>0.68953</td>\n",
       "      <td>0.87385</td>\n",
       "      <td>0.86073</td>\n",
       "      <td>0.53521</td>\n",
       "      <td>92.54</td>\n",
       "    </tr>\n",
       "    <tr>\n",
       "      <th>0.5</th>\n",
       "      <td>0.46608</td>\n",
       "      <td>0.83984</td>\n",
       "      <td>0.71420</td>\n",
       "      <td>0.91323</td>\n",
       "      <td>0.90846</td>\n",
       "      <td>0.72563</td>\n",
       "      <td>0.90711</td>\n",
       "      <td>0.87449</td>\n",
       "      <td>0.54930</td>\n",
       "      <td>96.26</td>\n",
       "    </tr>\n",
       "    <tr>\n",
       "      <th>0.625</th>\n",
       "      <td>0.50461</td>\n",
       "      <td>0.84147</td>\n",
       "      <td>0.80464</td>\n",
       "      <td>0.91506</td>\n",
       "      <td>0.90903</td>\n",
       "      <td>0.72202</td>\n",
       "      <td>0.91858</td>\n",
       "      <td>0.87796</td>\n",
       "      <td>0.56338</td>\n",
       "      <td>98.70</td>\n",
       "    </tr>\n",
       "    <tr>\n",
       "      <th>0.75</th>\n",
       "      <td>0.52593</td>\n",
       "      <td>0.84187</td>\n",
       "      <td>0.83942</td>\n",
       "      <td>0.91525</td>\n",
       "      <td>0.90915</td>\n",
       "      <td>0.72563</td>\n",
       "      <td>0.92202</td>\n",
       "      <td>0.87986</td>\n",
       "      <td>0.56338</td>\n",
       "      <td>99.73</td>\n",
       "    </tr>\n",
       "    <tr>\n",
       "      <th>0.875</th>\n",
       "      <td>0.53117</td>\n",
       "      <td>0.84208</td>\n",
       "      <td>0.84406</td>\n",
       "      <td>0.91525</td>\n",
       "      <td>0.90913</td>\n",
       "      <td>0.72563</td>\n",
       "      <td>0.92431</td>\n",
       "      <td>0.88047</td>\n",
       "      <td>0.56338</td>\n",
       "      <td>99.94</td>\n",
       "    </tr>\n",
       "    <tr>\n",
       "      <th>0.999</th>\n",
       "      <td>0.53120</td>\n",
       "      <td>0.84208</td>\n",
       "      <td>0.84406</td>\n",
       "      <td>0.91543</td>\n",
       "      <td>0.90908</td>\n",
       "      <td>0.72563</td>\n",
       "      <td>0.92431</td>\n",
       "      <td>0.88047</td>\n",
       "      <td>0.56338</td>\n",
       "      <td>99.94</td>\n",
       "    </tr>\n",
       "  </tbody>\n",
       "</table>\n",
       "</div>"
      ],
      "text/plain": [
       "      cola (matthews_correlation) mnli (acc) mrpc (acc) qnli (acc) qqp (acc)  \\\n",
       "bert                      0.53388    0.84208    0.84406    0.91543   0.90908   \n",
       "0.1                       0.07075    0.49638    0.33681    0.62328   0.66876   \n",
       "0.25                      0.25567    0.78686    0.41797    0.85210   0.88078   \n",
       "0.375                     0.44630    0.83209    0.58841    0.90445   0.90566   \n",
       "0.5                       0.46608    0.83984    0.71420    0.91323   0.90846   \n",
       "0.625                     0.50461    0.84147    0.80464    0.91506   0.90903   \n",
       "0.75                      0.52593    0.84187    0.83942    0.91525   0.90915   \n",
       "0.875                     0.53117    0.84208    0.84406    0.91525   0.90913   \n",
       "0.999                     0.53120    0.84208    0.84406    0.91543   0.90908   \n",
       "\n",
       "      rte (acc) sst2 (acc) stsb (pearson) wnli (acc) reproduce  \n",
       "bert    0.72563    0.92431        0.88047    0.56338    100.00  \n",
       "0.1     0.54874    0.66284        0.20566    0.46479     56.33  \n",
       "0.25    0.66426    0.83142        0.79653    0.52113     82.81  \n",
       "0.375   0.68953    0.87385        0.86073    0.53521     92.54  \n",
       "0.5     0.72563    0.90711        0.87449    0.54930     96.26  \n",
       "0.625   0.72202    0.91858        0.87796    0.56338     98.70  \n",
       "0.75    0.72563    0.92202        0.87986    0.56338     99.73  \n",
       "0.875   0.72563    0.92431        0.88047    0.56338     99.94  \n",
       "0.999   0.72563    0.92431        0.88047    0.56338     99.94  "
      ]
     },
     "execution_count": 1,
     "metadata": {},
     "output_type": "execute_result"
    }
   ],
   "source": [
    "import pickle\n",
    "import pandas as pd\n",
    "\n",
    "with open('glue_benchmark_forward.pkl', 'rb') as f:\n",
    "    results = pickle.load(f)\n",
    "\n",
    "data = []\n",
    "subsets = list(results.keys())\n",
    "factors = list(results[subsets[0]].keys())\n",
    "for factor in factors:             \n",
    "    row = []\n",
    "    for subset in subsets:\n",
    "        row.append(results[subset][factor])\n",
    "    data.append(row)\n",
    "\n",
    "#calculate reproducibility\n",
    "data_scalar = []\n",
    "for line in data:\n",
    "    xs = []\n",
    "    for item in line:\n",
    "        xs.append(float(item.split()[0]))\n",
    "    data_scalar.append(xs)\n",
    "reproducibilities = []\n",
    "for i in range(len(data_scalar)):\n",
    "    rsum = 0\n",
    "    for k in range(len(data_scalar[i])):\n",
    "        rsum += data_scalar[i][k]/data_scalar[0][k]\n",
    "    rsum /= len(data_scalar[i])\n",
    "    reproducibilities.append(rsum)\n",
    "for i, r in enumerate(reproducibilities):\n",
    "    data[i].append(f\"{r*100:.2f}\")\n",
    "subsets.append(\"reproduce\")\n",
    "\n",
    "df = pd.DataFrame(data, columns=subsets, index=factors)\n",
    "tex = df.to_latex()\n",
    "with open('saves_plot/glue_benchmark_forward.tex', 'w') as f:\n",
    "    f.write(tex)\n",
    "df"
   ]
  },
  {
   "cell_type": "code",
   "execution_count": null,
   "metadata": {},
   "outputs": [
    {
     "name": "stdout",
     "output_type": "stream",
     "text": [
      "Trainer: qnli\n"
     ]
    },
    {
     "name": "stderr",
     "output_type": "stream",
     "text": [
      "Reusing dataset glue (C:\\Users\\AinL\\.cache\\huggingface\\datasets\\glue\\qnli\\1.0.0\\dacbe3125aa31d7f70367a07a8a9e72a5a0bfeb5fc42e75c9db75b96da6053ad)\n",
      "Loading cached processed dataset at C:\\Users\\AinL\\.cache\\huggingface\\datasets\\glue\\qnli\\1.0.0\\dacbe3125aa31d7f70367a07a8a9e72a5a0bfeb5fc42e75c9db75b96da6053ad\\cache-95cdbfccba10767f.arrow\n",
      "Loading cached processed dataset at C:\\Users\\AinL\\.cache\\huggingface\\datasets\\glue\\qnli\\1.0.0\\dacbe3125aa31d7f70367a07a8a9e72a5a0bfeb5fc42e75c9db75b96da6053ad\\cache-a121d057d8b0504c.arrow\n",
      "Reusing dataset glue (C:\\Users\\AinL\\.cache\\huggingface\\datasets\\glue\\qnli\\1.0.0\\dacbe3125aa31d7f70367a07a8a9e72a5a0bfeb5fc42e75c9db75b96da6053ad)\n",
      "Loading cached processed dataset at C:\\Users\\AinL\\.cache\\huggingface\\datasets\\glue\\qnli\\1.0.0\\dacbe3125aa31d7f70367a07a8a9e72a5a0bfeb5fc42e75c9db75b96da6053ad\\cache-81af1b1d0da19e67.arrow\n",
      "Loading cached processed dataset at C:\\Users\\AinL\\.cache\\huggingface\\datasets\\glue\\qnli\\1.0.0\\dacbe3125aa31d7f70367a07a8a9e72a5a0bfeb5fc42e75c9db75b96da6053ad\\cache-efc6aadc78835551.arrow\n"
     ]
    }
   ],
   "source": [
    "trainer = Glue(dataset='qnli', factor=16, batch_size=-1, device=0)\n",
    "trainer.load() "
   ]
  },
  {
   "cell_type": "code",
   "execution_count": 5,
   "metadata": {},
   "outputs": [
    {
     "name": "stderr",
     "output_type": "stream",
     "text": [
      "eval: 100%|██████████| 683/683 [00:25<00:00, 26.83it/s]"
     ]
    },
    {
     "name": "stdout",
     "output_type": "stream",
     "text": [
      "metric score {'accuracy': 0.9154310818231741}\n",
      "avg occupy 0.30243502260079336\n"
     ]
    },
    {
     "name": "stderr",
     "output_type": "stream",
     "text": [
      "\n"
     ]
    },
    {
     "data": {
      "text/plain": [
       "{'accuracy': 0.9154310818231741}"
      ]
     },
     "execution_count": 5,
     "metadata": {},
     "output_type": "execute_result"
    }
   ],
   "source": [
    "trainer.model.bert = trainer.model_bert\n",
    "trainer.eval_base_model()"
   ]
  },
  {
   "cell_type": "code",
   "execution_count": 9,
   "metadata": {},
   "outputs": [
    {
     "name": "stderr",
     "output_type": "stream",
     "text": [
      "eval: 100%|██████████| 683/683 [00:36<00:00, 18.53it/s]\n"
     ]
    },
    {
     "name": "stdout",
     "output_type": "stream",
     "text": [
      "metric score {'accuracy': 0.5996705107084019}\n",
      "avg occupy 0.30243502260079336\n"
     ]
    },
    {
     "data": {
      "text/plain": [
       "{'accuracy': 0.5996705107084019}"
      ]
     },
     "execution_count": 9,
     "metadata": {},
     "output_type": "execute_result"
    }
   ],
   "source": [
    "# trainer.seed()\n",
    "# import models.sparse_token as sparse\n",
    "# import transformers.models.bert.modeling_bert as berts\n",
    "# import importlib\n",
    "# importlib.reload(sparse)\n",
    "\n",
    "# wrapped_bert = sparse.ApproxSparseBertModel(trainer.model_bert, approx_bert=trainer.approx_bert, ks=0.1)\n",
    "# sparse_cls_bert = berts.BertForSequenceClassification(trainer.model_bert.config)\n",
    "# sparse_cls_bert.load_state_dict(trainer.model.state_dict())\n",
    "# sparse_cls_bert.bert = wrapped_bert\n",
    "# sparse_cls_bert.to(trainer.device).eval()\n",
    "\n",
    "# trainer.eval_base_model(model = sparse_cls_bert)"
   ]
  },
  {
   "cell_type": "code",
   "execution_count": null,
   "metadata": {},
   "outputs": [],
   "source": []
  }
 ],
 "metadata": {
  "interpreter": {
   "hash": "f7b3ac0126d0d6fea024471ce24e510948bf6332f7ae1a66cdcb4ee9887514e9"
  },
  "kernelspec": {
   "display_name": "Python 3.8.3 64-bit ('tensorflow': conda)",
   "name": "python3"
  },
  "language_info": {
   "codemirror_mode": {
    "name": "ipython",
    "version": 3
   },
   "file_extension": ".py",
   "mimetype": "text/x-python",
   "name": "python",
   "nbconvert_exporter": "python",
   "pygments_lexer": "ipython3",
   "version": "3.8.12"
  },
  "orig_nbformat": 4
 },
 "nbformat": 4,
 "nbformat_minor": 2
}
