{
 "cells": [
  {
   "cell_type": "code",
   "execution_count": 1,
   "metadata": {},
   "outputs": [
    {
     "name": "stderr",
     "output_type": "stream",
     "text": [
      "/home/ainl/anaconda3/envs/torch/lib/python3.8/site-packages/tqdm/auto.py:22: TqdmWarning: IProgress not found. Please update jupyter and ipywidgets. See https://ipywidgets.readthedocs.io/en/stable/user_install.html\n",
      "  from .autonotebook import tqdm as notebook_tqdm\n"
     ]
    },
    {
     "data": {
      "text/plain": [
       "<module 'models.sparse_token' from '/home/ainl/library/discrete_edge_learning/models/sparse_token.py'>"
      ]
     },
     "execution_count": 1,
     "metadata": {},
     "output_type": "execute_result"
    }
   ],
   "source": [
    "import torch, random, math, time, sys, os, tqdm\n",
    "import numpy as np\n",
    "import numba\n",
    "import importlib\n",
    "import models.sparse_token as sparse\n",
    "importlib.reload(sparse)"
   ]
  },
  {
   "cell_type": "code",
   "execution_count": 2,
   "metadata": {},
   "outputs": [
    {
     "name": "stderr",
     "output_type": "stream",
     "text": [
      "100%|██████████| 120000/120000 [00:00<00:00, 398319.47it/s]\n"
     ]
    },
    {
     "name": "stdout",
     "output_type": "stream",
     "text": [
      "Classification Dataset Stat.: name:AG_NEWS, nclass:5, max_len:1012, avg_len:236.477525, count:120000\n"
     ]
    },
    {
     "name": "stderr",
     "output_type": "stream",
     "text": [
      "100%|██████████| 7600/7600 [00:00<00:00, 381784.44it/s]\n"
     ]
    },
    {
     "name": "stdout",
     "output_type": "stream",
     "text": [
      "Classification Dataset Stat.: name:AG_NEWS, nclass:5, max_len:892, avg_len:235.2992105263158, count:7600\n"
     ]
    },
    {
     "name": "stderr",
     "output_type": "stream",
     "text": [
      "Some weights of the model checkpoint at google/bert_uncased_L-12_H-768_A-12 were not used when initializing BertModel: ['cls.predictions.transform.dense.bias', 'cls.predictions.transform.LayerNorm.bias', 'cls.seq_relationship.bias', 'cls.seq_relationship.weight', 'cls.predictions.transform.dense.weight', 'cls.predictions.decoder.bias', 'cls.predictions.decoder.weight', 'cls.predictions.bias', 'cls.predictions.transform.LayerNorm.weight']\n",
      "- This IS expected if you are initializing BertModel from the checkpoint of a model trained on another task or with another architecture (e.g. initializing a BertForSequenceClassification model from a BertForPreTraining model).\n",
      "- This IS NOT expected if you are initializing BertModel from the checkpoint of a model that you expect to be exactly identical (initializing a BertForSequenceClassification model from a BertForSequenceClassification model).\n"
     ]
    },
    {
     "name": "stdout",
     "output_type": "stream",
     "text": [
      "Trainer.__init__: Model initialized. model = bert-base\n",
      "Trainer.load: Loading... saves/cls_bert-base.pth\n"
     ]
    },
    {
     "name": "stderr",
     "output_type": "stream",
     "text": [
      "100%|██████████| 120000/120000 [00:00<00:00, 388140.76it/s]\n"
     ]
    },
    {
     "name": "stdout",
     "output_type": "stream",
     "text": [
      "Classification Dataset Stat.: name:AG_NEWS, nclass:5, max_len:1012, avg_len:236.477525, count:120000\n"
     ]
    },
    {
     "name": "stderr",
     "output_type": "stream",
     "text": [
      "100%|██████████| 7600/7600 [00:00<00:00, 390249.02it/s]\n"
     ]
    },
    {
     "name": "stdout",
     "output_type": "stream",
     "text": [
      "Classification Dataset Stat.: name:AG_NEWS, nclass:5, max_len:892, avg_len:235.2992105263158, count:7600\n"
     ]
    },
    {
     "name": "stderr",
     "output_type": "stream",
     "text": [
      "Some weights of the model checkpoint at google/bert_uncased_L-12_H-768_A-12 were not used when initializing BertModel: ['cls.predictions.transform.dense.bias', 'cls.predictions.transform.LayerNorm.bias', 'cls.seq_relationship.bias', 'cls.seq_relationship.weight', 'cls.predictions.transform.dense.weight', 'cls.predictions.decoder.bias', 'cls.predictions.decoder.weight', 'cls.predictions.bias', 'cls.predictions.transform.LayerNorm.weight']\n",
      "- This IS expected if you are initializing BertModel from the checkpoint of a model trained on another task or with another architecture (e.g. initializing a BertForSequenceClassification model from a BertForPreTraining model).\n",
      "- This IS NOT expected if you are initializing BertModel from the checkpoint of a model that you expect to be exactly identical (initializing a BertForSequenceClassification model from a BertForSequenceClassification model).\n"
     ]
    },
    {
     "name": "stdout",
     "output_type": "stream",
     "text": [
      "Trainer.__init__: Model initialized. model = bert-base\n",
      "Trainer.load: Loading... saves/cls_bert-base.pth\n",
      "Trainer.load: saves/att_approx_16_bert-base.pth\n",
      "approx trained 150000\n"
     ]
    }
   ],
   "source": [
    "from trainer.classification import Trainer\n",
    "from trainer.attention_approx import Trainer as ApproxTrainer\n",
    "batch_size = 4\n",
    "device = 0\n",
    "factor = 16\n",
    "\n",
    "trainer = Trainer(batch_size=batch_size, model='bert-base', device=device)\n",
    "trainer.load()\n",
    "trainer.model.eval()\n",
    "bert = trainer.model.bert\n",
    "fc = trainer.model.classifier\n",
    "batch = trainer.get_batch()\n",
    "test_batch = trainer.get_batch(test=False)\n",
    "\n",
    "approx_trainer = ApproxTrainer(batch_size=batch_size, factor=factor, model=trainer.model_type, device=trainer.device)\n",
    "approx_trainer.load()\n",
    "approx_bert = approx_trainer.bert\n",
    "approx_bert = approx_bert.eval()\n",
    "print('approx trained', approx_trainer.steps)"
   ]
  },
  {
   "cell_type": "code",
   "execution_count": 3,
   "metadata": {},
   "outputs": [
    {
     "data": {
      "text/plain": [
       "<All keys matched successfully>"
      ]
     },
     "execution_count": 3,
     "metadata": {},
     "output_type": "execute_result"
    }
   ],
   "source": [
    "sparse_bert = sparse.SparseBertModel(bert.config)\n",
    "sparse_bert.to(trainer.device)\n",
    "sparse_bert.eval()\n",
    "sparse_bert.load_state_dict(bert.state_dict())"
   ]
  },
  {
   "cell_type": "code",
   "execution_count": 55,
   "metadata": {},
   "outputs": [
    {
     "data": {
      "text/plain": [
       "((tensor([1, 2, 4, 1], device='cuda:0'),\n",
       "  tensor([1, 2, 4, 1], device='cuda:0')),\n",
       " (tensor([1, 2, 4, 1], device='cuda:0'),\n",
       "  tensor([1, 2, 4, 1], device='cuda:0')))"
      ]
     },
     "execution_count": 55,
     "metadata": {},
     "output_type": "execute_result"
    }
   ],
   "source": [
    "importlib.reload(sparse)\n",
    "sparse.benchmark_reset()\n",
    "sparse.timer_reset()\n",
    "\n",
    "def eval_fc(lm_output, fc=fc, batch=batch):\n",
    "    last_hidden = lm_output.last_hidden_state[:,0,:]\n",
    "    x = fc(last_hidden)\n",
    "    return torch.argmax(x, dim=-1), batch.labels, lm_output\n",
    "\n",
    "def eval(bert, fc=fc, batch=batch):\n",
    "    lm_output = bert(\n",
    "        input_ids = batch.input_ids, \n",
    "        attention_mask = batch.attention_masks,\n",
    "        output_hidden_states = True,\n",
    "        output_attentions = True,\n",
    "    )\n",
    "    return eval_fc(lm_output, fc=fc, batch=batch)\n",
    "\n",
    "def approx_eval(sparse_bert, approx_bert, fc=fc, batch=batch, k=0.5):\n",
    "    lm_output = sparse.run_bert_with_approx(\n",
    "        sparse_bert, \n",
    "        approx_bert, \n",
    "        {\n",
    "            'input_ids': batch.input_ids,\n",
    "            'attention_mask': batch.attention_masks,\n",
    "            'output_hidden_states': True,\n",
    "            'output_attentions': True,\n",
    "        },\n",
    "        ks = [k]*(len(sparse_bert.encoder.layer)),\n",
    "    )\n",
    "    return eval_fc(lm_output, fc=fc, batch=batch)\n",
    "\n",
    "def forward_eval(sparse_bert, fc=fc, batch=batch, k=0.5):\n",
    "    lm_output = sparse.run_bert_forward_sparsity(\n",
    "        sparse_bert, \n",
    "        {\n",
    "            'input_ids': batch.input_ids,\n",
    "            'attention_mask': batch.attention_masks,\n",
    "            'output_hidden_states': True,\n",
    "            'output_attentions': True,\n",
    "        },\n",
    "        ks = k,\n",
    "    )\n",
    "    return eval_fc(lm_output, fc=fc, batch=batch)\n",
    "\n",
    "eval(bert)[:2], forward_eval(sparse_bert)[:2]"
   ]
  },
  {
   "cell_type": "code",
   "execution_count": 56,
   "metadata": {},
   "outputs": [
    {
     "data": {
      "text/plain": [
       "tensor([[0.2871, 0.1998, 0.0007,  ..., 0.0000, 0.0000, 0.0000],\n",
       "        [0.2825, 0.2313, 0.0010,  ..., 0.0000, 0.0000, 0.0000],\n",
       "        [0.0885, 0.0806, 0.0056,  ..., 0.0000, 0.0000, 0.0000],\n",
       "        ...,\n",
       "        [0.5495, 0.2041, 0.0011,  ..., 0.0000, 0.0000, 0.0000],\n",
       "        [0.5037, 0.2072, 0.0011,  ..., 0.0000, 0.0000, 0.0000],\n",
       "        [0.4037, 0.2040, 0.0038,  ..., 0.0000, 0.0000, 0.0000]],\n",
       "       device='cuda:0', grad_fn=<SelectBackward0>)"
      ]
     },
     "execution_count": 56,
     "metadata": {},
     "output_type": "execute_result"
    }
   ],
   "source": [
    "lm_output = sparse.run_bert_forward_sparsity(\n",
    "    sparse_bert, \n",
    "    {\n",
    "        'input_ids': batch.input_ids,\n",
    "        'attention_mask': batch.attention_masks,\n",
    "        'output_hidden_states': True,\n",
    "        'output_attentions': True,\n",
    "    },\n",
    "    ks = 0.5,\n",
    ")\n",
    "lm_output.attentions[0][0,0]"
   ]
  },
  {
   "cell_type": "code",
   "execution_count": 53,
   "metadata": {},
   "outputs": [
    {
     "name": "stderr",
     "output_type": "stream",
     "text": [
      " 83%|████████▎ | 124/150 [00:02<00:00, 43.67it/s]\n"
     ]
    },
    {
     "ename": "KeyboardInterrupt",
     "evalue": "",
     "output_type": "error",
     "traceback": [
      "\u001b[0;31m---------------------------------------------------------------------------\u001b[0m",
      "\u001b[0;31mKeyboardInterrupt\u001b[0m                         Traceback (most recent call last)",
      "\u001b[1;32m/home/ainl/library/discrete_edge_learning/forward_only.ipynb Cell 6'\u001b[0m in \u001b[0;36m<module>\u001b[0;34m\u001b[0m\n\u001b[1;32m     <a href='vscode-notebook-cell://ssh-remote%2Bmlai-lab-desk/home/ainl/library/discrete_edge_learning/forward_only.ipynb#ch0000004vscode-remote?line=34'>35</a>\u001b[0m sparse\u001b[39m.\u001b[39mtimer_reset()\n\u001b[1;32m     <a href='vscode-notebook-cell://ssh-remote%2Bmlai-lab-desk/home/ainl/library/discrete_edge_learning/forward_only.ipynb#ch0000004vscode-remote?line=35'>36</a>\u001b[0m k \u001b[39m=\u001b[39m \u001b[39m0.25\u001b[39m\n\u001b[0;32m---> <a href='vscode-notebook-cell://ssh-remote%2Bmlai-lab-desk/home/ainl/library/discrete_edge_learning/forward_only.ipynb#ch0000004vscode-remote?line=36'>37</a>\u001b[0m acc, lm \u001b[39m=\u001b[39m accuracy(\n\u001b[1;32m     <a href='vscode-notebook-cell://ssh-remote%2Bmlai-lab-desk/home/ainl/library/discrete_edge_learning/forward_only.ipynb#ch0000004vscode-remote?line=37'>38</a>\u001b[0m     \u001b[39mlambda\u001b[39;49;00m batch: approx_eval(sparse_bert, bert, batch\u001b[39m=\u001b[39;49mbatch, k\u001b[39m=\u001b[39;49mk),\n\u001b[1;32m     <a href='vscode-notebook-cell://ssh-remote%2Bmlai-lab-desk/home/ainl/library/discrete_edge_learning/forward_only.ipynb#ch0000004vscode-remote?line=38'>39</a>\u001b[0m     return_lm \u001b[39m=\u001b[39;49m \u001b[39mTrue\u001b[39;49;00m,\n\u001b[1;32m     <a href='vscode-notebook-cell://ssh-remote%2Bmlai-lab-desk/home/ainl/library/discrete_edge_learning/forward_only.ipynb#ch0000004vscode-remote?line=39'>40</a>\u001b[0m )\n\u001b[1;32m     <a href='vscode-notebook-cell://ssh-remote%2Bmlai-lab-desk/home/ainl/library/discrete_edge_learning/forward_only.ipynb#ch0000004vscode-remote?line=40'>41</a>\u001b[0m acc_, lm \u001b[39m=\u001b[39m accuracy(\n\u001b[1;32m     <a href='vscode-notebook-cell://ssh-remote%2Bmlai-lab-desk/home/ainl/library/discrete_edge_learning/forward_only.ipynb#ch0000004vscode-remote?line=41'>42</a>\u001b[0m     \u001b[39mlambda\u001b[39;00m batch: forward_eval(sparse_bert, batch\u001b[39m=\u001b[39mbatch, k\u001b[39m=\u001b[39mk),\n\u001b[1;32m     <a href='vscode-notebook-cell://ssh-remote%2Bmlai-lab-desk/home/ainl/library/discrete_edge_learning/forward_only.ipynb#ch0000004vscode-remote?line=42'>43</a>\u001b[0m     return_lm \u001b[39m=\u001b[39m \u001b[39mTrue\u001b[39;00m,\n\u001b[1;32m     <a href='vscode-notebook-cell://ssh-remote%2Bmlai-lab-desk/home/ainl/library/discrete_edge_learning/forward_only.ipynb#ch0000004vscode-remote?line=43'>44</a>\u001b[0m )\n\u001b[1;32m     <a href='vscode-notebook-cell://ssh-remote%2Bmlai-lab-desk/home/ainl/library/discrete_edge_learning/forward_only.ipynb#ch0000004vscode-remote?line=44'>45</a>\u001b[0m \u001b[39m#acc = accuracy(lambda batch: eval(bert, batch=batch))\u001b[39;00m\n\u001b[1;32m     <a href='vscode-notebook-cell://ssh-remote%2Bmlai-lab-desk/home/ainl/library/discrete_edge_learning/forward_only.ipynb#ch0000004vscode-remote?line=45'>46</a>\u001b[0m \u001b[39m# sparse.timer_report()\u001b[39;00m\n\u001b[1;32m     <a href='vscode-notebook-cell://ssh-remote%2Bmlai-lab-desk/home/ainl/library/discrete_edge_learning/forward_only.ipynb#ch0000004vscode-remote?line=46'>47</a>\u001b[0m \u001b[39m# sparse.benchmark_report()\u001b[39;00m\n",
      "\u001b[1;32m/home/ainl/library/discrete_edge_learning/forward_only.ipynb Cell 6'\u001b[0m in \u001b[0;36maccuracy\u001b[0;34m(batch_eval, N, return_lm)\u001b[0m\n\u001b[1;32m     <a href='vscode-notebook-cell://ssh-remote%2Bmlai-lab-desk/home/ainl/library/discrete_edge_learning/forward_only.ipynb#ch0000004vscode-remote?line=9'>10</a>\u001b[0m acc_sum \u001b[39m=\u001b[39m \u001b[39m0\u001b[39m\n\u001b[1;32m     <a href='vscode-notebook-cell://ssh-remote%2Bmlai-lab-desk/home/ainl/library/discrete_edge_learning/forward_only.ipynb#ch0000004vscode-remote?line=10'>11</a>\u001b[0m \u001b[39mfor\u001b[39;00m i \u001b[39min\u001b[39;00m tqdm\u001b[39m.\u001b[39mtqdm(\u001b[39mrange\u001b[39m(N)):\n\u001b[0;32m---> <a href='vscode-notebook-cell://ssh-remote%2Bmlai-lab-desk/home/ainl/library/discrete_edge_learning/forward_only.ipynb#ch0000004vscode-remote?line=11'>12</a>\u001b[0m     batch \u001b[39m=\u001b[39m trainer\u001b[39m.\u001b[39;49mget_batch(test\u001b[39m=\u001b[39;49m\u001b[39mTrue\u001b[39;49;00m)\n\u001b[1;32m     <a href='vscode-notebook-cell://ssh-remote%2Bmlai-lab-desk/home/ainl/library/discrete_edge_learning/forward_only.ipynb#ch0000004vscode-remote?line=12'>13</a>\u001b[0m     \u001b[39mwith\u001b[39;00m torch\u001b[39m.\u001b[39mno_grad():\n\u001b[1;32m     <a href='vscode-notebook-cell://ssh-remote%2Bmlai-lab-desk/home/ainl/library/discrete_edge_learning/forward_only.ipynb#ch0000004vscode-remote?line=13'>14</a>\u001b[0m         output, label, _ \u001b[39m=\u001b[39m batch_eval(batch)\n",
      "File \u001b[0;32m~/library/discrete_edge_learning/trainer/classification.py:56\u001b[0m, in \u001b[0;36mTrainer.get_batch\u001b[0;34m(self, test)\u001b[0m\n\u001b[1;32m     <a href='file:///home/ainl/library/discrete_edge_learning/trainer/classification.py?line=54'>55</a>\u001b[0m \u001b[39mdef\u001b[39;00m \u001b[39mget_batch\u001b[39m(\u001b[39mself\u001b[39m, test\u001b[39m=\u001b[39m\u001b[39mFalse\u001b[39;00m):\n\u001b[0;32m---> <a href='file:///home/ainl/library/discrete_edge_learning/trainer/classification.py?line=55'>56</a>\u001b[0m     batch \u001b[39m=\u001b[39m \u001b[39mself\u001b[39;49m\u001b[39m.\u001b[39;49mdataset\u001b[39m.\u001b[39;49mbatch(test\u001b[39m=\u001b[39;49mtest)\n\u001b[1;32m     <a href='file:///home/ainl/library/discrete_edge_learning/trainer/classification.py?line=56'>57</a>\u001b[0m     \u001b[39mreturn\u001b[39;00m batch\u001b[39m.\u001b[39mto(\u001b[39mself\u001b[39m\u001b[39m.\u001b[39mdevice)\n",
      "File \u001b[0;32m~/library/discrete_edge_learning/dataset/classification_dataset.py:108\u001b[0m, in \u001b[0;36mClassificationDataset.batch\u001b[0;34m(self, test)\u001b[0m\n\u001b[1;32m    <a href='file:///home/ainl/library/discrete_edge_learning/dataset/classification_dataset.py?line=104'>105</a>\u001b[0m     labels\u001b[39m.\u001b[39mappend(idx)\n\u001b[1;32m    <a href='file:///home/ainl/library/discrete_edge_learning/dataset/classification_dataset.py?line=105'>106</a>\u001b[0m     texts\u001b[39m.\u001b[39mappend(text)\n\u001b[0;32m--> <a href='file:///home/ainl/library/discrete_edge_learning/dataset/classification_dataset.py?line=107'>108</a>\u001b[0m output \u001b[39m=\u001b[39m \u001b[39mself\u001b[39;49m\u001b[39m.\u001b[39;49mtokenizer(texts, padding\u001b[39m=\u001b[39;49m\u001b[39mTrue\u001b[39;49;00m, truncation\u001b[39m=\u001b[39;49m\u001b[39mTrue\u001b[39;49;00m, return_tensors\u001b[39m=\u001b[39;49m\u001b[39m'\u001b[39;49m\u001b[39mpt\u001b[39;49m\u001b[39m'\u001b[39;49m, max_length\u001b[39m=\u001b[39;49m\u001b[39m512\u001b[39;49m)\n\u001b[1;32m    <a href='file:///home/ainl/library/discrete_edge_learning/dataset/classification_dataset.py?line=109'>110</a>\u001b[0m entry \u001b[39m=\u001b[39m ClassificationBatchEntry()\n\u001b[1;32m    <a href='file:///home/ainl/library/discrete_edge_learning/dataset/classification_dataset.py?line=110'>111</a>\u001b[0m entry\u001b[39m.\u001b[39mlabels \u001b[39m=\u001b[39m torch\u001b[39m.\u001b[39mtensor(labels, dtype\u001b[39m=\u001b[39mtorch\u001b[39m.\u001b[39mint64)\n",
      "File \u001b[0;32m~/anaconda3/envs/torch/lib/python3.8/site-packages/transformers/tokenization_utils_base.py:2434\u001b[0m, in \u001b[0;36mPreTrainedTokenizerBase.__call__\u001b[0;34m(self, text, text_pair, add_special_tokens, padding, truncation, max_length, stride, is_split_into_words, pad_to_multiple_of, return_tensors, return_token_type_ids, return_attention_mask, return_overflowing_tokens, return_special_tokens_mask, return_offsets_mapping, return_length, verbose, **kwargs)\u001b[0m\n\u001b[1;32m   <a href='file:///home/ainl/anaconda3/envs/torch/lib/python3.8/site-packages/transformers/tokenization_utils_base.py?line=2430'>2431</a>\u001b[0m     is_batched \u001b[39m=\u001b[39m \u001b[39misinstance\u001b[39m(text, (\u001b[39mlist\u001b[39m, \u001b[39mtuple\u001b[39m))\n\u001b[1;32m   <a href='file:///home/ainl/anaconda3/envs/torch/lib/python3.8/site-packages/transformers/tokenization_utils_base.py?line=2432'>2433</a>\u001b[0m \u001b[39mif\u001b[39;00m is_batched:\n\u001b[0;32m-> <a href='file:///home/ainl/anaconda3/envs/torch/lib/python3.8/site-packages/transformers/tokenization_utils_base.py?line=2433'>2434</a>\u001b[0m     \u001b[39mif\u001b[39;00m \u001b[39misinstance\u001b[39;49m(text_pair, \u001b[39mstr\u001b[39;49m):\n\u001b[1;32m   <a href='file:///home/ainl/anaconda3/envs/torch/lib/python3.8/site-packages/transformers/tokenization_utils_base.py?line=2434'>2435</a>\u001b[0m         \u001b[39mraise\u001b[39;00m \u001b[39mTypeError\u001b[39;00m(\n\u001b[1;32m   <a href='file:///home/ainl/anaconda3/envs/torch/lib/python3.8/site-packages/transformers/tokenization_utils_base.py?line=2435'>2436</a>\u001b[0m             \u001b[39m\"\u001b[39m\u001b[39mwhen tokenizing batches of text, `text_pair` must be a list or tuple with the same length as `text`.\u001b[39m\u001b[39m\"\u001b[39m\n\u001b[1;32m   <a href='file:///home/ainl/anaconda3/envs/torch/lib/python3.8/site-packages/transformers/tokenization_utils_base.py?line=2436'>2437</a>\u001b[0m         )\n\u001b[1;32m   <a href='file:///home/ainl/anaconda3/envs/torch/lib/python3.8/site-packages/transformers/tokenization_utils_base.py?line=2437'>2438</a>\u001b[0m     \u001b[39mif\u001b[39;00m text_pair \u001b[39mis\u001b[39;00m \u001b[39mnot\u001b[39;00m \u001b[39mNone\u001b[39;00m \u001b[39mand\u001b[39;00m \u001b[39mlen\u001b[39m(text) \u001b[39m!=\u001b[39m \u001b[39mlen\u001b[39m(text_pair):\n",
      "\u001b[0;31mKeyboardInterrupt\u001b[0m: "
     ]
    }
   ],
   "source": [
    "importlib.reload(sparse)\n",
    "sparse.benchmark_reset()\n",
    "sparse.timer_reset()\n",
    "\n",
    "#7600 is original\n",
    "def accuracy(batch_eval, N=600//4, return_lm=False):\n",
    "    #N = 10\n",
    "    trainer.seed()\n",
    "    trainer.dataset.batch_size = 4\n",
    "    acc_sum = 0\n",
    "    for i in tqdm.tqdm(range(N)):\n",
    "        batch = trainer.get_batch(test=True)\n",
    "        with torch.no_grad():\n",
    "            output, label, _ = batch_eval(batch)\n",
    "        acc_sum += torch.mean((output == label) * 1.0)\n",
    "    if return_lm: return acc_sum.item() / N, _\n",
    "    return acc_sum.item() / N\n",
    "\n",
    "# setup for evaluation\n",
    "sparse_bert = sparse.SparseBertModel(bert.config)\n",
    "sparse_bert.to(trainer.device)\n",
    "sparse_bert.eval()\n",
    "sparse_bert.load_state_dict(bert.state_dict())\n",
    "sparse.set_print(sparse_bert, False)\n",
    "sparse.set_backup_last_inputs(sparse_bert, False)\n",
    "sparse.set_output_masking(sparse_bert, False)\n",
    "\n",
    "sparse_bert = sparse_bert.to(trainer.device)\n",
    "approx_bert = approx_bert.to(trainer.device)\n",
    "bert = bert.to(trainer.device)\n",
    "sparse.set_print(sparse_bert, False)\n",
    "sparse.set_backup_last_inputs(sparse_bert, False)\n",
    "sparse.set_output_masking(sparse_bert, False)\n",
    "\n",
    "sparse.timer_reset()\n",
    "k = 0.25\n",
    "acc, lm = accuracy(\n",
    "    lambda batch: approx_eval(sparse_bert, bert, batch=batch, k=k),\n",
    "    return_lm = True,\n",
    ")\n",
    "acc_, lm = accuracy(\n",
    "    lambda batch: forward_eval(sparse_bert, batch=batch, k=k),\n",
    "    return_lm = True,\n",
    ")\n",
    "#acc = accuracy(lambda batch: eval(bert, batch=batch))\n",
    "# sparse.timer_report()\n",
    "# sparse.benchmark_report()\n",
    "acc_, acc"
   ]
  },
  {
   "cell_type": "code",
   "execution_count": 23,
   "metadata": {},
   "outputs": [],
   "source": [
    "#0.15 79         45.5\n",
    "#0.25 86.69      80.6184\n",
    "#0.5  91.4736    91.802     0.5:0.91842 0.2:0.91855 0.1:0.9186 0:0.9180"
   ]
  },
  {
   "cell_type": "code",
   "execution_count": 58,
   "metadata": {},
   "outputs": [
    {
     "name": "stderr",
     "output_type": "stream",
     "text": [
      "100%|██████████| 150/150 [00:01<00:00, 129.70it/s]\n",
      "100%|██████████| 150/150 [00:03<00:00, 44.28it/s]\n",
      "100%|██████████| 150/150 [00:21<00:00,  6.93it/s]\n"
     ]
    },
    {
     "name": "stdout",
     "output_type": "stream",
     "text": [
      "0.1 0.5203836930455636 0.3616666666666667 0.695\n"
     ]
    },
    {
     "name": "stderr",
     "output_type": "stream",
     "text": [
      "100%|██████████| 150/150 [00:03<00:00, 44.49it/s]\n",
      "100%|██████████| 150/150 [00:21<00:00,  6.90it/s]\n"
     ]
    },
    {
     "name": "stdout",
     "output_type": "stream",
     "text": [
      "0.25 0.9214145383104124 0.7816666666666666 0.8483333333333334\n"
     ]
    },
    {
     "name": "stderr",
     "output_type": "stream",
     "text": [
      "100%|██████████| 150/150 [00:03<00:00, 44.33it/s]\n",
      "100%|██████████| 150/150 [00:21<00:00,  6.89it/s]\n"
     ]
    },
    {
     "name": "stdout",
     "output_type": "stream",
     "text": [
      "0.375 0.9816513761467891 0.8916666666666667 0.9083333333333333\n"
     ]
    },
    {
     "name": "stderr",
     "output_type": "stream",
     "text": [
      "100%|██████████| 150/150 [00:03<00:00, 44.41it/s]\n",
      "100%|██████████| 150/150 [00:21<00:00,  6.89it/s]\n"
     ]
    },
    {
     "name": "stdout",
     "output_type": "stream",
     "text": [
      "0.5 1.0018281535648994 0.9133333333333333 0.9116666666666666\n"
     ]
    },
    {
     "name": "stderr",
     "output_type": "stream",
     "text": [
      "100%|██████████| 150/150 [00:03<00:00, 44.41it/s]\n",
      "100%|██████████| 150/150 [00:22<00:00,  6.79it/s]"
     ]
    },
    {
     "name": "stdout",
     "output_type": "stream",
     "text": [
      "0.75 1.0072332730560578 0.9283333333333333 0.9216666666666666\n"
     ]
    },
    {
     "name": "stderr",
     "output_type": "stream",
     "text": [
      "\n"
     ]
    },
    {
     "data": {
      "text/plain": [
       "<AxesSubplot:>"
      ]
     },
     "execution_count": 58,
     "metadata": {},
     "output_type": "execute_result"
    },
    {
     "data": {
      "image/png": "[encoded data removed]",
      "text/plain": [
       "<Figure size 432x288 with 1 Axes>"
      ]
     },
     "metadata": {
      "needs_background": "light"
     },
     "output_type": "display_data"
    }
   ],
   "source": [
    "importlib.reload(sparse)\n",
    "sparse.benchmark_reset()\n",
    "sparse.timer_reset()\n",
    "\n",
    "# setup for evaluation\n",
    "sparse_bert = sparse.SparseBertModel(bert.config)\n",
    "sparse_bert.to(trainer.device)\n",
    "sparse_bert.eval()\n",
    "sparse_bert.load_state_dict(bert.state_dict())\n",
    "sparse.set_print(sparse_bert, False)\n",
    "sparse.set_backup_last_inputs(sparse_bert, False)\n",
    "sparse.set_output_masking(sparse_bert, False)\n",
    "\n",
    "sparse_bert = sparse_bert.to(trainer.device)\n",
    "approx_bert = approx_bert.to(trainer.device)\n",
    "bert = bert.to(trainer.device)\n",
    "sparse.set_print(sparse_bert, False)\n",
    "sparse.set_backup_last_inputs(sparse_bert, False)\n",
    "sparse.set_output_masking(sparse_bert, False)\n",
    "\n",
    "acc_bert = accuracy(lambda batch: eval(bert, batch=batch))\n",
    "accs_backward = []\n",
    "accs_forward = []\n",
    "ks = [0.1, 0.25, 0.375, 0.5, 0.75]\n",
    "for k in ks:\n",
    "    acc_backward=acc_forward = 1.0\n",
    "    acc_backward, lm = accuracy(\n",
    "        lambda batch: approx_eval(sparse_bert, approx_bert, batch=batch, k=k),\n",
    "        return_lm = True,\n",
    "    )\n",
    "    acc_forward, lm = accuracy(\n",
    "        lambda batch: forward_eval(sparse_bert, batch=batch, k=k),\n",
    "        return_lm = True,\n",
    "    )\n",
    "    accs_backward.append(acc_backward)\n",
    "    accs_forward.append(acc_forward)\n",
    "    print(k, acc_backward / acc_forward, acc_backward, acc_forward)\n",
    "\n",
    "import pandas as pd\n",
    "df = pd.DataFrame()\n",
    "df['forward'] = accs_forward\n",
    "df['backward'] = accs_backward\n",
    "df.plot()"
   ]
  },
  {
   "cell_type": "code",
   "execution_count": null,
   "metadata": {},
   "outputs": [],
   "source": [
    "df #forward"
   ]
  },
  {
   "cell_type": "code",
   "execution_count": 50,
   "metadata": {},
   "outputs": [
    {
     "data": {
      "text/html": [
       "<div>\n",
       "<style scoped>\n",
       "    .dataframe tbody tr th:only-of-type {\n",
       "        vertical-align: middle;\n",
       "    }\n",
       "\n",
       "    .dataframe tbody tr th {\n",
       "        vertical-align: top;\n",
       "    }\n",
       "\n",
       "    .dataframe thead th {\n",
       "        text-align: right;\n",
       "    }\n",
       "</style>\n",
       "<table border=\"1\" class=\"dataframe\">\n",
       "  <thead>\n",
       "    <tr style=\"text-align: right;\">\n",
       "      <th></th>\n",
       "      <th>forward</th>\n",
       "      <th>backward</th>\n",
       "    </tr>\n",
       "  </thead>\n",
       "  <tbody>\n",
       "    <tr>\n",
       "      <th>0</th>\n",
       "      <td>1.0</td>\n",
       "      <td>0.360000</td>\n",
       "    </tr>\n",
       "    <tr>\n",
       "      <th>1</th>\n",
       "      <td>1.0</td>\n",
       "      <td>0.831447</td>\n",
       "    </tr>\n",
       "    <tr>\n",
       "      <th>2</th>\n",
       "      <td>1.0</td>\n",
       "      <td>0.900921</td>\n",
       "    </tr>\n",
       "    <tr>\n",
       "      <th>3</th>\n",
       "      <td>1.0</td>\n",
       "      <td>0.917895</td>\n",
       "    </tr>\n",
       "    <tr>\n",
       "      <th>4</th>\n",
       "      <td>1.0</td>\n",
       "      <td>0.926053</td>\n",
       "    </tr>\n",
       "  </tbody>\n",
       "</table>\n",
       "</div>"
      ],
      "text/plain": [
       "   forward  backward\n",
       "0      1.0  0.360000\n",
       "1      1.0  0.831447\n",
       "2      1.0  0.900921\n",
       "3      1.0  0.917895\n",
       "4      1.0  0.926053"
      ]
     },
     "execution_count": 50,
     "metadata": {},
     "output_type": "execute_result"
    }
   ],
   "source": [
    "df #not adjust"
   ]
  },
  {
   "cell_type": "code",
   "execution_count": 48,
   "metadata": {},
   "outputs": [
    {
     "data": {
      "text/html": [
       "<div>\n",
       "<style scoped>\n",
       "    .dataframe tbody tr th:only-of-type {\n",
       "        vertical-align: middle;\n",
       "    }\n",
       "\n",
       "    .dataframe tbody tr th {\n",
       "        vertical-align: top;\n",
       "    }\n",
       "\n",
       "    .dataframe thead th {\n",
       "        text-align: right;\n",
       "    }\n",
       "</style>\n",
       "<table border=\"1\" class=\"dataframe\">\n",
       "  <thead>\n",
       "    <tr style=\"text-align: right;\">\n",
       "      <th></th>\n",
       "      <th>forward</th>\n",
       "      <th>backward</th>\n",
       "    </tr>\n",
       "  </thead>\n",
       "  <tbody>\n",
       "    <tr>\n",
       "      <th>0</th>\n",
       "      <td>1.0</td>\n",
       "      <td>0.301842</td>\n",
       "    </tr>\n",
       "    <tr>\n",
       "      <th>1</th>\n",
       "      <td>1.0</td>\n",
       "      <td>0.665132</td>\n",
       "    </tr>\n",
       "    <tr>\n",
       "      <th>2</th>\n",
       "      <td>1.0</td>\n",
       "      <td>0.837105</td>\n",
       "    </tr>\n",
       "    <tr>\n",
       "      <th>3</th>\n",
       "      <td>1.0</td>\n",
       "      <td>0.902500</td>\n",
       "    </tr>\n",
       "    <tr>\n",
       "      <th>4</th>\n",
       "      <td>1.0</td>\n",
       "      <td>0.925789</td>\n",
       "    </tr>\n",
       "  </tbody>\n",
       "</table>\n",
       "</div>"
      ],
      "text/plain": [
       "   forward  backward\n",
       "0      1.0  0.301842\n",
       "1      1.0  0.665132\n",
       "2      1.0  0.837105\n",
       "3      1.0  0.902500\n",
       "4      1.0  0.925789"
      ]
     },
     "execution_count": 48,
     "metadata": {},
     "output_type": "execute_result"
    }
   ],
   "source": [
    "df #adjust softmax"
   ]
  },
  {
   "cell_type": "code",
   "execution_count": null,
   "metadata": {},
   "outputs": [],
   "source": [
    "lm_output = sparse.run_bert_with_approx(\n",
    "    sparse_bert, \n",
    "    approx_bert, \n",
    "    {\n",
    "        'input_ids': batch.input_ids,\n",
    "        'attention_mask': batch.attention_masks,\n",
    "        'output_hidden_states': True,\n",
    "        'output_attentions': True,\n",
    "    },\n",
    "    ks = [0.999]+[k]*(len(sparse_bert.encoder.layer)-1),\n",
    ")\n",
    "\n",
    "lm_output = sparse.run_bert_forward_sparsity(\n",
    "    sparse_bert, \n",
    "    {\n",
    "        'input_ids': batch.input_ids,\n",
    "        'attention_mask': batch.attention_masks,\n",
    "        'output_hidden_states': True,\n",
    "        'output_attentions': True,\n",
    "    },\n",
    "    ks = k,\n",
    ")"
   ]
  }
 ],
 "metadata": {
  "interpreter": {
   "hash": "58c896f8fe28377dc6f47dbc9814b9367447c8ff4b1090ace6962dd6db7d2533"
  },
  "kernelspec": {
   "display_name": "Python 3.8.12 ('torch')",
   "language": "python",
   "name": "python3"
  },
  "language_info": {
   "codemirror_mode": {
    "name": "ipython",
    "version": 3
   },
   "file_extension": ".py",
   "mimetype": "text/x-python",
   "name": "python",
   "nbconvert_exporter": "python",
   "pygments_lexer": "ipython3",
   "version": "3.8.12"
  },
  "orig_nbformat": 4
 },
 "nbformat": 4,
 "nbformat_minor": 2
}
