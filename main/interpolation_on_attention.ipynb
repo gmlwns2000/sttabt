{
 "cells": [
  {
   "cell_type": "code",
   "execution_count": 1,
   "metadata": {},
   "outputs": [],
   "source": [
    "import math\n",
    "import os\n",
    "import warnings\n",
    "from dataclasses import dataclass\n",
    "from typing import Optional, Tuple\n",
    "import time\n",
    "import torch\n",
    "import torch.utils.checkpoint\n",
    "from packaging import version\n",
    "from torch import nn\n",
    "from torch.nn import BCEWithLogitsLoss, CrossEntropyLoss, MSELoss\n",
    "from torch.nn import functional as F\n",
    "\n",
    "from transformers.activations import ACT2FN\n",
    "from transformers.file_utils import (\n",
    "    ModelOutput,\n",
    "    add_code_sample_docstrings,\n",
    "    add_start_docstrings,\n",
    "    add_start_docstrings_to_model_forward,\n",
    "    replace_return_docstrings,\n",
    ")\n",
    "from transformers.modeling_outputs import (\n",
    "    BaseModelOutputWithPastAndCrossAttentions,\n",
    "    BaseModelOutputWithPoolingAndCrossAttentions,\n",
    ")\n",
    "from transformers.modeling_utils import (\n",
    "    PreTrainedModel,\n",
    "    apply_chunking_to_forward,\n",
    "    find_pruneable_heads_and_indices,\n",
    "    prune_linear_layer,\n",
    ")\n",
    "from transformers.utils import logging\n",
    "from transformers.models.bert.configuration_bert import BertConfig\n",
    "\n",
    "logger = logging.get_logger(__name__)\n",
    "\n",
    "class BertEmbeddings(nn.Module):\n",
    "    \"\"\"Construct the embeddings from word, position and token_type embeddings.\"\"\"\n",
    "\n",
    "    def __init__(self, config):\n",
    "        super().__init__()\n",
    "        self.word_embeddings = nn.Embedding(config.vocab_size, config.hidden_size, padding_idx=config.pad_token_id)\n",
    "        self.position_embeddings = nn.Embedding(config.max_position_embeddings, config.hidden_size)\n",
    "        self.token_type_embeddings = nn.Embedding(config.type_vocab_size, config.hidden_size)\n",
    "\n",
    "        # self.LayerNorm is not snake-cased to stick with TensorFlow model variable name and be able to load\n",
    "        # any TensorFlow checkpoint file\n",
    "        self.LayerNorm = nn.LayerNorm(config.hidden_size, eps=config.layer_norm_eps)\n",
    "        self.dropout = nn.Dropout(config.hidden_dropout_prob)\n",
    "        # position_ids (1, len position emb) is contiguous in memory and exported when serialized\n",
    "        self.position_embedding_type = getattr(config, \"position_embedding_type\", \"absolute\")\n",
    "        self.register_buffer(\"position_ids\", torch.arange(config.max_position_embeddings).expand((1, -1)))\n",
    "        if version.parse(torch.__version__) > version.parse(\"1.6.0\"):\n",
    "            self.register_buffer(\n",
    "                \"token_type_ids\",\n",
    "                torch.zeros(self.position_ids.size(), dtype=torch.long),\n",
    "                persistent=False,\n",
    "            )\n",
    "\n",
    "    def forward(\n",
    "        self, input_ids=None, token_type_ids=None, position_ids=None, inputs_embeds=None, past_key_values_length=0\n",
    "    ):\n",
    "        if input_ids is not None:\n",
    "            input_shape = input_ids.size()\n",
    "        else:\n",
    "            input_shape = inputs_embeds.size()[:-1]\n",
    "\n",
    "        seq_length = input_shape[1]\n",
    "\n",
    "        if position_ids is None:\n",
    "            position_ids = self.position_ids[:, past_key_values_length : seq_length + past_key_values_length]\n",
    "\n",
    "        # Setting the token_type_ids to the registered buffer in constructor where it is all zeros, which usually occurs\n",
    "        # when its auto-generated, registered buffer helps users when tracing the model without passing token_type_ids, solves\n",
    "        # issue #5664\n",
    "        if token_type_ids is None:\n",
    "            if hasattr(self, \"token_type_ids\"):\n",
    "                buffered_token_type_ids = self.token_type_ids[:, :seq_length]\n",
    "                buffered_token_type_ids_expanded = buffered_token_type_ids.expand(input_shape[0], seq_length)\n",
    "                token_type_ids = buffered_token_type_ids_expanded\n",
    "            else:\n",
    "                token_type_ids = torch.zeros(input_shape, dtype=torch.long, device=self.position_ids.device)\n",
    "\n",
    "        if inputs_embeds is None:\n",
    "            inputs_embeds = self.word_embeddings(input_ids)\n",
    "        token_type_embeddings = self.token_type_embeddings(token_type_ids)\n",
    "\n",
    "        embeddings = inputs_embeds + token_type_embeddings\n",
    "        if self.position_embedding_type == \"absolute\":\n",
    "            position_embeddings = self.position_embeddings(position_ids)\n",
    "            embeddings += position_embeddings\n",
    "        embeddings = self.LayerNorm(embeddings)\n",
    "        embeddings = self.dropout(embeddings)\n",
    "        return embeddings\n",
    "\n",
    "def lowdim_apply(linear : nn.Linear, input, mode:bool, factor:int, interpolate='avg'):\n",
    "    #print('low_dim_apply', mode, factor, interpolate)\n",
    "    if mode:\n",
    "        if interpolate == 'avg':\n",
    "            s = linear.weight.shape\n",
    "            w = F.adaptive_avg_pool2d(linear.weight.view(1, 1, s[0], s[1]), output_size = (s[0] // factor, s[1] // factor)).view(s[0]//factor, s[1]//factor)\n",
    "            s = linear.bias.shape\n",
    "            b = F.adaptive_avg_pool1d(linear.bias.view(1,1,s[0]), (s[0] // factor,)).view(s[0]//factor)\n",
    "        elif interpolate == 'max':\n",
    "            s = linear.weight.shape\n",
    "            w = F.adaptive_max_pool2d(linear.weight.view(1, 1, s[0], s[1]), output_size = (s[0] // factor, s[1] // factor)).view(s[0]//factor, s[1]//factor)\n",
    "            s = linear.bias.shape\n",
    "            b = F.adaptive_max_pool1d(linear.bias.view(1,1,s[0]), (s[0] // factor,)).view(s[0]//factor)\n",
    "        elif interpolate == 'output_only':\n",
    "            s = linear.weight.shape\n",
    "            w = F.adaptive_max_pool2d(linear.weight.view(1, 1, s[0], s[1]), output_size = (s[0], s[1] // factor)).view(s[0], s[1]//factor)\n",
    "            s = linear.bias.shape\n",
    "            b = F.adaptive_max_pool1d(linear.bias.view(1,1,s[0]), (s[0] // factor,)).view(s[0]//factor)\n",
    "        else:\n",
    "            s = linear.weight.shape\n",
    "            w = F.interpolate(\n",
    "                linear.weight.view(1, 1, s[0], s[1]), \n",
    "                size = (s[0] // factor, s[1] // factor),\n",
    "                mode = interpolate\n",
    "            ).view(s[0]//factor, s[1]//factor)\n",
    "            s = linear.bias.shape\n",
    "            b = F.interpolate(\n",
    "                linear.bias.view(1,1,s[0]), \n",
    "                size = (s[0] // factor,),\n",
    "                mode = interpolate\n",
    "            ).view(s[0]//factor)\n",
    "        return F.linear(input, w, b)\n",
    "    else:\n",
    "        return linear(input)\n",
    "\n",
    "class BertSelfAttention(nn.Module):\n",
    "    def __init__(self, config, position_embedding_type=None):\n",
    "        super().__init__()\n",
    "        if config.hidden_size % config.num_attention_heads != 0 and not hasattr(config, \"embedding_size\"):\n",
    "            raise ValueError(\n",
    "                f\"The hidden size ({config.hidden_size}) is not a multiple of the number of attention \"\n",
    "                f\"heads ({config.num_attention_heads})\"\n",
    "            )\n",
    "        \n",
    "        self.hidden_size = config.hidden_size\n",
    "        self.lowdim = False\n",
    "        self.lowdim_linear = False\n",
    "        self.lowdim_qk_linear = True\n",
    "        self.lowdim_qk = False\n",
    "        self.lowdim_factor = 4\n",
    "        self.lowdim_mode = 'avg'\n",
    "\n",
    "        self.num_attention_heads = config.num_attention_heads\n",
    "        self.attention_head_size = int(config.hidden_size / config.num_attention_heads)\n",
    "        self.all_head_size = self.num_attention_heads * self.attention_head_size\n",
    "\n",
    "        self.query = nn.Linear(config.hidden_size, self.all_head_size)\n",
    "        self.key = nn.Linear(config.hidden_size, self.all_head_size)\n",
    "        self.value = nn.Linear(config.hidden_size, self.all_head_size)\n",
    "\n",
    "        self.dropout = nn.Dropout(config.attention_probs_dropout_prob)\n",
    "        self.position_embedding_type = position_embedding_type or getattr(\n",
    "            config, \"position_embedding_type\", \"absolute\"\n",
    "        )\n",
    "        if self.position_embedding_type == \"relative_key\" or self.position_embedding_type == \"relative_key_query\":\n",
    "            self.max_position_embeddings = config.max_position_embeddings\n",
    "            self.distance_embedding = nn.Embedding(2 * config.max_position_embeddings - 1, self.attention_head_size)\n",
    "\n",
    "        self.is_decoder = config.is_decoder\n",
    "        self.print = True\n",
    "    \n",
    "    def update_lowdim(self):\n",
    "        def downsize_linear(linear):\n",
    "            factor = self.lowdim_factor\n",
    "            s = linear.weight.shape\n",
    "            w = F.adaptive_avg_pool2d(linear.weight.view(1, 1, s[0], s[1]), output_size = (s[0] // factor, s[1])).view(s[0] // factor, s[1])\n",
    "            s = linear.bias.shape\n",
    "            b = F.adaptive_avg_pool1d(linear.bias.view(1,1,s[0]), (s[0] // factor,)).view(s[0]//factor)\n",
    "            l = nn.Linear(w.shape[1], w.shape[0])\n",
    "            l = l.to(w.device)\n",
    "            l.weight.data[:,:] = w\n",
    "            l.bias.data[:] = b\n",
    "            #print(linear.weight.shape, 'to', l.weight.shape)\n",
    "            return l\n",
    "        self.low_query = downsize_linear(self.query)\n",
    "        self.low_key = downsize_linear(self.key)\n",
    "\n",
    "    def resize_vector(self, x, use, factor=4):\n",
    "        #print('resize_vec', use, factor)\n",
    "        if not use: return x\n",
    "        #return F.interpolate(x, (model.config.hidden_size // factor,))\n",
    "        s = x.shape\n",
    "        return F.adaptive_avg_pool1d(x.reshape(s[0]*s[1], s[2], s[3]), output_size = (s[-1] // factor, )).view(s[0],s[1],s[2],s[3]//factor)\n",
    "\n",
    "    def transpose_for_scores(self, x):\n",
    "        new_x_shape = x.size()[:-1] + (self.num_attention_heads, x.shape[-1] // self.num_attention_heads)\n",
    "        x = x.view(*new_x_shape)\n",
    "        return x.permute(0, 2, 1, 3)\n",
    "\n",
    "    def forward(\n",
    "        self,\n",
    "        hidden_states,\n",
    "        attention_mask=None,\n",
    "        head_mask=None, #removed\n",
    "        encoder_hidden_states=None, #removed\n",
    "        encoder_attention_mask=None, #removed\n",
    "        past_key_value=None, #removed\n",
    "        output_attentions=False,\n",
    "    ):\n",
    "        assert encoder_hidden_states is None and encoder_attention_mask is None and head_mask is None and past_key_value is None\n",
    "\n",
    "        if self.is_decoder: raise Exception('removed')\n",
    "\n",
    "        if self.print: \n",
    "            print('SelfAttention.forward: hidden_states, attention_mask backuped')\n",
    "            self.last_hidden_states = hidden_states.clone().detach()\n",
    "            self.last_attention_mask = attention_mask.clone().detach()\n",
    "        if self.lowdim_qk_linear and self.lowdim:\n",
    "            mixed_query_layer = self.low_query(hidden_states)\n",
    "        else:\n",
    "            mixed_query_layer = lowdim_apply(self.query, hidden_states, self.lowdim and self.lowdim_linear, self.lowdim_factor, self.lowdim_mode)\n",
    "\n",
    "        is_cross_attention = encoder_hidden_states is not None\n",
    "        if is_cross_attention and past_key_value is not None:\n",
    "            raise Exception('oops')\n",
    "        elif is_cross_attention:\n",
    "            raise Exception('oops')\n",
    "        elif past_key_value is not None:\n",
    "            raise Exception('oops')\n",
    "        else:\n",
    "            if self.print: print('SelfAttention.forward: expected')\n",
    "            if self.lowdim_qk_linear and self.lowdim:\n",
    "                key_layer = self.transpose_for_scores(self.low_key(hidden_states))\n",
    "            else:\n",
    "                key_layer = self.resize_vector(\n",
    "                    self.transpose_for_scores(\n",
    "                        lowdim_apply(self.key, hidden_states, self.lowdim and self.lowdim_linear, self.lowdim_factor, self.lowdim_mode)\n",
    "                    ),\n",
    "                    self.lowdim and self.lowdim_qk,\n",
    "                    self.lowdim_factor)\n",
    "            value_layer = self.transpose_for_scores(\n",
    "                lowdim_apply(self.value, hidden_states, self.lowdim and self.lowdim_linear, self.lowdim_factor, self.lowdim_mode))\n",
    "\n",
    "        query_layer = self.resize_vector(\n",
    "            self.transpose_for_scores(mixed_query_layer),\n",
    "            self.lowdim and self.lowdim_qk, \n",
    "            self.lowdim_factor)\n",
    "\n",
    "        # Take the dot product between \"query\" and \"key\" to get the raw attention scores.\n",
    "        #print(query_layer.shape, key_layer.transpose(-1, -2).shape)\n",
    "        attention_scores = torch.matmul(query_layer, key_layer.transpose(-1, -2))\n",
    "\n",
    "        if self.position_embedding_type == \"relative_key\" or self.position_embedding_type == \"relative_key_query\":\n",
    "            raise Exception('lowdim not applied')\n",
    "\n",
    "        if self.lowdim: lowdim_factor = self.lowdim_factor\n",
    "        else: lowdim_factor = 1\n",
    "        \n",
    "        attention_scores = attention_scores / math.sqrt(self.attention_head_size // lowdim_factor)\n",
    "        if attention_mask is not None:\n",
    "            # Apply the attention mask is (precomputed for all layers in BertModel forward() function)\n",
    "            attention_scores = attention_scores + attention_mask\n",
    "\n",
    "        # Normalize the attention scores to probabilities.\n",
    "        attention_probs = nn.functional.softmax(attention_scores, dim=-1)\n",
    "\n",
    "        # This is actually dropping out entire tokens to attend to, which might\n",
    "        # seem a bit unusual, but is taken from the original Transformer paper.\n",
    "        attention_probs = self.dropout(attention_probs)\n",
    "\n",
    "        # Mask heads if we want to\n",
    "        if head_mask is not None: raise Exception()\n",
    "        if self.print: \n",
    "            print('SelfAttention.forward: attention_probs.shape', attention_probs.shape)\n",
    "            self.last_attention_probs = attention_probs.clone().detach()\n",
    "            print('SelfAttention.forward: last_attention_probs is cloned from attention_probs')\n",
    "\n",
    "        context_layer = torch.matmul(attention_probs, value_layer)\n",
    "\n",
    "        context_layer = context_layer.permute(0, 2, 1, 3).contiguous()\n",
    "        if self.lowdim_linear: \n",
    "            new_context_layer_shape = context_layer.size()[:-2] + (self.all_head_size // lowdim_factor,)\n",
    "        else: \n",
    "            new_context_layer_shape = context_layer.size()[:-2] + (self.all_head_size,)\n",
    "        context_layer = context_layer.view(*new_context_layer_shape)\n",
    "\n",
    "        outputs = (context_layer, attention_probs) if output_attentions else (context_layer,)\n",
    "        \n",
    "        return outputs\n",
    "\n",
    "\n",
    "class BertSelfOutput(nn.Module):\n",
    "    def __init__(self, config):\n",
    "        super().__init__()\n",
    "        self.dense = nn.Linear(config.hidden_size, config.hidden_size)\n",
    "        self.LayerNorm = nn.LayerNorm(config.hidden_size, eps=config.layer_norm_eps)\n",
    "        self.dropout = nn.Dropout(config.hidden_dropout_prob)\n",
    "\n",
    "    def forward(self, hidden_states, input_tensor):\n",
    "        hidden_states = self.dense(hidden_states)\n",
    "        hidden_states = self.dropout(hidden_states)\n",
    "        hidden_states = self.LayerNorm(hidden_states + input_tensor)\n",
    "        return hidden_states\n",
    "\n",
    "\n",
    "class BertAttention(nn.Module):\n",
    "    def __init__(self, config, position_embedding_type=None):\n",
    "        super().__init__()\n",
    "        self.self = BertSelfAttention(config, position_embedding_type=position_embedding_type)\n",
    "        self.output = BertSelfOutput(config)\n",
    "        self.pruned_heads = set()\n",
    "\n",
    "    def prune_heads(self, heads):\n",
    "        print('prune_heads called')\n",
    "        raise Exception('unknown function')\n",
    "        if len(heads) == 0:\n",
    "            return\n",
    "        heads, index = find_pruneable_heads_and_indices(\n",
    "            heads, self.self.num_attention_heads, self.self.attention_head_size, self.pruned_heads\n",
    "        )\n",
    "\n",
    "        # Prune linear layers\n",
    "        self.self.query = prune_linear_layer(self.self.query, index)\n",
    "        self.self.key = prune_linear_layer(self.self.key, index)\n",
    "        self.self.value = prune_linear_layer(self.self.value, index)\n",
    "        self.output.dense = prune_linear_layer(self.output.dense, index, dim=1)\n",
    "\n",
    "        # Update hyper params and store pruned heads\n",
    "        self.self.num_attention_heads = self.self.num_attention_heads - len(heads)\n",
    "        self.self.all_head_size = self.self.attention_head_size * self.self.num_attention_heads\n",
    "        self.pruned_heads = self.pruned_heads.union(heads)\n",
    "\n",
    "    def forward(\n",
    "        self,\n",
    "        hidden_states,\n",
    "        attention_mask=None,\n",
    "        head_mask=None,\n",
    "        encoder_hidden_states=None,\n",
    "        encoder_attention_mask=None,\n",
    "        past_key_value=None,\n",
    "        output_attentions=False,\n",
    "    ):\n",
    "        self_outputs = self.self(\n",
    "            hidden_states,\n",
    "            attention_mask,\n",
    "            head_mask,\n",
    "            encoder_hidden_states,\n",
    "            encoder_attention_mask,\n",
    "            past_key_value,\n",
    "            output_attentions,\n",
    "        )\n",
    "        attention_output = self.output(self_outputs[0], hidden_states)\n",
    "        outputs = (attention_output,) + self_outputs[1:]  # add attentions if we output them\n",
    "        return outputs\n",
    "\n",
    "\n",
    "class BertIntermediate(nn.Module):\n",
    "    def __init__(self, config):\n",
    "        super().__init__()\n",
    "        self.dense = nn.Linear(config.hidden_size, config.intermediate_size)\n",
    "        if isinstance(config.hidden_act, str):\n",
    "            self.intermediate_act_fn = ACT2FN[config.hidden_act]\n",
    "        else:\n",
    "            self.intermediate_act_fn = config.hidden_act\n",
    "\n",
    "    def forward(self, hidden_states):\n",
    "        hidden_states = self.dense(hidden_states)\n",
    "        hidden_states = self.intermediate_act_fn(hidden_states)\n",
    "        return hidden_states\n",
    "\n",
    "\n",
    "class BertOutput(nn.Module):\n",
    "    def __init__(self, config):\n",
    "        super().__init__()\n",
    "        self.dense = nn.Linear(config.intermediate_size, config.hidden_size)\n",
    "        self.LayerNorm = nn.LayerNorm(config.hidden_size, eps=config.layer_norm_eps)\n",
    "        self.dropout = nn.Dropout(config.hidden_dropout_prob)\n",
    "\n",
    "    def forward(self, hidden_states, input_tensor):\n",
    "        hidden_states = self.dense(hidden_states)\n",
    "        hidden_states = self.dropout(hidden_states)\n",
    "        hidden_states = self.LayerNorm(hidden_states + input_tensor)\n",
    "        return hidden_states\n",
    "\n",
    "\n",
    "class BertLayer(nn.Module):\n",
    "    def __init__(self, config):\n",
    "        super().__init__()\n",
    "        self.chunk_size_feed_forward = config.chunk_size_feed_forward\n",
    "        self.seq_len_dim = 1\n",
    "        self.attention = BertAttention(config)\n",
    "        self.is_decoder = config.is_decoder\n",
    "        self.add_cross_attention = config.add_cross_attention\n",
    "        if self.add_cross_attention:\n",
    "            if not self.is_decoder:\n",
    "                raise ValueError(f\"{self} should be used as a decoder model if cross attention is added\")\n",
    "            self.crossattention = BertAttention(config, position_embedding_type=\"absolute\")\n",
    "        self.intermediate = BertIntermediate(config)\n",
    "        self.output = BertOutput(config)\n",
    "\n",
    "    def forward(\n",
    "        self,\n",
    "        hidden_states,\n",
    "        attention_mask=None,\n",
    "        head_mask=None,\n",
    "        encoder_hidden_states=None,\n",
    "        encoder_attention_mask=None,\n",
    "        past_key_value=None,\n",
    "        output_attentions=False,\n",
    "    ):\n",
    "        if self.is_decoder: raise Exception('removed')\n",
    "        \n",
    "        # decoder uni-directional self-attention cached key/values tuple is at positions 1,2\n",
    "        self_attn_past_key_value = past_key_value[:2] if past_key_value is not None else None\n",
    "        self_attention_outputs = self.attention(\n",
    "            hidden_states,\n",
    "            attention_mask,\n",
    "            head_mask,\n",
    "            output_attentions=output_attentions,\n",
    "            past_key_value=self_attn_past_key_value,\n",
    "        )\n",
    "        attention_output = self_attention_outputs[0]\n",
    "\n",
    "        # if decoder, the last output is tuple of self-attn cache\n",
    "        if self.is_decoder:\n",
    "            pass\n",
    "        else:\n",
    "            outputs = self_attention_outputs[1:]  # add self attentions if we output attention weights\n",
    "\n",
    "        layer_output = apply_chunking_to_forward(\n",
    "            self.feed_forward_chunk, self.chunk_size_feed_forward, self.seq_len_dim, attention_output\n",
    "        )\n",
    "        outputs = (layer_output,) + outputs\n",
    "\n",
    "        return outputs\n",
    "\n",
    "    def feed_forward_chunk(self, attention_output):\n",
    "        intermediate_output = self.intermediate(attention_output)\n",
    "        layer_output = self.output(intermediate_output, attention_output)\n",
    "        return layer_output\n",
    "\n",
    "\n",
    "class BertEncoder(nn.Module):\n",
    "    def __init__(self, config):\n",
    "        super().__init__()\n",
    "        self.config = config\n",
    "        self.layer = nn.ModuleList([BertLayer(config) for _ in range(config.num_hidden_layers)])\n",
    "        self.gradient_checkpointing = False\n",
    "\n",
    "    def forward(\n",
    "        self,\n",
    "        hidden_states,\n",
    "        attention_mask=None,\n",
    "        head_mask=None,\n",
    "        encoder_hidden_states=None,\n",
    "        encoder_attention_mask=None,\n",
    "        past_key_values=None,\n",
    "        use_cache=None,\n",
    "        output_attentions=False,\n",
    "        output_hidden_states=False,\n",
    "        return_dict=True,\n",
    "    ):\n",
    "        all_hidden_states = () if output_hidden_states else None\n",
    "        all_self_attentions = () if output_attentions else None\n",
    "        all_cross_attentions = () if output_attentions and self.config.add_cross_attention else None\n",
    "\n",
    "        next_decoder_cache = () if use_cache else None\n",
    "        for i, layer_module in enumerate(self.layer):\n",
    "            if output_hidden_states:\n",
    "                all_hidden_states = all_hidden_states + (hidden_states,)\n",
    "\n",
    "            layer_head_mask = head_mask[i] if head_mask is not None else None\n",
    "            past_key_value = past_key_values[i] if past_key_values is not None else None\n",
    "\n",
    "            if self.gradient_checkpointing and self.training:\n",
    "                raise Exception('removed')\n",
    "            else:\n",
    "                layer_outputs = layer_module(\n",
    "                    hidden_states,\n",
    "                    attention_mask,\n",
    "                    layer_head_mask,\n",
    "                    encoder_hidden_states,\n",
    "                    encoder_attention_mask,\n",
    "                    past_key_value,\n",
    "                    output_attentions,\n",
    "                )\n",
    "\n",
    "            hidden_states = layer_outputs[0]\n",
    "            if use_cache:\n",
    "                next_decoder_cache += (layer_outputs[-1],)\n",
    "            if output_attentions:\n",
    "                all_self_attentions = all_self_attentions + (layer_outputs[1],)\n",
    "                if self.config.add_cross_attention:\n",
    "                    all_cross_attentions = all_cross_attentions + (layer_outputs[2],)\n",
    "\n",
    "        if output_hidden_states:\n",
    "            all_hidden_states = all_hidden_states + (hidden_states,)\n",
    "\n",
    "        if not return_dict:\n",
    "            return tuple(\n",
    "                v\n",
    "                for v in [\n",
    "                    hidden_states,\n",
    "                    next_decoder_cache,\n",
    "                    all_hidden_states,\n",
    "                    all_self_attentions,\n",
    "                    all_cross_attentions,\n",
    "                ]\n",
    "                if v is not None\n",
    "            )\n",
    "        return BaseModelOutputWithPastAndCrossAttentions(\n",
    "            last_hidden_state=hidden_states,\n",
    "            past_key_values=next_decoder_cache,\n",
    "            hidden_states=all_hidden_states,\n",
    "            attentions=all_self_attentions,\n",
    "            cross_attentions=all_cross_attentions,\n",
    "        )\n",
    "\n",
    "\n",
    "class BertPooler(nn.Module):\n",
    "    def __init__(self, config):\n",
    "        super().__init__()\n",
    "        self.dense = nn.Linear(config.hidden_size, config.hidden_size)\n",
    "        self.activation = nn.Tanh()\n",
    "\n",
    "    def forward(self, hidden_states):\n",
    "        # We \"pool\" the model by simply taking the hidden state corresponding\n",
    "        # to the first token.\n",
    "        first_token_tensor = hidden_states[:, 0]\n",
    "        pooled_output = self.dense(first_token_tensor)\n",
    "        pooled_output = self.activation(pooled_output)\n",
    "        return pooled_output\n",
    "\n",
    "\n",
    "class BertPreTrainedModel(PreTrainedModel):\n",
    "    \"\"\"\n",
    "    An abstract class to handle weights initialization and a simple interface for downloading and loading pretrained\n",
    "    models.\n",
    "    \"\"\"\n",
    "\n",
    "    config_class = BertConfig\n",
    "    #load_tf_weights = load_tf_weights_in_bert\n",
    "    base_model_prefix = \"bert\"\n",
    "    supports_gradient_checkpointing = True\n",
    "    _keys_to_ignore_on_load_missing = [r\"position_ids\"]\n",
    "\n",
    "    def _init_weights(self, module):\n",
    "        \"\"\"Initialize the weights\"\"\"\n",
    "        if isinstance(module, nn.Linear):\n",
    "            # Slightly different from the TF version which uses truncated_normal for initialization\n",
    "            # cf https://github.com/pytorch/pytorch/pull/5617\n",
    "            module.weight.data.normal_(mean=0.0, std=self.config.initializer_range)\n",
    "            if module.bias is not None:\n",
    "                module.bias.data.zero_()\n",
    "        elif isinstance(module, nn.Embedding):\n",
    "            module.weight.data.normal_(mean=0.0, std=self.config.initializer_range)\n",
    "            if module.padding_idx is not None:\n",
    "                module.weight.data[module.padding_idx].zero_()\n",
    "        elif isinstance(module, nn.LayerNorm):\n",
    "            module.bias.data.zero_()\n",
    "            module.weight.data.fill_(1.0)\n",
    "\n",
    "    def _set_gradient_checkpointing(self, module, value=False):\n",
    "        if isinstance(module, BertEncoder):\n",
    "            module.gradient_checkpointing = value\n",
    "\n",
    "\n",
    "class BertModel(BertPreTrainedModel):\n",
    "    \"\"\"\n",
    "\n",
    "    The model can behave as an encoder (with only self-attention) as well as a decoder, in which case a layer of\n",
    "    cross-attention is added between the self-attention layers, following the architecture described in [Attention is\n",
    "    all you need](https://arxiv.org/abs/1706.03762) by Ashish Vaswani, Noam Shazeer, Niki Parmar, Jakob Uszkoreit,\n",
    "    Llion Jones, Aidan N. Gomez, Lukasz Kaiser and Illia Polosukhin.\n",
    "\n",
    "    To behave as an decoder the model needs to be initialized with the `is_decoder` argument of the configuration set\n",
    "    to `True`. To be used in a Seq2Seq model, the model needs to initialized with both `is_decoder` argument and\n",
    "    `add_cross_attention` set to `True`; an `encoder_hidden_states` is then expected as an input to the forward pass.\n",
    "    \"\"\"\n",
    "\n",
    "    def __init__(self, config, add_pooling_layer=True):\n",
    "        super().__init__(config)\n",
    "        self.config = config\n",
    "\n",
    "        self.embeddings = BertEmbeddings(config)\n",
    "        self.encoder = BertEncoder(config)\n",
    "\n",
    "        self.pooler = BertPooler(config) if add_pooling_layer else None\n",
    "\n",
    "        # Initialize weights and apply final processing\n",
    "        self.post_init()\n",
    "\n",
    "    def get_input_embeddings(self):\n",
    "        return self.embeddings.word_embeddings\n",
    "\n",
    "    def set_input_embeddings(self, value):\n",
    "        self.embeddings.word_embeddings = value\n",
    "\n",
    "    def _prune_heads(self, heads_to_prune):\n",
    "        \"\"\"\n",
    "        Prunes heads of the model. heads_to_prune: dict of {layer_num: list of heads to prune in this layer} See base\n",
    "        class PreTrainedModel\n",
    "        \"\"\"\n",
    "        for layer, heads in heads_to_prune.items():\n",
    "            self.encoder.layer[layer].attention.prune_heads(heads)\n",
    "\n",
    "\n",
    "    def forward(\n",
    "        self,\n",
    "        input_ids=None,\n",
    "        attention_mask=None,\n",
    "        token_type_ids=None,\n",
    "        position_ids=None,\n",
    "        head_mask=None,\n",
    "        inputs_embeds=None,\n",
    "        encoder_hidden_states=None,\n",
    "        encoder_attention_mask=None,\n",
    "        past_key_values=None,\n",
    "        use_cache=None,\n",
    "        output_attentions=None,\n",
    "        output_hidden_states=None,\n",
    "        return_dict=None,\n",
    "    ):\n",
    "        output_attentions = output_attentions if output_attentions is not None else self.config.output_attentions\n",
    "        output_hidden_states = (\n",
    "            output_hidden_states if output_hidden_states is not None else self.config.output_hidden_states\n",
    "        )\n",
    "        return_dict = return_dict if return_dict is not None else self.config.use_return_dict\n",
    "\n",
    "        if self.config.is_decoder:\n",
    "            use_cache = use_cache if use_cache is not None else self.config.use_cache\n",
    "        else:\n",
    "            use_cache = False\n",
    "\n",
    "        if input_ids is not None and inputs_embeds is not None:\n",
    "            raise ValueError(\"You cannot specify both input_ids and inputs_embeds at the same time\")\n",
    "        elif input_ids is not None:\n",
    "            input_shape = input_ids.size()\n",
    "        elif inputs_embeds is not None:\n",
    "            input_shape = inputs_embeds.size()[:-1]\n",
    "        else:\n",
    "            raise ValueError(\"You have to specify either input_ids or inputs_embeds\")\n",
    "\n",
    "        batch_size, seq_length = input_shape\n",
    "        device = input_ids.device if input_ids is not None else inputs_embeds.device\n",
    "\n",
    "        # past_key_values_length\n",
    "        past_key_values_length = past_key_values[0][0].shape[2] if past_key_values is not None else 0\n",
    "\n",
    "        if attention_mask is None:\n",
    "            attention_mask = torch.ones(((batch_size, seq_length + past_key_values_length)), device=device)\n",
    "\n",
    "        if token_type_ids is None:\n",
    "            if hasattr(self.embeddings, \"token_type_ids\"):\n",
    "                buffered_token_type_ids = self.embeddings.token_type_ids[:, :seq_length]\n",
    "                buffered_token_type_ids_expanded = buffered_token_type_ids.expand(batch_size, seq_length)\n",
    "                token_type_ids = buffered_token_type_ids_expanded\n",
    "            else:\n",
    "                token_type_ids = torch.zeros(input_shape, dtype=torch.long, device=device)\n",
    "\n",
    "        # We can provide a self-attention mask of dimensions [batch_size, from_seq_length, to_seq_length]\n",
    "        # ourselves in which case we just need to make it broadcastable to all heads.\n",
    "        extended_attention_mask: torch.Tensor = self.get_extended_attention_mask(attention_mask, input_shape, device)\n",
    "\n",
    "        # If a 2D or 3D attention mask is provided for the cross-attention\n",
    "        # we need to make broadcastable to [batch_size, num_heads, seq_length, seq_length]\n",
    "        if self.config.is_decoder and encoder_hidden_states is not None:\n",
    "            encoder_batch_size, encoder_sequence_length, _ = encoder_hidden_states.size()\n",
    "            encoder_hidden_shape = (encoder_batch_size, encoder_sequence_length)\n",
    "            if encoder_attention_mask is None:\n",
    "                encoder_attention_mask = torch.ones(encoder_hidden_shape, device=device)\n",
    "            encoder_extended_attention_mask = self.invert_attention_mask(encoder_attention_mask)\n",
    "        else:\n",
    "            encoder_extended_attention_mask = None\n",
    "\n",
    "        # Prepare head mask if needed\n",
    "        # 1.0 in head_mask indicate we keep the head\n",
    "        # attention_probs has shape bsz x n_heads x N x N\n",
    "        # input head_mask has shape [num_heads] or [num_hidden_layers x num_heads]\n",
    "        # and head_mask is converted to shape [num_hidden_layers x batch x num_heads x seq_length x seq_length]\n",
    "        head_mask = self.get_head_mask(head_mask, self.config.num_hidden_layers)\n",
    "\n",
    "        embedding_output = self.embeddings(\n",
    "            input_ids=input_ids,\n",
    "            position_ids=position_ids,\n",
    "            token_type_ids=token_type_ids,\n",
    "            inputs_embeds=inputs_embeds,\n",
    "            past_key_values_length=past_key_values_length,\n",
    "        )\n",
    "        encoder_outputs = self.encoder(\n",
    "            embedding_output,\n",
    "            attention_mask=extended_attention_mask,\n",
    "            head_mask=head_mask,\n",
    "            encoder_hidden_states=encoder_hidden_states,\n",
    "            encoder_attention_mask=encoder_extended_attention_mask,\n",
    "            past_key_values=past_key_values,\n",
    "            use_cache=use_cache,\n",
    "            output_attentions=output_attentions,\n",
    "            output_hidden_states=output_hidden_states,\n",
    "            return_dict=return_dict,\n",
    "        )\n",
    "        sequence_output = encoder_outputs[0]\n",
    "        pooled_output = self.pooler(sequence_output) if self.pooler is not None else None\n",
    "\n",
    "        if not return_dict:\n",
    "            return (sequence_output, pooled_output) + encoder_outputs[1:]\n",
    "\n",
    "        return BaseModelOutputWithPoolingAndCrossAttentions(\n",
    "            last_hidden_state=sequence_output,\n",
    "            pooler_output=pooled_output,\n",
    "            past_key_values=encoder_outputs.past_key_values,\n",
    "            hidden_states=encoder_outputs.hidden_states,\n",
    "            attentions=encoder_outputs.attentions,\n",
    "            cross_attentions=encoder_outputs.cross_attentions,\n",
    "        )"
   ]
  },
  {
   "cell_type": "code",
   "execution_count": 2,
   "metadata": {},
   "outputs": [
    {
     "name": "stderr",
     "output_type": "stream",
     "text": [
      "Some weights of the model checkpoint at bert-base-uncased were not used when initializing BertModel: ['cls.predictions.transform.dense.bias', 'cls.predictions.bias', 'cls.seq_relationship.bias', 'cls.predictions.transform.LayerNorm.bias', 'cls.predictions.decoder.weight', 'cls.seq_relationship.weight', 'cls.predictions.transform.LayerNorm.weight', 'cls.predictions.transform.dense.weight']\n",
      "- This IS expected if you are initializing BertModel from the checkpoint of a model trained on another task or with another architecture (e.g. initializing a BertForSequenceClassification model from a BertForPreTraining model).\n",
      "- This IS NOT expected if you are initializing BertModel from the checkpoint of a model that you expect to be exactly identical (initializing a BertForSequenceClassification model from a BertForSequenceClassification model).\n",
      "Some weights of the model checkpoint at bert-base-uncased were not used when initializing BertModel: ['cls.predictions.transform.dense.bias', 'cls.predictions.bias', 'cls.seq_relationship.bias', 'cls.predictions.transform.LayerNorm.bias', 'cls.predictions.decoder.weight', 'cls.seq_relationship.weight', 'cls.predictions.transform.LayerNorm.weight', 'cls.predictions.transform.dense.weight']\n",
      "- This IS expected if you are initializing BertModel from the checkpoint of a model trained on another task or with another architecture (e.g. initializing a BertForSequenceClassification model from a BertForPreTraining model).\n",
      "- This IS NOT expected if you are initializing BertModel from the checkpoint of a model that you expect to be exactly identical (initializing a BertForSequenceClassification model from a BertForSequenceClassification model).\n"
     ]
    }
   ],
   "source": [
    "from transformers import BertTokenizer\n",
    "from transformers import BertModel as RealBertModel\n",
    "hugging = 'google/bert_uncased_L-2_H-128_A-2'\n",
    "hugging = 'bert-base-uncased'\n",
    "model = BertModel.from_pretrained(hugging)\n",
    "model.cuda()\n",
    "model.eval()\n",
    "real_model = RealBertModel.from_pretrained(hugging)\n",
    "real_model.cuda()\n",
    "real_model.eval()\n",
    "tokenizer = BertTokenizer.from_pretrained(hugging)\n",
    "text = ['[CLS]Hello, World! I love to play with transformers.', '[CLS]This is the batch.', '[CLS]I love cats']\n",
    "tokenized_result = tokenizer(text, padding=True, return_tensors='pt')\n",
    "tokenized_result.input_ids = tokenized_result.input_ids.cuda()"
   ]
  },
  {
   "cell_type": "code",
   "execution_count": 3,
   "metadata": {},
   "outputs": [
    {
     "name": "stdout",
     "output_type": "stream",
     "text": [
      "SelfAttention.forward: hidden_states, attention_mask backuped\n",
      "SelfAttention.forward: expected\n",
      "SelfAttention.forward: attention_probs.shape torch.Size([3, 12, 14, 14])\n",
      "SelfAttention.forward: last_attention_probs is cloned from attention_probs\n",
      "SelfAttention.forward: hidden_states, attention_mask backuped\n",
      "SelfAttention.forward: expected\n",
      "SelfAttention.forward: attention_probs.shape torch.Size([3, 12, 14, 14])\n",
      "SelfAttention.forward: last_attention_probs is cloned from attention_probs\n",
      "SelfAttention.forward: hidden_states, attention_mask backuped\n",
      "SelfAttention.forward: expected\n",
      "SelfAttention.forward: attention_probs.shape torch.Size([3, 12, 14, 14])\n",
      "SelfAttention.forward: last_attention_probs is cloned from attention_probs\n",
      "SelfAttention.forward: hidden_states, attention_mask backuped\n",
      "SelfAttention.forward: expected\n",
      "SelfAttention.forward: attention_probs.shape torch.Size([3, 12, 14, 14])\n",
      "SelfAttention.forward: last_attention_probs is cloned from attention_probs\n",
      "SelfAttention.forward: hidden_states, attention_mask backuped\n",
      "SelfAttention.forward: expected\n",
      "SelfAttention.forward: attention_probs.shape torch.Size([3, 12, 14, 14])\n",
      "SelfAttention.forward: last_attention_probs is cloned from attention_probs\n",
      "SelfAttention.forward: hidden_states, attention_mask backuped\n",
      "SelfAttention.forward: expected\n",
      "SelfAttention.forward: attention_probs.shape torch.Size([3, 12, 14, 14])\n",
      "SelfAttention.forward: last_attention_probs is cloned from attention_probs\n",
      "SelfAttention.forward: hidden_states, attention_mask backuped\n",
      "SelfAttention.forward: expected\n",
      "SelfAttention.forward: attention_probs.shape torch.Size([3, 12, 14, 14])\n",
      "SelfAttention.forward: last_attention_probs is cloned from attention_probs\n",
      "SelfAttention.forward: hidden_states, attention_mask backuped\n",
      "SelfAttention.forward: expected\n",
      "SelfAttention.forward: attention_probs.shape torch.Size([3, 12, 14, 14])\n",
      "SelfAttention.forward: last_attention_probs is cloned from attention_probs\n",
      "SelfAttention.forward: hidden_states, attention_mask backuped\n",
      "SelfAttention.forward: expected\n",
      "SelfAttention.forward: attention_probs.shape torch.Size([3, 12, 14, 14])\n",
      "SelfAttention.forward: last_attention_probs is cloned from attention_probs\n",
      "SelfAttention.forward: hidden_states, attention_mask backuped\n",
      "SelfAttention.forward: expected\n",
      "SelfAttention.forward: attention_probs.shape torch.Size([3, 12, 14, 14])\n",
      "SelfAttention.forward: last_attention_probs is cloned from attention_probs\n",
      "SelfAttention.forward: hidden_states, attention_mask backuped\n",
      "SelfAttention.forward: expected\n",
      "SelfAttention.forward: attention_probs.shape torch.Size([3, 12, 14, 14])\n",
      "SelfAttention.forward: last_attention_probs is cloned from attention_probs\n",
      "SelfAttention.forward: hidden_states, attention_mask backuped\n",
      "SelfAttention.forward: expected\n",
      "SelfAttention.forward: attention_probs.shape torch.Size([3, 12, 14, 14])\n",
      "SelfAttention.forward: last_attention_probs is cloned from attention_probs\n"
     ]
    },
    {
     "data": {
      "text/plain": [
       "torch.Size([3, 14, 768])"
      ]
     },
     "execution_count": 3,
     "metadata": {},
     "output_type": "execute_result"
    }
   ],
   "source": [
    "model.encoder.layer[0].attention.self.lowdim = False\n",
    "model(tokenized_result.input_ids, output_attentions=True)\n",
    "att = model.encoder.layer[0].attention.self\n",
    "hidden_states = att.last_hidden_states.clone().detach()\n",
    "attention_mask = att.last_attention_mask.clone().detach()\n",
    "hidden_states.shape\n",
    "#att.query.weight.shape"
   ]
  },
  {
   "cell_type": "code",
   "execution_count": 4,
   "metadata": {},
   "outputs": [
    {
     "name": "stdout",
     "output_type": "stream",
     "text": [
      "SelfAttention.forward: hidden_states, attention_mask backuped\n",
      "SelfAttention.forward: expected\n",
      "SelfAttention.forward: attention_probs.shape torch.Size([3, 12, 14, 14])\n",
      "SelfAttention.forward: last_attention_probs is cloned from attention_probs\n",
      "0.0\n"
     ]
    }
   ],
   "source": [
    "t = time.time()\n",
    "normal_result = att.forward(\n",
    "    hidden_states = hidden_states,\n",
    "    attention_mask = attention_mask,\n",
    "    output_attentions=True,\n",
    ")\n",
    "print(time.time() - t)\n",
    "real_result = real_model.encoder.layer[0].attention.self.forward(\n",
    "    hidden_states = hidden_states,\n",
    "    attention_mask = attention_mask,\n",
    "    output_attentions=True,\n",
    ")"
   ]
  },
  {
   "cell_type": "code",
   "execution_count": 5,
   "metadata": {},
   "outputs": [
    {
     "data": {
      "image/png": "[encoded data removed]",
      "text/plain": [
       "<Figure size 432x288 with 1 Axes>"
      ]
     },
     "metadata": {
      "needs_background": "light"
     },
     "output_type": "display_data"
    },
    {
     "data": {
      "image/png": "[encoded data removed]",
      "text/plain": [
       "<Figure size 432x288 with 1 Axes>"
      ]
     },
     "metadata": {
      "needs_background": "light"
     },
     "output_type": "display_data"
    },
    {
     "name": "stdout",
     "output_type": "stream",
     "text": [
      "tensor(209.2968, device='cuda:0') tensor(52.4660, device='cuda:0')\n",
      "tensor(190.6799, device='cuda:0') tensor(48.0566, device='cuda:0')\n",
      "tensor(-8.6462, device='cuda:0') tensor(-2.0208, device='cuda:0')\n",
      "tensor(52.1677, device='cuda:0') tensor(12.6805, device='cuda:0')\n",
      "tensor(6.4235, device='cuda:0') tensor(0.6227, device='cuda:0')\n",
      "tensor(6.1717, device='cuda:0') tensor(0.0492, device='cuda:0')\n",
      "tensor(23.4705, device='cuda:0') tensor(5.1969, device='cuda:0')\n",
      "tensor(3.9314, device='cuda:0') tensor(-2.7471, device='cuda:0')\n",
      "tensor(38.7964, device='cuda:0') tensor(8.9564, device='cuda:0')\n",
      "tensor(0.8757, device='cuda:0') tensor(-0.6088, device='cuda:0')\n",
      "tensor(28.8300, device='cuda:0') tensor(5.6413, device='cuda:0')\n",
      "tensor(6.4083, device='cuda:0') tensor(5.7907, device='cuda:0')\n",
      "tensor(49.2122, device='cuda:0') tensor(10.4318, device='cuda:0')\n"
     ]
    }
   ],
   "source": [
    "import matplotlib.pyplot as plt\n",
    "i = 12\n",
    "a = hidden_states[0,i]\n",
    "b_ = F.adaptive_avg_pool1d(hidden_states, output_size = (model.config.hidden_size // 2, ))\n",
    "b = b_[0, i]\n",
    "plt.bar(range(len(a)), a.cpu().numpy())\n",
    "plt.show()\n",
    "plt.bar(range(len(b)), b.cpu().numpy())\n",
    "plt.show()\n",
    "for k in range(13):\n",
    "    print(torch.sum(hidden_states[0,0] * hidden_states[0,k]), torch.sum(b_[0,0] * b_[0,k]))"
   ]
  },
  {
   "cell_type": "code",
   "execution_count": 6,
   "metadata": {},
   "outputs": [
    {
     "name": "stdout",
     "output_type": "stream",
     "text": [
      "64\n",
      "torch.Size([768, 768]) to torch.Size([384, 768])\n",
      "torch.Size([768, 768]) to torch.Size([384, 768])\n",
      "real\n"
     ]
    },
    {
     "data": {
      "image/png": "[encoded data removed]",
      "text/plain": [
       "<Figure size 432x288 with 2 Axes>"
      ]
     },
     "metadata": {
      "needs_background": "light"
     },
     "output_type": "display_data"
    },
    {
     "name": "stdout",
     "output_type": "stream",
     "text": [
      "original\n"
     ]
    },
    {
     "data": {
      "image/png": "[encoded data removed]",
      "text/plain": [
       "<Figure size 432x288 with 2 Axes>"
      ]
     },
     "metadata": {
      "needs_background": "light"
     },
     "output_type": "display_data"
    },
    {
     "name": "stdout",
     "output_type": "stream",
     "text": [
      "resize qk with abs max\n"
     ]
    },
    {
     "data": {
      "image/png": "[encoded data removed]",
      "text/plain": [
       "<Figure size 432x288 with 2 Axes>"
      ]
     },
     "metadata": {
      "needs_background": "light"
     },
     "output_type": "display_data"
    },
    {
     "name": "stdout",
     "output_type": "stream",
     "text": [
      "resize input + resize linear\n"
     ]
    },
    {
     "data": {
      "image/png": "[encoded data removed]",
      "text/plain": [
       "<Figure size 432x288 with 2 Axes>"
      ]
     },
     "metadata": {
      "needs_background": "light"
     },
     "output_type": "display_data"
    },
    {
     "name": "stdout",
     "output_type": "stream",
     "text": [
      "resize qk by linear\n"
     ]
    },
    {
     "data": {
      "image/png": "[encoded data removed]",
      "text/plain": [
       "<Figure size 432x288 with 2 Axes>"
      ]
     },
     "metadata": {
      "needs_background": "light"
     },
     "output_type": "display_data"
    },
    {
     "name": "stdout",
     "output_type": "stream",
     "text": [
      "linear avg input absmax factor 2\n",
      "resize input + resize linear\n"
     ]
    },
    {
     "data": {
      "image/png": "[encoded data removed]",
      "text/plain": [
       "<Figure size 432x288 with 2 Axes>"
      ]
     },
     "metadata": {
      "needs_background": "light"
     },
     "output_type": "display_data"
    },
    {
     "name": "stdout",
     "output_type": "stream",
     "text": [
      "linear max input absmax factor 2\n",
      "resize input + resize linear\n"
     ]
    },
    {
     "data": {
      "image/png": "[encoded data removed]",
      "text/plain": [
       "<Figure size 432x288 with 2 Axes>"
      ]
     },
     "metadata": {
      "needs_background": "light"
     },
     "output_type": "display_data"
    },
    {
     "name": "stdout",
     "output_type": "stream",
     "text": [
      "linear nearest input absmax factor 2\n",
      "resize input + resize linear\n"
     ]
    },
    {
     "data": {
      "image/png": "[encoded data removed]",
      "text/plain": [
       "<Figure size 432x288 with 2 Axes>"
      ]
     },
     "metadata": {
      "needs_background": "light"
     },
     "output_type": "display_data"
    },
    {
     "name": "stdout",
     "output_type": "stream",
     "text": [
      "resize attention input qk. method: absmax\n",
      "resize qk with abs max\n"
     ]
    },
    {
     "data": {
      "image/png": "[encoded data removed]",
      "text/plain": [
       "<Figure size 432x288 with 2 Axes>"
      ]
     },
     "metadata": {
      "needs_background": "light"
     },
     "output_type": "display_data"
    }
   ],
   "source": [
    "import matplotlib.pyplot as plt\n",
    "import numpy as np\n",
    "print(att.attention_head_size)\n",
    "FACTOR = 2\n",
    "att.lowdim = False\n",
    "att.lowdim_factor = FACTOR\n",
    "att.update_lowdim()\n",
    "def downsize_linear(linear):\n",
    "    factor = FACTOR\n",
    "    s = linear.weight.shape\n",
    "    w = F.adaptive_avg_pool2d(linear.weight.view(1, 1, s[0], s[1]), output_size = (s[0] // factor, s[1])).view(s[0] // factor, s[1])\n",
    "    s = linear.bias.shape\n",
    "    b = F.adaptive_avg_pool1d(linear.bias.view(1,1,s[0]), (s[0] // factor,)).view(s[0]//factor)\n",
    "    l = nn.Linear(w.shape[1], w.shape[0])\n",
    "    l = l.to(w.device)\n",
    "    l.weight = nn.Parameter(w)\n",
    "    l.bias = nn.Parameter(b)\n",
    "    print(linear.weight.shape, 'to', l.weight.shape)\n",
    "    return l\n",
    "low_key = downsize_linear(att.key)\n",
    "low_query = downsize_linear(att.query)\n",
    "def _pool2(x):\n",
    "    a = torch.empty_like(x)\n",
    "    a = a[:a.shape[0]//2]\n",
    "    for i in range(len(a)):\n",
    "        if abs(x[i*2].item()) > abs(x[i*2+1]):\n",
    "            a[i] = x[i*2]\n",
    "        else:\n",
    "            a[i] = x[i*2+1]\n",
    "    return a\n",
    "def pool2(x):\n",
    "    s = x.shape\n",
    "    x = x.reshape(-1, s[-1])\n",
    "    a = torch.empty((x.shape[0], x.shape[1] // 2), device=x.device)\n",
    "    for i in range(x.shape[0]):\n",
    "        a[i,:] = _pool2(x[i])\n",
    "    a = a.view(*(s[:-1]+(s[-1]//2,)))\n",
    "    return a\n",
    "\n",
    "def resize(x, factor=FACTOR, method='absmax'):\n",
    "    if method == 'nearest':\n",
    "        return F.interpolate(x, (model.config.hidden_size // factor,))\n",
    "    elif method == 'avg':\n",
    "        return F.adaptive_avg_pool1d(x, output_size = (x.shape[-1] // FACTOR, ))\n",
    "    elif method == 'max':\n",
    "        return F.adaptive_max_pool1d(x, output_size = (x.shape[-1] // FACTOR, ))\n",
    "    elif method == 'absmax':\n",
    "        if factor == 2:\n",
    "            return pool2(x)\n",
    "        elif factor == 4:\n",
    "            return pool2(pool2(x))\n",
    "\n",
    "i = 0\n",
    "N = tokenized_result.input_ids.shape[1]\n",
    "C = 64\n",
    "\n",
    "a_k = att.key(hidden_states)[:,:,i*C:i*C+C]\n",
    "a_q = att.query(hidden_states)[:,:,i*C:i*C+C]\n",
    "\n",
    "b_k = lowdim_apply(att.key, resize(hidden_states), True, FACTOR, 'avg')[:,:,(64//FACTOR)*i:(64//FACTOR)*i+64//FACTOR]\n",
    "b_q = lowdim_apply(att.query, resize(hidden_states), True, FACTOR, 'avg')[:,:,(64//FACTOR)*i:(64//FACTOR)*i+64//FACTOR]\n",
    "\n",
    "d_k = low_key(hidden_states)[:,:,(64//FACTOR)*i:(64//FACTOR)*i+64//FACTOR]\n",
    "d_q = low_query(hidden_states)[:,:,(64//FACTOR)*i:(64//FACTOR)*i+64//FACTOR]\n",
    "\n",
    "a = torch.zeros((N,N), dtype=torch.float32)\n",
    "b = torch.zeros((N,N), dtype=torch.float32)\n",
    "c = torch.zeros((N,N), dtype=torch.float32)\n",
    "d = torch.zeros((N,N), dtype=torch.float32)\n",
    "for j in range(N):\n",
    "    for k in range(N):\n",
    "        a[k, j] = torch.sum(a_k[0,j] * a_q[0,k]).item() / math.sqrt(att.attention_head_size)\n",
    "        b[k, j] = torch.sum(b_k[0,j] * b_q[0,k]).item() / \\\n",
    "            math.sqrt(att.attention_head_size // FACTOR)\n",
    "        c[k, j] = torch.sum(resize(a_k[0,j].view(1,1,-1)) * resize(a_q[0,k].view(1,1,-1))).item() / \\\n",
    "            math.sqrt(att.attention_head_size // FACTOR)\n",
    "        d[k, j] = torch.sum(d_k[0,j] * d_q[0,k]).item() / \\\n",
    "            math.sqrt(att.attention_head_size // FACTOR)\n",
    "\n",
    "a = a + attention_mask.cpu()[0,i]\n",
    "a = torch.nn.functional.softmax(a, dim=-1)\n",
    "b = b + attention_mask.cpu()[0,i]\n",
    "b = torch.nn.functional.softmax(b, dim=-1)\n",
    "c = c + attention_mask.cpu()[0,i]\n",
    "c = torch.nn.functional.softmax(c, dim=-1)\n",
    "d = d + attention_mask.cpu()[0,i]\n",
    "d = torch.nn.functional.softmax(d, dim=-1)\n",
    "\n",
    "print('real')\n",
    "plt.imshow(real_model.encoder.layer[0].attention.self.forward(\n",
    "    hidden_states,\n",
    "    attention_mask = attention_mask,\n",
    "    output_attentions = True,\n",
    ")[1].detach().cpu().numpy()[0,i,:,:])    #original\n",
    "plt.colorbar()\n",
    "plt.show()\n",
    "\n",
    "print('original')\n",
    "plt.imshow(a.detach().numpy())  #original\n",
    "plt.colorbar()\n",
    "plt.show()\n",
    "\n",
    "print('resize qk with abs max')\n",
    "plt.imshow(c.detach().numpy())  #resize vector\\\n",
    "plt.colorbar()\n",
    "plt.show()\n",
    "\n",
    "print('resize input + resize linear')\n",
    "plt.imshow(b.detach().numpy())  #resize linear + vector\n",
    "plt.colorbar()\n",
    "plt.show()\n",
    "\n",
    "print('resize qk by linear')\n",
    "plt.imshow(d.detach().numpy())  #resize linear + vector\n",
    "plt.colorbar()\n",
    "plt.show()\n",
    "\n",
    "def plot_linear_resize(linear_method='avg', resize_method='avg'):\n",
    "    print('linear', linear_method, 'input', resize_method, 'factor', FACTOR)\n",
    "\n",
    "    b_k = lowdim_apply(att.key, resize(hidden_states, method=resize_method), True, FACTOR, linear_method)[:,:,(64//FACTOR)*i:(64//FACTOR)*i+64//FACTOR]\n",
    "    b_q = lowdim_apply(att.query, resize(hidden_states, method=resize_method), True, FACTOR, linear_method)[:,:,(64//FACTOR)*i:(64//FACTOR)*i+64//FACTOR]\n",
    "    b = torch.zeros((N,N), dtype=torch.float32)\n",
    "    for j in range(N):\n",
    "        for k in range(N):\n",
    "            b[k, j] = torch.sum(b_k[0,j] * b_q[0,k]).item() / \\\n",
    "                math.sqrt(att.attention_head_size // FACTOR)\n",
    "    b = b + attention_mask.cpu()[0,i]\n",
    "    b = torch.nn.functional.softmax(b, dim=-1)\n",
    "\n",
    "    print('resize input + resize linear')\n",
    "    plt.imshow(b.detach().numpy())  #resize linear + vector\n",
    "    plt.colorbar()\n",
    "    plt.show()\n",
    "# plot_linear_resize('avg', 'avg')\n",
    "# plot_linear_resize('avg', 'max')\n",
    "# plot_linear_resize('avg', 'nearest')\n",
    "# plot_linear_resize('max', 'avg')\n",
    "# plot_linear_resize('max', 'max')\n",
    "# plot_linear_resize('max', 'nearest')\n",
    "# plot_linear_resize('nearest', 'avg')\n",
    "# plot_linear_resize('nearest', 'max')\n",
    "# plot_linear_resize('nearest', 'nearest')\n",
    "\n",
    "def plot_qk_resize(resize_method = 'avg'):\n",
    "    print('resize attention input qk. method:', resize_method)\n",
    "    a_k = att.key(hidden_states)[:,:,i*C:i*C+C]\n",
    "    a_q = att.query(hidden_states)[:,:,i*C:i*C+C]\n",
    "    c = torch.zeros((N,N), dtype=torch.float32)\n",
    "    for j in range(N):\n",
    "        for k in range(N):\n",
    "            c[k, j] = torch.sum(resize(a_k[0,j].view(1,1,-1), method=resize_method) * resize(a_q[0,k].view(1,1,-1), method=resize_method)).item() / \\\n",
    "                math.sqrt(att.attention_head_size // FACTOR)\n",
    "    c = c + attention_mask.cpu()[0,i]\n",
    "    c = torch.nn.functional.softmax(c, dim=-1)\n",
    "    print('resize qk with abs max')\n",
    "    plt.imshow(c.detach().numpy())  #resize vector\\\n",
    "    plt.colorbar()\n",
    "    plt.show()\n",
    "\n",
    "# plot_qk_resize('avg')\n",
    "# plot_qk_resize('max')\n",
    "# plot_qk_resize('nearest')\n",
    "\n",
    "plot_linear_resize('avg', 'absmax')\n",
    "plot_linear_resize('max', 'absmax')\n",
    "plot_linear_resize('nearest', 'absmax')\n",
    "# plot_linear_resize('absmax', 'absmax')\n",
    "# plot_linear_resize('absmax', 'avg')\n",
    "# plot_linear_resize('absmax', 'max')\n",
    "# plot_linear_resize('absmax', 'nearest')\n",
    "\n",
    "plot_qk_resize('absmax')"
   ]
  },
  {
   "cell_type": "code",
   "execution_count": 7,
   "metadata": {},
   "outputs": [],
   "source": [
    "att.value.weight.shape\n",
    "import time"
   ]
  },
  {
   "cell_type": "code",
   "execution_count": 8,
   "metadata": {},
   "outputs": [
    {
     "name": "stdout",
     "output_type": "stream",
     "text": [
      "SelfAttention.forward: hidden_states, attention_mask backuped\n",
      "SelfAttention.forward: expected\n",
      "SelfAttention.forward: attention_probs.shape torch.Size([3, 12, 14, 14])\n",
      "SelfAttention.forward: last_attention_probs is cloned from attention_probs\n",
      "0.015634775161743164\n"
     ]
    }
   ],
   "source": [
    "from torch.nn import functional as F\n",
    "t = time.time()\n",
    "att.lowdim = True\n",
    "att.lowdim_linear = False\n",
    "att.lowdim_qk = False\n",
    "att.lowdim_qk_linear = True\n",
    "att.lowdim_factor = 2\n",
    "att.lowdim_mode = 'nearest'\n",
    "att.update_lowdim()\n",
    "lowdim_result = att.forward(\n",
    "    hidden_states = hidden_states,\n",
    "    attention_mask = attention_mask,\n",
    "    output_attentions = True,\n",
    ")\n",
    "att.lowdim = False\n",
    "print(time.time() - t)"
   ]
  },
  {
   "cell_type": "code",
   "execution_count": 9,
   "metadata": {},
   "outputs": [
    {
     "data": {
      "image/png": "[encoded data removed]",
      "text/plain": [
       "<Figure size 432x288 with 2 Axes>"
      ]
     },
     "metadata": {
      "needs_background": "light"
     },
     "output_type": "display_data"
    },
    {
     "data": {
      "image/png": "[encoded data removed]",
      "text/plain": [
       "<Figure size 432x288 with 2 Axes>"
      ]
     },
     "metadata": {
      "needs_background": "light"
     },
     "output_type": "display_data"
    },
    {
     "data": {
      "image/png": "[encoded data removed]",
      "text/plain": [
       "<Figure size 432x288 with 2 Axes>"
      ]
     },
     "metadata": {
      "needs_background": "light"
     },
     "output_type": "display_data"
    },
    {
     "data": {
      "image/png": "[encoded data removed]",
      "text/plain": [
       "<Figure size 432x288 with 2 Axes>"
      ]
     },
     "metadata": {
      "needs_background": "light"
     },
     "output_type": "display_data"
    },
    {
     "data": {
      "image/png": "[encoded data removed]",
      "text/plain": [
       "<Figure size 432x288 with 2 Axes>"
      ]
     },
     "metadata": {
      "needs_background": "light"
     },
     "output_type": "display_data"
    },
    {
     "data": {
      "text/plain": [
       "(torch.Size([3, 12, 14, 14]), torch.Size([3, 12, 14, 14]))"
      ]
     },
     "execution_count": 9,
     "metadata": {},
     "output_type": "execute_result"
    }
   ],
   "source": [
    "plt.imshow(normal_result[1][0,0].cpu().detach().numpy())\n",
    "plt.colorbar()\n",
    "plt.show()\n",
    "plt.imshow(lowdim_result[1][0,0].cpu().detach().numpy())\n",
    "plt.colorbar()\n",
    "plt.show()\n",
    "plt.imshow(real_result[1][0,0].cpu().detach().numpy())\n",
    "plt.colorbar()\n",
    "plt.show()\n",
    "plt.imshow(normal_result[1][0,3].cpu().detach().numpy())\n",
    "plt.colorbar()\n",
    "plt.show()\n",
    "plt.imshow(lowdim_result[1][0,3].cpu().detach().numpy())\n",
    "plt.colorbar()\n",
    "plt.show()\n",
    "normal_result[1].shape, lowdim_result[1].shape"
   ]
  },
  {
   "cell_type": "code",
   "execution_count": 10,
   "metadata": {},
   "outputs": [
    {
     "data": {
      "text/plain": [
       "12"
      ]
     },
     "execution_count": 10,
     "metadata": {},
     "output_type": "execute_result"
    }
   ],
   "source": [
    "model.config.num_attention_heads"
   ]
  },
  {
   "cell_type": "code",
   "execution_count": 11,
   "metadata": {},
   "outputs": [
    {
     "data": {
      "text/plain": [
       "torch.Size([3, 14, 768])"
      ]
     },
     "execution_count": 11,
     "metadata": {},
     "output_type": "execute_result"
    }
   ],
   "source": [
    "normal_result[0].shape"
   ]
  },
  {
   "cell_type": "code",
   "execution_count": 12,
   "metadata": {},
   "outputs": [
    {
     "name": "stderr",
     "output_type": "stream",
     "text": [
      "  0%|          | 0/20 [00:00<?, ?it/s]"
     ]
    },
    {
     "name": "stdout",
     "output_type": "stream",
     "text": [
      "torch.Size([8, 512])\n",
      "2 False 64\n"
     ]
    },
    {
     "name": "stderr",
     "output_type": "stream",
     "text": [
      "100%|██████████| 20/20 [00:00<00:00, 35.08it/s]\n",
      "100%|██████████| 500/500 [00:06<00:00, 80.00it/s]\n",
      "100%|██████████| 20/20 [00:00<00:00, 80.00it/s]\n",
      "100%|██████████| 500/500 [00:05<00:00, 84.28it/s]\n",
      " 35%|███▌      | 7/20 [00:00<00:00, 56.00it/s]"
     ]
    },
    {
     "name": "stdout",
     "output_type": "stream",
     "text": [
      "2 False 128\n"
     ]
    },
    {
     "name": "stderr",
     "output_type": "stream",
     "text": [
      "100%|██████████| 20/20 [00:00<00:00, 49.23it/s]\n",
      "100%|██████████| 500/500 [00:11<00:00, 45.13it/s]\n",
      "100%|██████████| 20/20 [00:00<00:00, 53.33it/s]\n",
      "100%|██████████| 500/500 [00:10<00:00, 48.12it/s]\n",
      " 25%|██▌       | 5/20 [00:00<00:00, 35.56it/s]"
     ]
    },
    {
     "name": "stdout",
     "output_type": "stream",
     "text": [
      "2 False 256\n"
     ]
    },
    {
     "name": "stderr",
     "output_type": "stream",
     "text": [
      "100%|██████████| 20/20 [00:00<00:00, 23.70it/s]\n",
      "100%|██████████| 500/500 [00:23<00:00, 21.35it/s]\n",
      "100%|██████████| 20/20 [00:00<00:00, 25.60it/s]\n",
      "100%|██████████| 500/500 [00:21<00:00, 23.03it/s]\n",
      " 15%|█▌        | 3/20 [00:00<00:00, 21.33it/s]"
     ]
    },
    {
     "name": "stdout",
     "output_type": "stream",
     "text": [
      "2 False 512\n"
     ]
    },
    {
     "name": "stderr",
     "output_type": "stream",
     "text": [
      "100%|██████████| 20/20 [00:01<00:00, 10.49it/s]\n",
      "100%|██████████| 500/500 [00:52<00:00,  9.61it/s]\n",
      "100%|██████████| 20/20 [00:01<00:00, 11.96it/s]\n",
      "100%|██████████| 500/500 [00:47<00:00, 10.48it/s]"
     ]
    },
    {
     "name": "stdout",
     "output_type": "stream",
     "text": [
      "exam: factor 2 amp False\n"
     ]
    },
    {
     "name": "stderr",
     "output_type": "stream",
     "text": [
      "\n"
     ]
    },
    {
     "data": {
      "image/png": "[encoded data removed]",
      "text/plain": [
       "<Figure size 432x288 with 1 Axes>"
      ]
     },
     "metadata": {
      "needs_background": "light"
     },
     "output_type": "display_data"
    },
    {
     "name": "stderr",
     "output_type": "stream",
     "text": [
      "  0%|          | 0/20 [00:00<?, ?it/s]"
     ]
    },
    {
     "name": "stdout",
     "output_type": "stream",
     "text": [
      "2 True 64\n"
     ]
    },
    {
     "name": "stderr",
     "output_type": "stream",
     "text": [
      "100%|██████████| 20/20 [00:00<00:00, 28.44it/s]\n",
      "100%|██████████| 500/500 [00:13<00:00, 37.01it/s]\n",
      "100%|██████████| 20/20 [00:00<00:00, 41.29it/s]\n",
      "100%|██████████| 500/500 [00:12<00:00, 39.41it/s]\n",
      " 35%|███▌      | 7/20 [00:00<00:00, 64.00it/s]"
     ]
    },
    {
     "name": "stdout",
     "output_type": "stream",
     "text": [
      "2 True 128\n"
     ]
    },
    {
     "name": "stderr",
     "output_type": "stream",
     "text": [
      "100%|██████████| 20/20 [00:00<00:00, 64.00it/s]\n",
      "100%|██████████| 500/500 [00:09<00:00, 50.33it/s]\n",
      "100%|██████████| 20/20 [00:00<00:00, 40.00it/s]\n",
      "100%|██████████| 500/500 [00:11<00:00, 42.30it/s]\n",
      " 30%|███       | 6/20 [00:00<00:00, 54.86it/s]"
     ]
    },
    {
     "name": "stdout",
     "output_type": "stream",
     "text": [
      "2 True 256\n"
     ]
    },
    {
     "name": "stderr",
     "output_type": "stream",
     "text": [
      "100%|██████████| 20/20 [00:00<00:00, 47.41it/s]\n",
      "100%|██████████| 500/500 [00:11<00:00, 44.02it/s]\n",
      "100%|██████████| 20/20 [00:00<00:00, 51.20it/s]\n",
      "100%|██████████| 500/500 [00:10<00:00, 46.90it/s]\n",
      " 15%|█▌        | 3/20 [00:00<00:00, 27.43it/s]"
     ]
    },
    {
     "name": "stdout",
     "output_type": "stream",
     "text": [
      "2 True 512\n"
     ]
    },
    {
     "name": "stderr",
     "output_type": "stream",
     "text": [
      "100%|██████████| 20/20 [00:00<00:00, 21.33it/s]\n",
      "100%|██████████| 500/500 [00:24<00:00, 20.15it/s]\n",
      "100%|██████████| 20/20 [00:00<00:00, 23.27it/s]\n",
      "100%|██████████| 500/500 [00:23<00:00, 21.27it/s]\n"
     ]
    },
    {
     "name": "stdout",
     "output_type": "stream",
     "text": [
      "exam: factor 2 amp True\n"
     ]
    },
    {
     "data": {
      "image/png": "[encoded data removed]",
      "text/plain": [
       "<Figure size 432x288 with 1 Axes>"
      ]
     },
     "metadata": {
      "needs_background": "light"
     },
     "output_type": "display_data"
    },
    {
     "name": "stderr",
     "output_type": "stream",
     "text": [
      "  0%|          | 0/20 [00:00<?, ?it/s]"
     ]
    },
    {
     "name": "stdout",
     "output_type": "stream",
     "text": [
      "4 False 64\n"
     ]
    },
    {
     "name": "stderr",
     "output_type": "stream",
     "text": [
      "100%|██████████| 20/20 [00:00<00:00, 80.00it/s]\n",
      "100%|██████████| 500/500 [00:06<00:00, 76.74it/s]\n",
      "100%|██████████| 20/20 [00:00<00:00, 85.34it/s]\n",
      "100%|██████████| 500/500 [00:05<00:00, 84.05it/s]\n",
      " 30%|███       | 6/20 [00:00<00:00, 53.46it/s]"
     ]
    },
    {
     "name": "stdout",
     "output_type": "stream",
     "text": [
      "4 False 128\n"
     ]
    },
    {
     "name": "stderr",
     "output_type": "stream",
     "text": [
      "100%|██████████| 20/20 [00:00<00:00, 47.09it/s]\n",
      "100%|██████████| 500/500 [00:11<00:00, 43.68it/s]\n",
      "100%|██████████| 20/20 [00:00<00:00, 53.68it/s]\n",
      "100%|██████████| 500/500 [00:10<00:00, 48.78it/s]\n",
      " 20%|██        | 4/20 [00:00<00:00, 36.57it/s]"
     ]
    },
    {
     "name": "stdout",
     "output_type": "stream",
     "text": [
      "4 False 256\n"
     ]
    },
    {
     "name": "stderr",
     "output_type": "stream",
     "text": [
      "100%|██████████| 20/20 [00:00<00:00, 22.86it/s]\n",
      "100%|██████████| 500/500 [00:23<00:00, 20.96it/s]\n",
      "100%|██████████| 20/20 [00:00<00:00, 26.12it/s]\n",
      "100%|██████████| 500/500 [00:21<00:00, 23.48it/s]\n",
      " 15%|█▌        | 3/20 [00:00<00:00, 24.00it/s]"
     ]
    },
    {
     "name": "stdout",
     "output_type": "stream",
     "text": [
      "4 False 512\n"
     ]
    },
    {
     "name": "stderr",
     "output_type": "stream",
     "text": [
      "100%|██████████| 20/20 [00:01<00:00, 10.41it/s]\n",
      "100%|██████████| 500/500 [00:52<00:00,  9.51it/s]\n",
      "100%|██████████| 20/20 [00:01<00:00, 11.87it/s]\n",
      "100%|██████████| 500/500 [00:46<00:00, 10.64it/s]"
     ]
    },
    {
     "name": "stdout",
     "output_type": "stream",
     "text": [
      "exam: factor 4 amp False\n"
     ]
    },
    {
     "name": "stderr",
     "output_type": "stream",
     "text": [
      "\n"
     ]
    },
    {
     "data": {
      "image/png": "[encoded data removed]",
      "text/plain": [
       "<Figure size 432x288 with 1 Axes>"
      ]
     },
     "metadata": {
      "needs_background": "light"
     },
     "output_type": "display_data"
    },
    {
     "name": "stderr",
     "output_type": "stream",
     "text": [
      "  0%|          | 0/20 [00:00<?, ?it/s]"
     ]
    },
    {
     "name": "stdout",
     "output_type": "stream",
     "text": [
      "4 True 64\n"
     ]
    },
    {
     "name": "stderr",
     "output_type": "stream",
     "text": [
      "100%|██████████| 20/20 [00:00<00:00, 28.44it/s]\n",
      "100%|██████████| 500/500 [00:13<00:00, 37.69it/s]\n",
      "100%|██████████| 20/20 [00:00<00:00, 37.65it/s]\n",
      "100%|██████████| 500/500 [00:13<00:00, 38.12it/s]\n",
      " 40%|████      | 8/20 [00:00<00:00, 66.16it/s]"
     ]
    },
    {
     "name": "stdout",
     "output_type": "stream",
     "text": [
      "4 True 128\n"
     ]
    },
    {
     "name": "stderr",
     "output_type": "stream",
     "text": [
      "100%|██████████| 20/20 [00:00<00:00, 56.60it/s]\n",
      "100%|██████████| 500/500 [00:10<00:00, 49.90it/s]\n",
      "100%|██████████| 20/20 [00:00<00:00, 44.14it/s]\n",
      "100%|██████████| 500/500 [00:11<00:00, 45.43it/s]\n",
      " 35%|███▌      | 7/20 [00:00<00:00, 56.00it/s]"
     ]
    },
    {
     "name": "stdout",
     "output_type": "stream",
     "text": [
      "4 True 256\n"
     ]
    },
    {
     "name": "stderr",
     "output_type": "stream",
     "text": [
      "100%|██████████| 20/20 [00:00<00:00, 47.41it/s]\n",
      "100%|██████████| 500/500 [00:11<00:00, 43.94it/s]\n",
      "100%|██████████| 20/20 [00:00<00:00, 49.23it/s]\n",
      "100%|██████████| 500/500 [00:10<00:00, 47.61it/s]\n",
      " 20%|██        | 4/20 [00:00<00:00, 27.48it/s]"
     ]
    },
    {
     "name": "stdout",
     "output_type": "stream",
     "text": [
      "4 True 512\n"
     ]
    },
    {
     "name": "stderr",
     "output_type": "stream",
     "text": [
      "100%|██████████| 20/20 [00:00<00:00, 21.58it/s]\n",
      "100%|██████████| 500/500 [00:24<00:00, 20.10it/s]\n",
      "100%|██████████| 20/20 [00:00<00:00, 23.70it/s]\n",
      "100%|██████████| 500/500 [00:23<00:00, 21.54it/s]\n"
     ]
    },
    {
     "name": "stdout",
     "output_type": "stream",
     "text": [
      "exam: factor 4 amp True\n"
     ]
    },
    {
     "data": {
      "image/png": "[encoded data removed]",
      "text/plain": [
       "<Figure size 432x288 with 1 Axes>"
      ]
     },
     "metadata": {
      "needs_background": "light"
     },
     "output_type": "display_data"
    },
    {
     "name": "stdout",
     "output_type": "stream",
     "text": [
      "done\n"
     ]
    }
   ],
   "source": [
    "import tqdm\n",
    "def set_print(model, v):\n",
    "    for layer in model.encoder.layer:\n",
    "        layer.attention.self.print = v\n",
    "def set_lowdim(model, v, factor=2):\n",
    "    for layer in model.encoder.layer:\n",
    "        if v != layer.attention.self.lowdim:\n",
    "            if v:\n",
    "                layer.attention.self.lowdim = True\n",
    "                layer.attention.self.lowdim_linear = False\n",
    "                layer.attention.self.lowdim_qk = False\n",
    "                layer.attention.self.lowdim_qk_linear = True\n",
    "                layer.attention.self.lowdim_factor = factor\n",
    "                layer.attention.self.update_lowdim()\n",
    "            else:\n",
    "                layer.attention.self.lowdim = False\n",
    "text = [\n",
    "    (\"[CLS]Bert Model with two heads on top as done during the pretraining: \"+\n",
    "    \"a masked language modeling head and a next sentence prediction (classification) head.\"+\n",
    "    \"This model inherits from PreTrainedModel. Check the superclass documentation for the \"+\n",
    "    \"generic methods the library implements for all its model (such as downloading or saving,\"+\n",
    "    \" resizing the input embeddings, pruning heads etc.)\"+\n",
    "    \"This model is also a PyTorch torch.nn.Module subclass. Use it as a regular PyTorch Module\"+\n",
    "    \" and refer to the PyTorch documentation for all matter related to general usage and behavior.\") * 4]*8\n",
    "\n",
    "data = tokenizer(text, padding=True, truncation=True, return_tensors='pt')\n",
    "data = data.input_ids.cuda()\n",
    "print(data.shape)\n",
    "\n",
    "set_print(model, False)\n",
    "set_lowdim(model, False)\n",
    "model(data)\n",
    "hidden = model.encoder.layer[0].attention.self.last_hidden_states\n",
    "mask = model.encoder.layer[0].attention.self.last_attention_mask\n",
    "\n",
    "N = 500\n",
    "def run(model, tokens=512, factor=2, lowdim=False, using_amp=False, n=N):\n",
    "    input = data[:, :tokens]\n",
    "    set_lowdim(model, lowdim, factor=factor)\n",
    "    from torch.cuda.amp import autocast\n",
    "    t = time.time()\n",
    "    for k in tqdm.tqdm(range(n)):\n",
    "        with torch.no_grad(), autocast(enabled=using_amp):\n",
    "            model(input)\n",
    "            # for i in range(len(model.encoder.layer)):\n",
    "            #     model.encoder.layer[i].attention.self.forward(\n",
    "            #         hidden_states = hidden,\n",
    "            #         attention_mask = mask,\n",
    "            #         output_attentions = True,\n",
    "            #     )\n",
    "    took = time.time() - t\n",
    "    set_lowdim(model, False, factor=factor)\n",
    "    return took\n",
    "\n",
    "def exam(factor=2, using_amp=False):\n",
    "    tokens = [64, 128, 256, 512]\n",
    "    speedups = []\n",
    "    for t in tokens:\n",
    "        print(factor, using_amp, t)\n",
    "        non = run(model, tokens=t, factor=factor, lowdim=False, using_amp=using_amp, n=20)\n",
    "        non = run(model, tokens=t, factor=factor, lowdim=False, using_amp=using_amp)\n",
    "        low = run(model, tokens=t, factor=factor, lowdim=True, using_amp=using_amp, n=20)\n",
    "        low = run(model, tokens=t, factor=factor, lowdim=True, using_amp=using_amp)\n",
    "        speedups.append(non / low)\n",
    "    print('exam: factor', factor, 'amp', using_amp)\n",
    "    plt.plot(tokens, speedups)\n",
    "    #plt.axis('equal')\n",
    "    plt.grid()\n",
    "    plt.show()\n",
    "\n",
    "exam(2, False)\n",
    "exam(2, True)\n",
    "exam(4, False)\n",
    "exam(4, True)\n",
    "print('done')"
   ]
  },
  {
   "cell_type": "code",
   "execution_count": 13,
   "metadata": {},
   "outputs": [
    {
     "data": {
      "text/plain": [
       "[<matplotlib.lines.Line2D at 0x1e09161bdc0>]"
      ]
     },
     "execution_count": 13,
     "metadata": {},
     "output_type": "execute_result"
    },
    {
     "data": {
      "image/png": "[encoded data removed]",
      "text/plain": [
       "<Figure size 432x288 with 1 Axes>"
      ]
     },
     "metadata": {
      "needs_background": "light"
     },
     "output_type": "display_data"
    }
   ],
   "source": [
    "plt.plot([1,2,3], [1,2,7])"
   ]
  },
  {
   "cell_type": "code",
   "execution_count": null,
   "metadata": {},
   "outputs": [],
   "source": []
  }
 ],
 "metadata": {
  "interpreter": {
   "hash": "f7b3ac0126d0d6fea024471ce24e510948bf6332f7ae1a66cdcb4ee9887514e9"
  },
  "kernelspec": {
   "display_name": "Python 3.8.3 64-bit ('tensorflow': conda)",
   "name": "python3"
  },
  "language_info": {
   "codemirror_mode": {
    "name": "ipython",
    "version": 3
   },
   "file_extension": ".py",
   "mimetype": "text/x-python",
   "name": "python",
   "nbconvert_exporter": "python",
   "pygments_lexer": "ipython3",
   "version": "3.8.3"
  },
  "orig_nbformat": 4
 },
 "nbformat": 4,
 "nbformat_minor": 2
}
