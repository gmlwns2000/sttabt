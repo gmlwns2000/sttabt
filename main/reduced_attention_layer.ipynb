{
 "cells": [
  {
   "cell_type": "markdown",
   "metadata": {},
   "source": [
    "1.기존 어텐션 레이어를 선형 보간해서 작게 만든다음, 전후의 어텐션 값을 비교하기\n",
    "\n",
    "2.인풋, 아웃풋 토큰 마스크 + 어텐션이 주어지면 아웃풋 토큰만 계산\n",
    "\n",
    "3.아웃풋 토큰 마스크 + 가중치가 주어지면 리니어 계산"
   ]
  },
  {
   "cell_type": "code",
   "execution_count": null,
   "metadata": {},
   "outputs": [],
   "source": [
    "import transformers"
   ]
  },
  {
   "cell_type": "code",
   "execution_count": null,
   "metadata": {},
   "outputs": [],
   "source": []
  }
 ],
 "metadata": {
  "language_info": {
   "name": "python"
  },
  "orig_nbformat": 4
 },
 "nbformat": 4,
 "nbformat_minor": 2
}
