{
 "cells": [
  {
   "cell_type": "code",
   "execution_count": 1,
   "metadata": {},
   "outputs": [],
   "source": [
    "import trainer.glue_base as glue_base\n",
    "import models.sparse_token as sparse\n",
    "import pickle, importlib\n",
    "importlib.reload(glue_base)\n",
    "importlib.reload(sparse)\n",
    "Glue = glue_base.GlueAttentionApproxTrainer\n",
    "PICKLE_PATH = \"glue_benchmark_wiki.pkl\"\n",
    "TEX_PATH = \"glue_benchmark_wiki.tex\""
   ]
  },
  {
   "cell_type": "code",
   "execution_count": 2,
   "metadata": {},
   "outputs": [
    {
     "name": "stdout",
     "output_type": "stream",
     "text": [
      "Trainer: cola\n"
     ]
    },
    {
     "name": "stderr",
     "output_type": "stream",
     "text": [
      "Reusing dataset glue (/home/ainl/.cache/huggingface/datasets/glue/cola/1.0.0/dacbe3125aa31d7f70367a07a8a9e72a5a0bfeb5fc42e75c9db75b96da6053ad)\n",
      "Loading cached processed dataset at /home/ainl/.cache/huggingface/datasets/glue/cola/1.0.0/dacbe3125aa31d7f70367a07a8a9e72a5a0bfeb5fc42e75c9db75b96da6053ad/cache-f0e04bff3297c11c.arrow\n",
      "Loading cached processed dataset at /home/ainl/.cache/huggingface/datasets/glue/cola/1.0.0/dacbe3125aa31d7f70367a07a8a9e72a5a0bfeb5fc42e75c9db75b96da6053ad/cache-b9e7d91153cc59cf.arrow\n",
      "Reusing dataset glue (/home/ainl/.cache/huggingface/datasets/glue/cola/1.0.0/dacbe3125aa31d7f70367a07a8a9e72a5a0bfeb5fc42e75c9db75b96da6053ad)\n",
      "Loading cached processed dataset at /home/ainl/.cache/huggingface/datasets/glue/cola/1.0.0/dacbe3125aa31d7f70367a07a8a9e72a5a0bfeb5fc42e75c9db75b96da6053ad/cache-7e570c95fb4f22e4.arrow\n",
      "Loading cached processed dataset at /home/ainl/.cache/huggingface/datasets/glue/cola/1.0.0/dacbe3125aa31d7f70367a07a8a9e72a5a0bfeb5fc42e75c9db75b96da6053ad/cache-ea01f5acc0495bfd.arrow\n"
     ]
    },
    {
     "name": "stdout",
     "output_type": "stream",
     "text": [
      "Trainer: Save checkpoint path saves/glue-cola-16-wiki.pth\n"
     ]
    },
    {
     "name": "stderr",
     "output_type": "stream",
     "text": [
      "eval: 100%|██████████| 131/131 [00:01<00:00, 72.15it/s]\n"
     ]
    },
    {
     "name": "stdout",
     "output_type": "stream",
     "text": [
      "metric score {'matthews_correlation': 0.5338774230813111}\n",
      "avg occupy 0.34522852946633237\n"
     ]
    },
    {
     "name": "stderr",
     "output_type": "stream",
     "text": [
      "eval: 100%|██████████| 131/131 [00:03<00:00, 37.14it/s]\n"
     ]
    },
    {
     "name": "stdout",
     "output_type": "stream",
     "text": [
      "metric score {'matthews_correlation': 0.5338774230813111}\n",
      "avg occupy 0.34522852946633237\n",
      "1/9\n",
      "Trainer: mnli\n"
     ]
    },
    {
     "name": "stderr",
     "output_type": "stream",
     "text": [
      "WARNING:datasets.builder:Reusing dataset glue (/home/ainl/.cache/huggingface/datasets/glue/mnli/1.0.0/dacbe3125aa31d7f70367a07a8a9e72a5a0bfeb5fc42e75c9db75b96da6053ad)\n",
      "WARNING:datasets.arrow_dataset:Loading cached processed dataset at /home/ainl/.cache/huggingface/datasets/glue/mnli/1.0.0/dacbe3125aa31d7f70367a07a8a9e72a5a0bfeb5fc42e75c9db75b96da6053ad/cache-50a4e6dd970a585c.arrow\n",
      "WARNING:datasets.arrow_dataset:Loading cached processed dataset at /home/ainl/.cache/huggingface/datasets/glue/mnli/1.0.0/dacbe3125aa31d7f70367a07a8a9e72a5a0bfeb5fc42e75c9db75b96da6053ad/cache-583e5dc11ca81ae7.arrow\n",
      "WARNING:datasets.builder:Reusing dataset glue (/home/ainl/.cache/huggingface/datasets/glue/mnli/1.0.0/dacbe3125aa31d7f70367a07a8a9e72a5a0bfeb5fc42e75c9db75b96da6053ad)\n",
      "WARNING:datasets.arrow_dataset:Loading cached processed dataset at /home/ainl/.cache/huggingface/datasets/glue/mnli/1.0.0/dacbe3125aa31d7f70367a07a8a9e72a5a0bfeb5fc42e75c9db75b96da6053ad/cache-1d54c3b4b02aa479.arrow\n",
      "100%|██████████| 10/10 [00:00<00:00, 15.11ba/s]\n"
     ]
    },
    {
     "name": "stdout",
     "output_type": "stream",
     "text": [
      "Trainer: Save checkpoint path saves/glue-mnli-16-wiki.pth\n"
     ]
    },
    {
     "name": "stderr",
     "output_type": "stream",
     "text": [
      "eval: 100%|██████████| 1227/1227 [00:28<00:00, 42.31it/s]\n"
     ]
    },
    {
     "name": "stdout",
     "output_type": "stream",
     "text": [
      "metric score {'accuracy': 0.8419765664798777}\n",
      "avg occupy 0.2057366697815377\n"
     ]
    },
    {
     "name": "stderr",
     "output_type": "stream",
     "text": [
      "eval: 100%|██████████| 1227/1227 [00:36<00:00, 34.07it/s]\n"
     ]
    },
    {
     "name": "stdout",
     "output_type": "stream",
     "text": [
      "metric score {'accuracy': 0.8155883851248089}\n",
      "avg occupy 0.2057366697815377\n",
      "2/9\n",
      "Trainer: mrpc\n"
     ]
    },
    {
     "name": "stderr",
     "output_type": "stream",
     "text": [
      "WARNING:datasets.builder:Reusing dataset glue (/home/ainl/.cache/huggingface/datasets/glue/mrpc/1.0.0/dacbe3125aa31d7f70367a07a8a9e72a5a0bfeb5fc42e75c9db75b96da6053ad)\n",
      "WARNING:datasets.arrow_dataset:Loading cached processed dataset at /home/ainl/.cache/huggingface/datasets/glue/mrpc/1.0.0/dacbe3125aa31d7f70367a07a8a9e72a5a0bfeb5fc42e75c9db75b96da6053ad/cache-9433d17ba13b5e5f.arrow\n",
      "WARNING:datasets.arrow_dataset:Loading cached processed dataset at /home/ainl/.cache/huggingface/datasets/glue/mrpc/1.0.0/dacbe3125aa31d7f70367a07a8a9e72a5a0bfeb5fc42e75c9db75b96da6053ad/cache-a94cfdbaf3fde127.arrow\n",
      "WARNING:datasets.builder:Reusing dataset glue (/home/ainl/.cache/huggingface/datasets/glue/mrpc/1.0.0/dacbe3125aa31d7f70367a07a8a9e72a5a0bfeb5fc42e75c9db75b96da6053ad)\n",
      "WARNING:datasets.arrow_dataset:Loading cached processed dataset at /home/ainl/.cache/huggingface/datasets/glue/mrpc/1.0.0/dacbe3125aa31d7f70367a07a8a9e72a5a0bfeb5fc42e75c9db75b96da6053ad/cache-7814f5729032a0b8.arrow\n",
      "WARNING:datasets.arrow_dataset:Loading cached processed dataset at /home/ainl/.cache/huggingface/datasets/glue/mrpc/1.0.0/dacbe3125aa31d7f70367a07a8a9e72a5a0bfeb5fc42e75c9db75b96da6053ad/cache-1fdda5bad27ee52a.arrow\n"
     ]
    },
    {
     "name": "stdout",
     "output_type": "stream",
     "text": [
      "Trainer: Save checkpoint path saves/glue-mrpc-16-wiki.pth\n"
     ]
    },
    {
     "name": "stderr",
     "output_type": "stream",
     "text": [
      "eval: 100%|██████████| 216/216 [00:03<00:00, 71.15it/s]\n"
     ]
    },
    {
     "name": "stdout",
     "output_type": "stream",
     "text": [
      "metric score {'accuracy': 0.8440579710144928, 'f1': 0.8865457612821593}\n",
      "avg occupy 0.5399536083129833\n"
     ]
    },
    {
     "name": "stderr",
     "output_type": "stream",
     "text": [
      "eval: 100%|██████████| 216/216 [00:05<00:00, 38.69it/s]\n"
     ]
    },
    {
     "name": "stdout",
     "output_type": "stream",
     "text": [
      "metric score {'accuracy': 0.7466666666666667, 'f1': 0.7941592086669808}\n",
      "avg occupy 0.5399536083129833\n",
      "3/9\n",
      "Trainer: qnli\n"
     ]
    },
    {
     "name": "stderr",
     "output_type": "stream",
     "text": [
      "WARNING:datasets.builder:Reusing dataset glue (/home/ainl/.cache/huggingface/datasets/glue/qnli/1.0.0/dacbe3125aa31d7f70367a07a8a9e72a5a0bfeb5fc42e75c9db75b96da6053ad)\n",
      "WARNING:datasets.arrow_dataset:Loading cached processed dataset at /home/ainl/.cache/huggingface/datasets/glue/qnli/1.0.0/dacbe3125aa31d7f70367a07a8a9e72a5a0bfeb5fc42e75c9db75b96da6053ad/cache-2972edcb0068a262.arrow\n",
      "WARNING:datasets.arrow_dataset:Loading cached processed dataset at /home/ainl/.cache/huggingface/datasets/glue/qnli/1.0.0/dacbe3125aa31d7f70367a07a8a9e72a5a0bfeb5fc42e75c9db75b96da6053ad/cache-37014c01da32f980.arrow\n",
      "WARNING:datasets.builder:Reusing dataset glue (/home/ainl/.cache/huggingface/datasets/glue/qnli/1.0.0/dacbe3125aa31d7f70367a07a8a9e72a5a0bfeb5fc42e75c9db75b96da6053ad)\n",
      "WARNING:datasets.arrow_dataset:Loading cached processed dataset at /home/ainl/.cache/huggingface/datasets/glue/qnli/1.0.0/dacbe3125aa31d7f70367a07a8a9e72a5a0bfeb5fc42e75c9db75b96da6053ad/cache-7c0b979036415a7d.arrow\n",
      "WARNING:datasets.arrow_dataset:Loading cached processed dataset at /home/ainl/.cache/huggingface/datasets/glue/qnli/1.0.0/dacbe3125aa31d7f70367a07a8a9e72a5a0bfeb5fc42e75c9db75b96da6053ad/cache-6d56285c76284a87.arrow\n"
     ]
    },
    {
     "name": "stdout",
     "output_type": "stream",
     "text": [
      "Trainer: Save checkpoint path saves/glue-qnli-16-wiki.pth\n"
     ]
    },
    {
     "name": "stderr",
     "output_type": "stream",
     "text": [
      "eval: 100%|██████████| 683/683 [00:13<00:00, 49.12it/s]\n"
     ]
    },
    {
     "name": "stdout",
     "output_type": "stream",
     "text": [
      "metric score {'accuracy': 0.9154310818231741}\n",
      "avg occupy 0.30243502260079336\n"
     ]
    },
    {
     "name": "stderr",
     "output_type": "stream",
     "text": [
      "eval: 100%|██████████| 683/683 [00:19<00:00, 34.30it/s]\n"
     ]
    },
    {
     "name": "stdout",
     "output_type": "stream",
     "text": [
      "metric score {'accuracy': 0.9044481054365733}\n",
      "avg occupy 0.30243502260079336\n",
      "4/9\n",
      "Trainer: qqp\n"
     ]
    },
    {
     "name": "stderr",
     "output_type": "stream",
     "text": [
      "WARNING:datasets.builder:Reusing dataset glue (/home/ainl/.cache/huggingface/datasets/glue/qqp/1.0.0/dacbe3125aa31d7f70367a07a8a9e72a5a0bfeb5fc42e75c9db75b96da6053ad)\n",
      "WARNING:datasets.arrow_dataset:Loading cached processed dataset at /home/ainl/.cache/huggingface/datasets/glue/qqp/1.0.0/dacbe3125aa31d7f70367a07a8a9e72a5a0bfeb5fc42e75c9db75b96da6053ad/cache-6e6d2012a4efa09d.arrow\n",
      "WARNING:datasets.arrow_dataset:Loading cached processed dataset at /home/ainl/.cache/huggingface/datasets/glue/qqp/1.0.0/dacbe3125aa31d7f70367a07a8a9e72a5a0bfeb5fc42e75c9db75b96da6053ad/cache-cba5a7e93b009222.arrow\n",
      "WARNING:datasets.builder:Reusing dataset glue (/home/ainl/.cache/huggingface/datasets/glue/qqp/1.0.0/dacbe3125aa31d7f70367a07a8a9e72a5a0bfeb5fc42e75c9db75b96da6053ad)\n",
      "WARNING:datasets.arrow_dataset:Loading cached processed dataset at /home/ainl/.cache/huggingface/datasets/glue/qqp/1.0.0/dacbe3125aa31d7f70367a07a8a9e72a5a0bfeb5fc42e75c9db75b96da6053ad/cache-74c950c73ee5e157.arrow\n",
      "100%|██████████| 41/41 [00:01<00:00, 20.74ba/s]\n"
     ]
    },
    {
     "name": "stdout",
     "output_type": "stream",
     "text": [
      "Trainer: Save checkpoint path saves/glue-qqp-16-wiki.pth\n"
     ]
    },
    {
     "name": "stderr",
     "output_type": "stream",
     "text": [
      "eval: 100%|██████████| 5054/5054 [01:18<00:00, 64.61it/s]\n"
     ]
    },
    {
     "name": "stdout",
     "output_type": "stream",
     "text": [
      "metric score {'accuracy': 0.9090774177590898, 'f1': 0.8781732617485252}\n",
      "avg occupy 0.2734741473281857\n"
     ]
    },
    {
     "name": "stderr",
     "output_type": "stream",
     "text": [
      "eval: 100%|██████████| 5054/5054 [02:15<00:00, 37.26it/s]\n"
     ]
    },
    {
     "name": "stdout",
     "output_type": "stream",
     "text": [
      "metric score {'accuracy': 0.9089290131090774, 'f1': 0.8781440296531638}\n",
      "avg occupy 0.2734741473281857\n",
      "5/9\n",
      "Trainer: rte\n"
     ]
    },
    {
     "name": "stderr",
     "output_type": "stream",
     "text": [
      "WARNING:datasets.builder:Reusing dataset glue (/home/ainl/.cache/huggingface/datasets/glue/rte/1.0.0/dacbe3125aa31d7f70367a07a8a9e72a5a0bfeb5fc42e75c9db75b96da6053ad)\n",
      "WARNING:datasets.arrow_dataset:Loading cached processed dataset at /home/ainl/.cache/huggingface/datasets/glue/rte/1.0.0/dacbe3125aa31d7f70367a07a8a9e72a5a0bfeb5fc42e75c9db75b96da6053ad/cache-78486e7f1731cad5.arrow\n",
      "WARNING:datasets.arrow_dataset:Loading cached processed dataset at /home/ainl/.cache/huggingface/datasets/glue/rte/1.0.0/dacbe3125aa31d7f70367a07a8a9e72a5a0bfeb5fc42e75c9db75b96da6053ad/cache-66f277de9aec8d21.arrow\n",
      "WARNING:datasets.builder:Reusing dataset glue (/home/ainl/.cache/huggingface/datasets/glue/rte/1.0.0/dacbe3125aa31d7f70367a07a8a9e72a5a0bfeb5fc42e75c9db75b96da6053ad)\n",
      "WARNING:datasets.arrow_dataset:Loading cached processed dataset at /home/ainl/.cache/huggingface/datasets/glue/rte/1.0.0/dacbe3125aa31d7f70367a07a8a9e72a5a0bfeb5fc42e75c9db75b96da6053ad/cache-98f4dedd0c0051af.arrow\n",
      "100%|██████████| 1/1 [00:00<00:00, 38.15ba/s]\n"
     ]
    },
    {
     "name": "stdout",
     "output_type": "stream",
     "text": [
      "Trainer: Save checkpoint path saves/glue-rte-16-wiki.pth\n"
     ]
    },
    {
     "name": "stderr",
     "output_type": "stream",
     "text": [
      "eval: 100%|██████████| 35/35 [00:01<00:00, 32.27it/s]\n"
     ]
    },
    {
     "name": "stdout",
     "output_type": "stream",
     "text": [
      "metric score {'accuracy': 0.7256317689530686}\n",
      "avg occupy 0.26989271615199084\n"
     ]
    },
    {
     "name": "stderr",
     "output_type": "stream",
     "text": [
      "eval: 100%|██████████| 35/35 [00:01<00:00, 28.07it/s]\n"
     ]
    },
    {
     "name": "stdout",
     "output_type": "stream",
     "text": [
      "metric score {'accuracy': 0.7075812274368231}\n",
      "avg occupy 0.26989271615199084\n",
      "6/9\n",
      "Trainer: sst2\n"
     ]
    },
    {
     "name": "stderr",
     "output_type": "stream",
     "text": [
      "WARNING:datasets.builder:Reusing dataset glue (/home/ainl/.cache/huggingface/datasets/glue/sst2/1.0.0/dacbe3125aa31d7f70367a07a8a9e72a5a0bfeb5fc42e75c9db75b96da6053ad)\n",
      "WARNING:datasets.arrow_dataset:Loading cached processed dataset at /home/ainl/.cache/huggingface/datasets/glue/sst2/1.0.0/dacbe3125aa31d7f70367a07a8a9e72a5a0bfeb5fc42e75c9db75b96da6053ad/cache-74c71ad0262a66a5.arrow\n",
      "WARNING:datasets.arrow_dataset:Loading cached processed dataset at /home/ainl/.cache/huggingface/datasets/glue/sst2/1.0.0/dacbe3125aa31d7f70367a07a8a9e72a5a0bfeb5fc42e75c9db75b96da6053ad/cache-a65fc30e2747fda4.arrow\n",
      "WARNING:datasets.builder:Reusing dataset glue (/home/ainl/.cache/huggingface/datasets/glue/sst2/1.0.0/dacbe3125aa31d7f70367a07a8a9e72a5a0bfeb5fc42e75c9db75b96da6053ad)\n",
      "WARNING:datasets.arrow_dataset:Loading cached processed dataset at /home/ainl/.cache/huggingface/datasets/glue/sst2/1.0.0/dacbe3125aa31d7f70367a07a8a9e72a5a0bfeb5fc42e75c9db75b96da6053ad/cache-ac561f7cccd961e4.arrow\n",
      "100%|██████████| 1/1 [00:00<00:00, 38.95ba/s]\n"
     ]
    },
    {
     "name": "stdout",
     "output_type": "stream",
     "text": [
      "Trainer: Save checkpoint path saves/glue-sst2-16-wiki.pth\n"
     ]
    },
    {
     "name": "stderr",
     "output_type": "stream",
     "text": [
      "eval: 100%|██████████| 109/109 [00:01<00:00, 95.94it/s]\n"
     ]
    },
    {
     "name": "stdout",
     "output_type": "stream",
     "text": [
      "metric score {'accuracy': 0.9243119266055045}\n",
      "avg occupy 0.4575271059216015\n"
     ]
    },
    {
     "name": "stderr",
     "output_type": "stream",
     "text": [
      "eval: 100%|██████████| 109/109 [00:02<00:00, 38.31it/s]\n"
     ]
    },
    {
     "name": "stdout",
     "output_type": "stream",
     "text": [
      "metric score {'accuracy': 0.9220183486238532}\n",
      "avg occupy 0.4575271059216015\n",
      "7/9\n",
      "Trainer: stsb\n"
     ]
    },
    {
     "name": "stderr",
     "output_type": "stream",
     "text": [
      "WARNING:datasets.builder:Reusing dataset glue (/home/ainl/.cache/huggingface/datasets/glue/stsb/1.0.0/dacbe3125aa31d7f70367a07a8a9e72a5a0bfeb5fc42e75c9db75b96da6053ad)\n",
      "WARNING:datasets.arrow_dataset:Loading cached processed dataset at /home/ainl/.cache/huggingface/datasets/glue/stsb/1.0.0/dacbe3125aa31d7f70367a07a8a9e72a5a0bfeb5fc42e75c9db75b96da6053ad/cache-a033a934571973b8.arrow\n",
      "WARNING:datasets.arrow_dataset:Loading cached processed dataset at /home/ainl/.cache/huggingface/datasets/glue/stsb/1.0.0/dacbe3125aa31d7f70367a07a8a9e72a5a0bfeb5fc42e75c9db75b96da6053ad/cache-021187763a14bdc0.arrow\n",
      "WARNING:datasets.builder:Reusing dataset glue (/home/ainl/.cache/huggingface/datasets/glue/stsb/1.0.0/dacbe3125aa31d7f70367a07a8a9e72a5a0bfeb5fc42e75c9db75b96da6053ad)\n",
      "WARNING:datasets.arrow_dataset:Loading cached processed dataset at /home/ainl/.cache/huggingface/datasets/glue/stsb/1.0.0/dacbe3125aa31d7f70367a07a8a9e72a5a0bfeb5fc42e75c9db75b96da6053ad/cache-898d4fd80d8c84e4.arrow\n",
      "100%|██████████| 2/2 [00:00<00:00, 31.44ba/s]\n"
     ]
    },
    {
     "name": "stdout",
     "output_type": "stream",
     "text": [
      "Trainer: Save checkpoint path saves/glue-stsb-16-wiki.pth\n"
     ]
    },
    {
     "name": "stderr",
     "output_type": "stream",
     "text": [
      "eval: 100%|██████████| 188/188 [00:02<00:00, 82.26it/s]\n"
     ]
    },
    {
     "name": "stdout",
     "output_type": "stream",
     "text": [
      "metric score {'pearson': 0.8804685139192188, 'spearmanr': 0.8763316039868316}\n",
      "avg occupy 0.387254677182685\n"
     ]
    },
    {
     "name": "stderr",
     "output_type": "stream",
     "text": [
      "eval: 100%|██████████| 188/188 [00:05<00:00, 36.91it/s]\n"
     ]
    },
    {
     "name": "stdout",
     "output_type": "stream",
     "text": [
      "metric score {'pearson': 0.8657197450015853, 'spearmanr': 0.8597012953718358}\n",
      "avg occupy 0.387254677182685\n",
      "8/9\n",
      "Trainer: wnli\n"
     ]
    },
    {
     "name": "stderr",
     "output_type": "stream",
     "text": [
      "WARNING:datasets.builder:Reusing dataset glue (/home/ainl/.cache/huggingface/datasets/glue/wnli/1.0.0/dacbe3125aa31d7f70367a07a8a9e72a5a0bfeb5fc42e75c9db75b96da6053ad)\n",
      "WARNING:datasets.arrow_dataset:Loading cached processed dataset at /home/ainl/.cache/huggingface/datasets/glue/wnli/1.0.0/dacbe3125aa31d7f70367a07a8a9e72a5a0bfeb5fc42e75c9db75b96da6053ad/cache-9244a284ae181b2b.arrow\n",
      "WARNING:datasets.arrow_dataset:Loading cached processed dataset at /home/ainl/.cache/huggingface/datasets/glue/wnli/1.0.0/dacbe3125aa31d7f70367a07a8a9e72a5a0bfeb5fc42e75c9db75b96da6053ad/cache-d1d443dd97acdacb.arrow\n",
      "WARNING:datasets.builder:Reusing dataset glue (/home/ainl/.cache/huggingface/datasets/glue/wnli/1.0.0/dacbe3125aa31d7f70367a07a8a9e72a5a0bfeb5fc42e75c9db75b96da6053ad)\n",
      "WARNING:datasets.arrow_dataset:Loading cached processed dataset at /home/ainl/.cache/huggingface/datasets/glue/wnli/1.0.0/dacbe3125aa31d7f70367a07a8a9e72a5a0bfeb5fc42e75c9db75b96da6053ad/cache-9595af18dceffbce.arrow\n",
      "100%|██████████| 1/1 [00:00<00:00, 172.97ba/s]\n"
     ]
    },
    {
     "name": "stdout",
     "output_type": "stream",
     "text": [
      "Trainer: Save checkpoint path saves/glue-wnli-16-wiki.pth\n"
     ]
    },
    {
     "name": "stderr",
     "output_type": "stream",
     "text": [
      "eval: 100%|██████████| 9/9 [00:00<00:00, 58.27it/s]\n"
     ]
    },
    {
     "name": "stdout",
     "output_type": "stream",
     "text": [
      "metric score {'accuracy': 0.5633802816901409}\n",
      "avg occupy 0.3578609244533317\n"
     ]
    },
    {
     "name": "stderr",
     "output_type": "stream",
     "text": [
      "eval: 100%|██████████| 9/9 [00:00<00:00, 36.04it/s]"
     ]
    },
    {
     "name": "stdout",
     "output_type": "stream",
     "text": [
      "metric score {'accuracy': 0.5633802816901409}\n",
      "avg occupy 0.3578609244533317\n",
      "9/9\n",
      "est_k: (108, 58.038095238095245), avg: 0.5373897707231041\n"
     ]
    },
    {
     "name": "stderr",
     "output_type": "stream",
     "text": [
      "\n"
     ]
    }
   ],
   "source": [
    "subsets = [\"cola\",\"mnli\",\"mrpc\",\"qnli\",\"qqp\",\"rte\",\"sst2\",\"stsb\",\"wnli\",]\n",
    "kss = [\n",
    "    0.1, 0.25, 0.375, 0.5, 0.625, 0.75, 0.875, 0.999, 'dynamic', \n",
    "    'dynamic:avg:avg:true', 'dynamic:avg:avg:false', 'dynamic:avg:max:true', 'dynamic:avg:max:false',\n",
    "    'dynamic:max:avg:true', 'dynamic:max:avg:false', 'dynamic:max:max:true', 'dynamic:max:max:false',\n",
    "]\n",
    "kss = ['dynamic']\n",
    "sparse.benchmark_reset()\n",
    "# subsets = [\"mrpc\"]\n",
    "# kss = ['dynamic:avg:avg:f',0.1]\n",
    "\n",
    "def get_score(score):\n",
    "    if 'accuracy' in score:\n",
    "        return score['accuracy'], \"acc\"\n",
    "    first_metric = list(score.keys())[0]\n",
    "    return score[first_metric], first_metric\n",
    "\n",
    "results = {}\n",
    "i = 0\n",
    "for subset in subsets:\n",
    "    trainer = Glue(dataset=subset, factor=16, batch_size=-1, device=0, wiki_train=True)\n",
    "    trainer.load()\n",
    "    scores = {}\n",
    "    metric_name = \"\"\n",
    "    bert_score, metric_name = get_score(trainer.eval_base_model())\n",
    "    scores['bert'] = f'{bert_score:.5f}'\n",
    "    for ks in kss:\n",
    "        sparse.benchmark_reset()\n",
    "        sparse_score, _ = get_score(trainer.eval_sparse_model(ks=ks))\n",
    "        if isinstance(ks, str) and ks.startswith('dynamic'):\n",
    "            est_k = sparse.benchmark_get_average('est_k')\n",
    "            scores[str(ks)] = f'{sparse_score:.5f} (k:{est_k:.2f})'\n",
    "        else:\n",
    "            scores[str(ks)] = f'{sparse_score:.5f}'\n",
    "        i += 1\n",
    "        count = len(subsets) * len(kss)\n",
    "        print(f'{i}/{count}')\n",
    "    results[f\"{subset} ({metric_name})\"] = scores\n",
    "\n",
    "with open(PICKLE_PATH, 'wb') as f:\n",
    "    pickle.dump(results, f)\n",
    "\n",
    "sparse.benchmark_report()"
   ]
  },
  {
   "cell_type": "code",
   "execution_count": 14,
   "metadata": {},
   "outputs": [
    {
     "name": "stderr",
     "output_type": "stream",
     "text": [
      "/tmp/ipykernel_89525/225414492.py:24: FutureWarning: In future versions `DataFrame.to_latex` is expected to utilise the base implementation of `Styler.to_latex` for formatting and rendering. The arguments signature may therefore change. It is recommended instead to use `DataFrame.style.to_latex` which also contains additional functionality.\n",
      "  tex = df.to_latex()\n"
     ]
    },
    {
     "data": {
      "text/html": [
       "<div>\n",
       "<style scoped>\n",
       "    .dataframe tbody tr th:only-of-type {\n",
       "        vertical-align: middle;\n",
       "    }\n",
       "\n",
       "    .dataframe tbody tr th {\n",
       "        vertical-align: top;\n",
       "    }\n",
       "\n",
       "    .dataframe thead th {\n",
       "        text-align: right;\n",
       "    }\n",
       "</style>\n",
       "<table border=\"1\" class=\"dataframe\">\n",
       "  <thead>\n",
       "    <tr style=\"text-align: right;\">\n",
       "      <th></th>\n",
       "      <th>cola (matthews_correlation)</th>\n",
       "      <th>mnli (acc)</th>\n",
       "      <th>mrpc (acc)</th>\n",
       "      <th>qnli (acc)</th>\n",
       "      <th>qqp (acc)</th>\n",
       "      <th>rte (acc)</th>\n",
       "      <th>sst2 (acc)</th>\n",
       "      <th>stsb (pearson)</th>\n",
       "      <th>wnli (acc)</th>\n",
       "    </tr>\n",
       "  </thead>\n",
       "  <tbody>\n",
       "    <tr>\n",
       "      <th>bert</th>\n",
       "      <td>0.53388</td>\n",
       "      <td>0.84198</td>\n",
       "      <td>0.84406</td>\n",
       "      <td>0.91543</td>\n",
       "      <td>0.90908</td>\n",
       "      <td>0.72563</td>\n",
       "      <td>0.92431</td>\n",
       "      <td>0.88047</td>\n",
       "      <td>0.56338</td>\n",
       "    </tr>\n",
       "    <tr>\n",
       "      <th>dynamic</th>\n",
       "      <td>0.53388 (k:0.48)</td>\n",
       "      <td>0.81559 (k:0.30)</td>\n",
       "      <td>0.74667 (k:0.66)</td>\n",
       "      <td>0.90445 (k:0.41)</td>\n",
       "      <td>0.90893 (k:0.43)</td>\n",
       "      <td>0.70758 (k:0.38)</td>\n",
       "      <td>0.92202 (k:0.69)</td>\n",
       "      <td>0.86572 (k:0.49)</td>\n",
       "      <td>0.56338 (k:0.54)</td>\n",
       "    </tr>\n",
       "    <tr>\n",
       "      <th>dynamic:original</th>\n",
       "      <td>0.53388 (k:0.48)</td>\n",
       "      <td>0.84004 (k:0.33)</td>\n",
       "      <td>0.83942 (k:0.71)</td>\n",
       "      <td>0.91287 (k:0.44)</td>\n",
       "      <td>0.90920 (k:0.45)</td>\n",
       "      <td>0.72563 (k:0.55)</td>\n",
       "      <td>0.92317 (k:0.73)</td>\n",
       "      <td>0.88043 (k:0.51)</td>\n",
       "      <td>0.56338 (k:0.63)</td>\n",
       "    </tr>\n",
       "  </tbody>\n",
       "</table>\n",
       "</div>"
      ],
      "text/plain": [
       "                 cola (matthews_correlation)        mnli (acc)  \\\n",
       "bert                                 0.53388           0.84198   \n",
       "dynamic                     0.53388 (k:0.48)  0.81559 (k:0.30)   \n",
       "dynamic:original            0.53388 (k:0.48)  0.84004 (k:0.33)   \n",
       "\n",
       "                        mrpc (acc)        qnli (acc)         qqp (acc)  \\\n",
       "bert                       0.84406           0.91543           0.90908   \n",
       "dynamic           0.74667 (k:0.66)  0.90445 (k:0.41)  0.90893 (k:0.43)   \n",
       "dynamic:original  0.83942 (k:0.71)  0.91287 (k:0.44)  0.90920 (k:0.45)   \n",
       "\n",
       "                         rte (acc)        sst2 (acc)    stsb (pearson)  \\\n",
       "bert                       0.72563           0.92431           0.88047   \n",
       "dynamic           0.70758 (k:0.38)  0.92202 (k:0.69)  0.86572 (k:0.49)   \n",
       "dynamic:original  0.72563 (k:0.55)  0.92317 (k:0.73)  0.88043 (k:0.51)   \n",
       "\n",
       "                        wnli (acc)  \n",
       "bert                       0.56338  \n",
       "dynamic           0.56338 (k:0.54)  \n",
       "dynamic:original  0.56338 (k:0.63)  "
      ]
     },
     "execution_count": 14,
     "metadata": {},
     "output_type": "execute_result"
    }
   ],
   "source": [
    "import pickle\n",
    "import pandas as pd\n",
    "\n",
    "with open(PICKLE_PATH, 'rb') as f:\n",
    "    results = pickle.load(f)\n",
    "with open('glue_benchmark.pkl', 'rb') as f:\n",
    "    results_original = pickle.load(f)\n",
    "\n",
    "def convert_data_to_results(results):\n",
    "    data = []\n",
    "    subsets = list(results.keys())\n",
    "    factors = list(results[subsets[0]].keys())\n",
    "    for factor in factors:             \n",
    "        row = []\n",
    "        for subset in subsets:\n",
    "            row.append(results[subset][factor])\n",
    "        data.append(row)\n",
    "    return data, factors\n",
    "\n",
    "data, factors = convert_data_to_results(results)\n",
    "data_origin, _ = convert_data_to_results(results_original)\n",
    "\n",
    "df = pd.DataFrame(data + [data_origin[9]], columns=subsets, index=factors+[\"dynamic:original\"])\n",
    "tex = df.to_latex()\n",
    "with open(TEX_PATH, 'w') as f:\n",
    "    f.write(tex)\n",
    "df"
   ]
  },
  {
   "cell_type": "markdown",
   "metadata": {},
   "source": [
    "# pre data augment\n",
    "\n",
    "cola (matthews_correlation)\tmnli (acc)\tmrpc (acc)\tqnli (acc)\tqqp (acc)\trte (acc)\tsst2 (acc)\tstsb (pearson)\twnli (acc)\n",
    "bert\t0.53388\t0.84198\t0.84406\t0.91543\t0.90908\t0.72563\t0.92431\t0.88047\t0.56338\n",
    "dynamic\t0.53388 (k:0.48)\t0.81559 (k:0.30)\t0.74667 (k:0.66)\t0.90445 (k:0.41)\t0.90893 (k:0.43)\t0.70758 (k:0.38)\t0.92202 (k:0.69)\t0.86572 (k:0.49)\t0.56338 (k:0.54)\n",
    "dynamic:original\t0.53388 (k:0.48)\t0.84004 (k:0.33)\t0.83942 (k:0.71)\t0.91287 (k:0.44)\t0.90920 (k:0.45)\t0.72563 (k:0.55)\t0.92317 (k:0.73)\t0.88043 (k:0.51)\t0.56338 (k:0.63)"
   ]
  },
  {
   "cell_type": "markdown",
   "metadata": {},
   "source": []
  }
 ],
 "metadata": {
  "interpreter": {
   "hash": "f7b3ac0126d0d6fea024471ce24e510948bf6332f7ae1a66cdcb4ee9887514e9"
  },
  "kernelspec": {
   "display_name": "Python 3.8.3 64-bit ('tensorflow': conda)",
   "name": "python3"
  },
  "language_info": {
   "codemirror_mode": {
    "name": "ipython",
    "version": 3
   },
   "file_extension": ".py",
   "mimetype": "text/x-python",
   "name": "python",
   "nbconvert_exporter": "python",
   "pygments_lexer": "ipython3",
   "version": "3.8.12"
  },
  "orig_nbformat": 4
 },
 "nbformat": 4,
 "nbformat_minor": 2
}
